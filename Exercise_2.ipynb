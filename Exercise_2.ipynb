{
 "cells": [
  {
   "cell_type": "code",
   "execution_count": 1,
   "id": "7a429e0a",
   "metadata": {},
   "outputs": [],
   "source": [
    "import numpy as np\n",
    "import jax.numpy as jnp\n",
    "from jax import jit"
   ]
  },
  {
   "cell_type": "code",
   "execution_count": 14,
   "id": "8bac137b",
   "metadata": {},
   "outputs": [],
   "source": [
    "# Build a toy discriminant\n",
    "\n",
    "obs_sig = np.random.normal(loc=3.0, scale=0.5, size=1000)\n",
    "obs_bkg = np.random.normal(loc=1.0, scale=0.5, size=1000)"
   ]
  },
  {
   "cell_type": "code",
   "execution_count": 15,
   "id": "6efe72e1",
   "metadata": {},
   "outputs": [],
   "source": [
    "hist_sig, bins = np.histogram(obs_sig)\n",
    "hist_bkg, bins = np.histogram(obs_bkg)"
   ]
  },
  {
   "cell_type": "code",
   "execution_count": 16,
   "id": "0337587b",
   "metadata": {},
   "outputs": [
    {
     "name": "stdout",
     "output_type": "stream",
     "text": [
      "[  7  26 131 204 273 214  95  37  11   2]\n",
      "[  5  17  59 107 222 259 183 108  31   9]\n"
     ]
    }
   ],
   "source": [
    "print(hist_sig)\n",
    "print(hist_bkg)"
   ]
  },
  {
   "cell_type": "code",
   "execution_count": 22,
   "id": "0c5b69a4",
   "metadata": {},
   "outputs": [
    {
     "data": {
      "text/plain": [
       "<matplotlib.legend.Legend at 0x7f7a4ad184c0>"
      ]
     },
     "execution_count": 22,
     "metadata": {},
     "output_type": "execute_result"
    },
    {
     "data": {
      "image/png": "[encoded data removed]",
      "text/plain": [
       "<Figure size 432x288 with 1 Axes>"
      ]
     },
     "metadata": {
      "needs_background": "light"
     },
     "output_type": "display_data"
    }
   ],
   "source": [
    "import mplhep as hep\n",
    "from matplotlib import pyplot as plt\n",
    "\n",
    "hep.histplot(hist_sig, bins, label='Signal')\n",
    "hep.histplot(hist_bkg, bins, label='Background')\n",
    "\n",
    "plt.xlabel('Number of events', size=12)\n",
    "plt.ylabel('Observed events', size=12)\n",
    "plt.legend(loc='upper right')"
   ]
  },
  {
   "cell_type": "code",
   "execution_count": 29,
   "id": "232c1d25",
   "metadata": {},
   "outputs": [],
   "source": [
    "# Build test statistic\n",
    "\n",
    "#Calculate the overall yield based on the value of signal strength mu\n",
    "\n",
    "@jit\n",
    "def sigma(mu, hist_sig, hist_bkg):\n",
    "    \n",
    "    sigma_mu_binned = mu*hist_sig+hist_bkg                     \n",
    "                        \n",
    "    return sigma_mu_binned"
   ]
  },
  {
   "cell_type": "code",
   "execution_count": 34,
   "id": "ce4108d0",
   "metadata": {},
   "outputs": [
    {
     "name": "stdout",
     "output_type": "stream",
     "text": [
      "[ 12.  43. 190. 311. 495. 473. 278. 145.  42.  11.]\n"
     ]
    }
   ],
   "source": [
    "print(sigma(1.0, hist_sig, hist_bkg))"
   ]
  },
  {
   "cell_type": "code",
   "execution_count": 35,
   "id": "0a04106d",
   "metadata": {},
   "outputs": [
    {
     "name": "stdout",
     "output_type": "stream",
     "text": [
      "[ 12  43 190 311 495 473 278 145  42  11]\n"
     ]
    }
   ],
   "source": [
    "N_obs_Asimov = hist_sig + hist_bkg\n",
    "print(N_obs_Asimov)"
   ]
  },
  {
   "cell_type": "code",
   "execution_count": 55,
   "id": "8d64363f",
   "metadata": {},
   "outputs": [],
   "source": [
    "def NLL(mu, hist_sig, hist_bkg):\n",
    "    \n",
    "    sigma_mu = sigma(mu, hist_sig, hist_bkg)\n",
    "\n",
    "    llr = jnp.array([-2*N_obs*jnp.log(sigma_mu)+2*sigma_mu]).sum()\n",
    "    \n",
    "    return llr\n"
   ]
  },
  {
   "cell_type": "code",
   "execution_count": 56,
   "id": "526f6d5a",
   "metadata": {},
   "outputs": [
    {
     "name": "stdout",
     "output_type": "stream",
     "text": [
      "394.81445\n"
     ]
    }
   ],
   "source": [
    "print(NLL(2.0, hist_sig, hist_bkg) - NLL(1.0, hist_sig, hist_bkg))"
   ]
  },
  {
   "cell_type": "code",
   "execution_count": 57,
   "id": "73040de1",
   "metadata": {},
   "outputs": [],
   "source": [
    "def NLL_minuit(mu):\n",
    "    \n",
    "    return NLL(mu, hist_sig, hist_bkg)"
   ]
  },
  {
   "cell_type": "code",
   "execution_count": 54,
   "id": "f7b2e9d0",
   "metadata": {},
   "outputs": [
    {
     "data": {
      "text/html": [
       "<table>\n",
       "    <tr>\n",
       "        <th colspan=\"5\" style=\"text-align:center\" title=\"Minimizer\"> Migrad </th>\n",
       "    </tr>\n",
       "    <tr>\n",
       "        <td colspan=\"2\" style=\"text-align:left\" title=\"Minimum value of function\"> FCN = -1.886e+04 </td>\n",
       "        <td colspan=\"3\" style=\"text-align:center\" title=\"No. of function evaluations in last call and total number\"> Nfcn = 9 </td>\n",
       "    </tr>\n",
       "    <tr>\n",
       "        <td colspan=\"2\" style=\"text-align:left\" title=\"Estimated distance to minimum and goal\"> EDM = 0.000488 (Goal: 0.0002) </td>\n",
       "        <td colspan=\"3\" style=\"text-align:center\" title=\"No. of gradient evaluations in last call and total number\">  </td>\n",
       "    </tr>\n",
       "    <tr>\n",
       "        <td colspan=\"2\" style=\"text-align:center;background-color:#92CCA6;color:black\"> Valid Minimum </td>\n",
       "        <td colspan=\"3\" style=\"text-align:center;background-color:#92CCA6;color:black\"> No Parameters at limit </td>\n",
       "    </tr>\n",
       "    <tr>\n",
       "        <td colspan=\"2\" style=\"text-align:center;background-color:#92CCA6;color:black\"> Below EDM threshold (goal x 10) </td>\n",
       "        <td colspan=\"3\" style=\"text-align:center;background-color:#92CCA6;color:black\"> Below call limit </td>\n",
       "    </tr>\n",
       "    <tr>\n",
       "        <td style=\"text-align:center;background-color:#92CCA6;color:black\"> Covariance </td>\n",
       "        <td style=\"text-align:center;background-color:#92CCA6;color:black\"> Hesse ok </td>\n",
       "        <td style=\"text-align:center;background-color:#FFF79A;color:black\" title=\"Is covariance matrix accurate?\"> APPROXIMATE </td>\n",
       "        <td style=\"text-align:center;background-color:#92CCA6;color:black\" title=\"Is covariance matrix positive definite?\"> Pos. def. </td>\n",
       "        <td style=\"text-align:center;background-color:#92CCA6;color:black\" title=\"Was positive definiteness enforced by Minuit?\"> Not forced </td>\n",
       "    </tr>\n",
       "</table><table>\n",
       "    <tr>\n",
       "        <td></td>\n",
       "        <th title=\"Variable name\"> Name </th>\n",
       "        <th title=\"Value of parameter\"> Value </th>\n",
       "        <th title=\"Hesse error\"> Hesse Error </th>\n",
       "        <th title=\"Minos lower error\"> Minos Error- </th>\n",
       "        <th title=\"Minos upper error\"> Minos Error+ </th>\n",
       "        <th title=\"Lower limit of the parameter\"> Limit- </th>\n",
       "        <th title=\"Upper limit of the parameter\"> Limit+ </th>\n",
       "        <th title=\"Is the parameter fixed in the fit\"> Fixed </th>\n",
       "    </tr>\n",
       "    <tr>\n",
       "        <th> 0 </th>\n",
       "        <td> mu </td>\n",
       "        <td> 1.000 </td>\n",
       "        <td> 0.015 </td>\n",
       "        <td>  </td>\n",
       "        <td>  </td>\n",
       "        <td>  </td>\n",
       "        <td>  </td>\n",
       "        <td>  </td>\n",
       "    </tr>\n",
       "</table><table>\n",
       "    <tr>\n",
       "        <td></td>\n",
       "        <th> mu </th>\n",
       "    </tr>\n",
       "    <tr>\n",
       "        <th> mu </th>\n",
       "        <td> 0.00023 </td>\n",
       "    </tr>\n",
       "</table>"
      ],
      "text/plain": [
       "┌─────────────────────────────────────────────────────────────────────────┐\n",
       "│                                Migrad                                   │\n",
       "├──────────────────────────────────┬──────────────────────────────────────┤\n",
       "│ FCN = -1.886e+04                 │               Nfcn = 9               │\n",
       "│ EDM = 0.000488 (Goal: 0.0002)    │                                      │\n",
       "├──────────────────────────────────┼──────────────────────────────────────┤\n",
       "│          Valid Minimum           │        No Parameters at limit        │\n",
       "├──────────────────────────────────┼──────────────────────────────────────┤\n",
       "│ Below EDM threshold (goal x 10)  │           Below call limit           │\n",
       "├───────────────┬──────────────────┼───────────┬─────────────┬────────────┤\n",
       "│  Covariance   │     Hesse ok     │APPROXIMATE│  Pos. def.  │ Not forced │\n",
       "└───────────────┴──────────────────┴───────────┴─────────────┴────────────┘\n",
       "┌───┬──────┬───────────┬───────────┬────────────┬────────────┬─────────┬─────────┬───────┐\n",
       "│   │ Name │   Value   │ Hesse Err │ Minos Err- │ Minos Err+ │ Limit-  │ Limit+  │ Fixed │\n",
       "├───┼──────┼───────────┼───────────┼────────────┼────────────┼─────────┼─────────┼───────┤\n",
       "│ 0 │ mu   │   1.000   │   0.015   │            │            │         │         │       │\n",
       "└───┴──────┴───────────┴───────────┴────────────┴────────────┴─────────┴─────────┴───────┘\n",
       "┌────┬─────────┐\n",
       "│    │      mu │\n",
       "├────┼─────────┤\n",
       "│ mu │ 0.00023 │\n",
       "└────┴─────────┘"
      ]
     },
     "execution_count": 54,
     "metadata": {},
     "output_type": "execute_result"
    }
   ],
   "source": [
    "from iminuit import Minuit\n",
    "from jax import grad\n",
    "\n",
    "m1 = Minuit(jit(NLL_minuit), jnp.array([1.0]), grad=jit(grad(NLL_minuit)))\n",
    "m1.errordef = Minuit.LEAST_SQUARES\n",
    "m1.strategy = 0\n",
    "m1.migrad()"
   ]
  },
  {
   "cell_type": "code",
   "execution_count": 59,
   "id": "8068c068",
   "metadata": {},
   "outputs": [
    {
     "name": "stdout",
     "output_type": "stream",
     "text": [
      "8.4 ms ± 250 µs per loop (mean ± std. dev. of 7 runs, 100 loops each)\n"
     ]
    }
   ],
   "source": [
    "%%timeit\n",
    "\n",
    "m1 = Minuit(NLL_minuit, jnp.array([1.0]), grad=grad(NLL_minuit))\n",
    "m1.errordef = Minuit.LEAST_SQUARES\n",
    "m1.strategy = 2\n",
    "m1.migrad()"
   ]
  },
  {
   "cell_type": "code",
   "execution_count": 60,
   "id": "cb08767f",
   "metadata": {},
   "outputs": [
    {
     "name": "stdout",
     "output_type": "stream",
     "text": [
      "944 µs ± 6.58 µs per loop (mean ± std. dev. of 7 runs, 1000 loops each)\n"
     ]
    }
   ],
   "source": [
    "%%timeit\n",
    "\n",
    "m1 = Minuit(jit(NLL_minuit), jnp.array([1.0]), grad=jit(grad(NLL_minuit)))\n",
    "m1.errordef = Minuit.LEAST_SQUARES\n",
    "m1.strategy = 2\n",
    "m1.migrad()"
   ]
  },
  {
   "cell_type": "code",
   "execution_count": null,
   "id": "67e28d93",
   "metadata": {},
   "outputs": [],
   "source": []
  }
 ],
 "metadata": {
  "kernelspec": {
   "display_name": "Python 3",
   "language": "python",
   "name": "python3"
  },
  "language_info": {
   "codemirror_mode": {
    "name": "ipython",
    "version": 3
   },
   "file_extension": ".py",
   "mimetype": "text/x-python",
   "name": "python",
   "nbconvert_exporter": "python",
   "pygments_lexer": "ipython3",
   "version": "3.9.12"
  }
 },
 "nbformat": 4,
 "nbformat_minor": 5
}
