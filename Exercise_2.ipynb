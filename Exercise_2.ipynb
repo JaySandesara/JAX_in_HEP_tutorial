{
 "cells": [
  {
   "cell_type": "code",
   "execution_count": 1,
   "id": "291f0b6d",
   "metadata": {},
   "outputs": [],
   "source": [
    "import numpy as np\n",
    "import jax.numpy as jnp\n",
    "from jax import jit"
   ]
  },
  {
   "cell_type": "code",
   "execution_count": 2,
   "id": "ff8c026b",
   "metadata": {},
   "outputs": [],
   "source": [
    "# Build a toy discriminant\n",
    "\n",
    "obs_sig = np.random.normal(loc=1.5, scale=0.5, size=2000)\n",
    "obs_bkg = np.random.normal(loc=1.0, scale=0.5, size=5000)"
   ]
  },
  {
   "cell_type": "code",
   "execution_count": 3,
   "id": "2633f26a",
   "metadata": {},
   "outputs": [],
   "source": [
    "xmin = np.amin(obs_bkg)\n",
    "xmax = np.amax(obs_sig)\n",
    "\n",
    "bins = np.linspace(xmin, xmax, num=7)\n",
    "\n",
    "hist_sig, _ = np.histogram(obs_sig, bins)\n",
    "hist_bkg, _ = np.histogram(obs_bkg, bins)"
   ]
  },
  {
   "cell_type": "code",
   "execution_count": 4,
   "id": "27c98835",
   "metadata": {},
   "outputs": [
    {
     "name": "stdout",
     "output_type": "stream",
     "text": [
      "[  1  75 491 918 457  58]\n",
      "[  90  839 2329 1503  232    7]\n"
     ]
    }
   ],
   "source": [
    "print(hist_sig)\n",
    "print(hist_bkg)"
   ]
  },
  {
   "cell_type": "code",
   "execution_count": 5,
   "id": "c62a6200",
   "metadata": {},
   "outputs": [
    {
     "data": {
      "image/png": "[encoded data removed]",
      "text/plain": [
       "<Figure size 432x288 with 1 Axes>"
      ]
     },
     "metadata": {
      "needs_background": "light"
     },
     "output_type": "display_data"
    }
   ],
   "source": [
    "import mplhep as hep\n",
    "from matplotlib import pyplot as plt\n",
    "\n",
    "hep.histplot(hist_sig, bins, label='Signal')\n",
    "hep.histplot(hist_bkg, bins, label='Background')\n",
    "\n",
    "plt.xlabel('Observable', size=12)\n",
    "plt.ylabel('Number of events', size=12)\n",
    "plt.legend(loc='upper right')\n",
    "plt.yscale('log')"
   ]
  },
  {
   "cell_type": "code",
   "execution_count": 37,
   "id": "3b537bab",
   "metadata": {},
   "outputs": [],
   "source": [
    "# Build test statistic\n",
    "\n",
    "# Calculate the overall yield based on the value of signal strength mu\n",
    "\n",
    "def sigma(mu, hist_sig, hist_bkg):\n",
    "    \n",
    "    sigma_mu_binned = mu*hist_sig+hist_bkg  \n",
    "                        \n",
    "    return sigma_mu_binned\n"
   ]
  },
  {
   "cell_type": "code",
   "execution_count": 8,
   "id": "a3f9b332",
   "metadata": {},
   "outputs": [
    {
     "name": "stderr",
     "output_type": "stream",
     "text": [
      "WARNING:absl:No GPU/TPU found, falling back to CPU. (Set TF_CPP_MIN_LOG_LEVEL=0 and rerun for more info.)\n"
     ]
    },
    {
     "name": "stdout",
     "output_type": "stream",
     "text": [
      "[  91.  914. 2820. 2421.  689.   65.]\n"
     ]
    }
   ],
   "source": [
    "print(sigma(1.0, hist_sig, hist_bkg))"
   ]
  },
  {
   "cell_type": "code",
   "execution_count": 12,
   "id": "2b4e1f5b",
   "metadata": {},
   "outputs": [
    {
     "name": "stdout",
     "output_type": "stream",
     "text": [
      "(6,)\n",
      "(6,)\n",
      "(6,)\n"
     ]
    }
   ],
   "source": [
    "N_obs_Asimov = hist_sig + hist_bkg\n",
    "print(N_obs_Asimov.shape)\n",
    "print(hist_sig.shape)\n",
    "print(hist_bkg.shape)"
   ]
  },
  {
   "cell_type": "code",
   "execution_count": 38,
   "id": "afb95e8d",
   "metadata": {},
   "outputs": [],
   "source": [
    "def NLL(mu, hist_sig, hist_bkg, N_obs_Asimov):\n",
    "    \n",
    "    sigma_mu = sigma(mu, hist_sig, hist_bkg)\n",
    "\n",
    "    llr = jnp.array([-2*N_obs_Asimov*jnp.log(sigma_mu)+2*sigma_mu]).sum()\n",
    "    \n",
    "    return llr\n"
   ]
  },
  {
   "cell_type": "code",
   "execution_count": 39,
   "id": "938fbe52",
   "metadata": {},
   "outputs": [
    {
     "name": "stdout",
     "output_type": "stream",
     "text": [
      "0.0859375\n"
     ]
    }
   ],
   "source": [
    "print( NLL( 1.01, hist_sig, hist_bkg, N_obs_Asimov ) - NLL( 1.0, hist_sig, hist_bkg, N_obs_Asimov ) )"
   ]
  },
  {
   "cell_type": "code",
   "execution_count": 40,
   "id": "55f545a6",
   "metadata": {},
   "outputs": [],
   "source": [
    "def NLL_minuit(mu):\n",
    "    \n",
    "    return NLL(mu, hist_sig, hist_bkg, N_obs_Asimov)"
   ]
  },
  {
   "cell_type": "code",
   "execution_count": 22,
   "id": "9f8893f6",
   "metadata": {},
   "outputs": [
    {
     "data": {
      "text/html": [
       "<table>\n",
       "    <tr>\n",
       "        <th colspan=\"5\" style=\"text-align:center\" title=\"Minimizer\"> Migrad </th>\n",
       "    </tr>\n",
       "    <tr>\n",
       "        <td colspan=\"2\" style=\"text-align:left\" title=\"Minimum value of function\"> FCN = -9.137e+04 </td>\n",
       "        <td colspan=\"3\" style=\"text-align:center\" title=\"No. of function evaluations in last call and total number\"> Nfcn = 41 </td>\n",
       "    </tr>\n",
       "    <tr>\n",
       "        <td colspan=\"2\" style=\"text-align:left\" title=\"Estimated distance to minimum and goal\"> EDM = 0.00035 (Goal: 0.0002) </td>\n",
       "        <td colspan=\"3\" style=\"text-align:center\" title=\"No. of gradient evaluations in last call and total number\">  </td>\n",
       "    </tr>\n",
       "    <tr>\n",
       "        <td colspan=\"2\" style=\"text-align:center;background-color:#92CCA6;color:black\"> Valid Minimum </td>\n",
       "        <td colspan=\"3\" style=\"text-align:center;background-color:#92CCA6;color:black\"> No Parameters at limit </td>\n",
       "    </tr>\n",
       "    <tr>\n",
       "        <td colspan=\"2\" style=\"text-align:center;background-color:#92CCA6;color:black\"> Below EDM threshold (goal x 10) </td>\n",
       "        <td colspan=\"3\" style=\"text-align:center;background-color:#92CCA6;color:black\"> Below call limit </td>\n",
       "    </tr>\n",
       "    <tr>\n",
       "        <td style=\"text-align:center;background-color:#92CCA6;color:black\"> Covariance </td>\n",
       "        <td style=\"text-align:center;background-color:#92CCA6;color:black\"> Hesse ok </td>\n",
       "        <td style=\"text-align:center;background-color:#92CCA6;color:black\" title=\"Is covariance matrix accurate?\"> Accurate </td>\n",
       "        <td style=\"text-align:center;background-color:#92CCA6;color:black\" title=\"Is covariance matrix positive definite?\"> Pos. def. </td>\n",
       "        <td style=\"text-align:center;background-color:#92CCA6;color:black\" title=\"Was positive definiteness enforced by Minuit?\"> Not forced </td>\n",
       "    </tr>\n",
       "</table><table>\n",
       "    <tr>\n",
       "        <td></td>\n",
       "        <th title=\"Variable name\"> Name </th>\n",
       "        <th title=\"Value of parameter\"> Value </th>\n",
       "        <th title=\"Hesse error\"> Hesse Error </th>\n",
       "        <th title=\"Minos lower error\"> Minos Error- </th>\n",
       "        <th title=\"Minos upper error\"> Minos Error+ </th>\n",
       "        <th title=\"Lower limit of the parameter\"> Limit- </th>\n",
       "        <th title=\"Upper limit of the parameter\"> Limit+ </th>\n",
       "        <th title=\"Is the parameter fixed in the fit\"> Fixed </th>\n",
       "    </tr>\n",
       "    <tr>\n",
       "        <th> 0 </th>\n",
       "        <td> mu </td>\n",
       "        <td> 1.000 </td>\n",
       "        <td> 0.035 </td>\n",
       "        <td> -0.035 </td>\n",
       "        <td> 0.036 </td>\n",
       "        <td>  </td>\n",
       "        <td>  </td>\n",
       "        <td>  </td>\n",
       "    </tr>\n",
       "</table><table>\n",
       "    <tr>\n",
       "        <td></td>\n",
       "        <th colspan=\"2\" style=\"text-align:center\" title=\"Parameter name\"> mu </th>\n",
       "    </tr>\n",
       "    <tr>\n",
       "        <th title=\"Lower and upper minos error of the parameter\"> Error </th>\n",
       "        <td> -0.035 </td>\n",
       "        <td> 0.036 </td>\n",
       "    </tr>\n",
       "    <tr>\n",
       "        <th title=\"Validity of lower/upper minos error\"> Valid </th>\n",
       "        <td style=\"background-color:#92CCA6;color:black\"> True </td>\n",
       "        <td style=\"background-color:#92CCA6;color:black\"> True </td>\n",
       "    </tr>\n",
       "    <tr>\n",
       "        <th title=\"Did scan hit limit of any parameter?\"> At Limit </th>\n",
       "        <td style=\"background-color:#92CCA6;color:black\"> False </td>\n",
       "        <td style=\"background-color:#92CCA6;color:black\"> False </td>\n",
       "    </tr>\n",
       "    <tr>\n",
       "        <th title=\"Did scan hit function call limit?\"> Max FCN </th>\n",
       "        <td style=\"background-color:#92CCA6;color:black\"> False </td>\n",
       "        <td style=\"background-color:#92CCA6;color:black\"> False </td>\n",
       "    </tr>\n",
       "    <tr>\n",
       "        <th title=\"New minimum found when doing scan?\"> New Min </th>\n",
       "        <td style=\"background-color:#92CCA6;color:black\"> False </td>\n",
       "        <td style=\"background-color:#92CCA6;color:black\"> False </td>\n",
       "    </tr>\n",
       "</table><table>\n",
       "    <tr>\n",
       "        <td></td>\n",
       "        <th> mu </th>\n",
       "    </tr>\n",
       "    <tr>\n",
       "        <th> mu </th>\n",
       "        <td> 0.00125 </td>\n",
       "    </tr>\n",
       "</table>"
      ],
      "text/plain": [
       "┌─────────────────────────────────────────────────────────────────────────┐\n",
       "│                                Migrad                                   │\n",
       "├──────────────────────────────────┬──────────────────────────────────────┤\n",
       "│ FCN = -9.137e+04                 │              Nfcn = 41               │\n",
       "│ EDM = 0.00035 (Goal: 0.0002)     │                                      │\n",
       "├──────────────────────────────────┼──────────────────────────────────────┤\n",
       "│          Valid Minimum           │        No Parameters at limit        │\n",
       "├──────────────────────────────────┼──────────────────────────────────────┤\n",
       "│ Below EDM threshold (goal x 10)  │           Below call limit           │\n",
       "├───────────────┬──────────────────┼───────────┬─────────────┬────────────┤\n",
       "│  Covariance   │     Hesse ok     │ Accurate  │  Pos. def.  │ Not forced │\n",
       "└───────────────┴──────────────────┴───────────┴─────────────┴────────────┘\n",
       "┌───┬──────┬───────────┬───────────┬────────────┬────────────┬─────────┬─────────┬───────┐\n",
       "│   │ Name │   Value   │ Hesse Err │ Minos Err- │ Minos Err+ │ Limit-  │ Limit+  │ Fixed │\n",
       "├───┼──────┼───────────┼───────────┼────────────┼────────────┼─────────┼─────────┼───────┤\n",
       "│ 0 │ mu   │   1.000   │   0.035   │   -0.035   │   0.036    │         │         │       │\n",
       "└───┴──────┴───────────┴───────────┴────────────┴────────────┴─────────┴─────────┴───────┘\n",
       "┌──────────┬───────────────────────┐\n",
       "│          │          mu           │\n",
       "├──────────┼───────────┬───────────┤\n",
       "│  Error   │  -0.035   │   0.036   │\n",
       "│  Valid   │   True    │   True    │\n",
       "│ At Limit │   False   │   False   │\n",
       "│ Max FCN  │   False   │   False   │\n",
       "│ New Min  │   False   │   False   │\n",
       "└──────────┴───────────┴───────────┘\n",
       "┌────┬─────────┐\n",
       "│    │      mu │\n",
       "├────┼─────────┤\n",
       "│ mu │ 0.00125 │\n",
       "└────┴─────────┘"
      ]
     },
     "execution_count": 22,
     "metadata": {},
     "output_type": "execute_result"
    }
   ],
   "source": [
    "from iminuit import Minuit\n",
    "from jax import grad\n",
    "\n",
    "m1 = Minuit(jit(NLL_minuit), jnp.array([1.0]), grad=jit(grad(NLL_minuit)))\n",
    "m1.errordef = Minuit.LEAST_SQUARES\n",
    "#m1.precision = 1e-7\n",
    "m1.strategy = 2\n",
    "m1.migrad()\n",
    "m1.minos()"
   ]
  },
  {
   "cell_type": "code",
   "execution_count": 23,
   "id": "10dc6591",
   "metadata": {},
   "outputs": [
    {
     "name": "stdout",
     "output_type": "stream",
     "text": [
      "Maximum Likelihood Estimate for POI : [1.]\n",
      "Error estimates for POI : [0.03540399]\n"
     ]
    }
   ],
   "source": [
    "# We can get the best-fit values straight from iMinuit!\n",
    "\n",
    "print(\"Maximum Likelihood Estimate for POI : \"+str(np.array(m1.values)))\n",
    "print(f\"Error estimates for POI : \"+str(np.array(m1.errors)))"
   ]
  },
  {
   "cell_type": "code",
   "execution_count": 41,
   "id": "1ddf5210",
   "metadata": {},
   "outputs": [
    {
     "name": "stdout",
     "output_type": "stream",
     "text": [
      "18.1 ms ± 230 µs per loop (mean ± std. dev. of 7 runs, 100 loops each)\n"
     ]
    }
   ],
   "source": [
    "%%timeit\n",
    "\n",
    "m1 = Minuit(NLL_minuit, jnp.array([1.0]), grad=grad(NLL_minuit))\n",
    "m1.errordef = Minuit.LEAST_SQUARES\n",
    "m1.strategy = 2\n",
    "m1.migrad()"
   ]
  },
  {
   "cell_type": "code",
   "execution_count": 42,
   "id": "c0ec8d56",
   "metadata": {},
   "outputs": [
    {
     "name": "stdout",
     "output_type": "stream",
     "text": [
      "1.28 ms ± 13.4 µs per loop (mean ± std. dev. of 7 runs, 1000 loops each)\n"
     ]
    }
   ],
   "source": [
    "%%timeit\n",
    "\n",
    "m1 = Minuit(jit(NLL_minuit), jnp.array([1.0]), grad=jit(grad(NLL_minuit)))\n",
    "m1.errordef = Minuit.LEAST_SQUARES\n",
    "m1.strategy = 2\n",
    "m1.migrad()"
   ]
  },
  {
   "cell_type": "code",
   "execution_count": 43,
   "id": "591c66ca",
   "metadata": {},
   "outputs": [
    {
     "data": {
      "text/plain": [
       "Text(0.5, 1.0, '')"
      ]
     },
     "execution_count": 43,
     "metadata": {},
     "output_type": "execute_result"
    },
    {
     "data": {
      "image/png": "[encoded data removed]",
      "text/plain": [
       "<Figure size 432x288 with 1 Axes>"
      ]
     },
     "metadata": {
      "needs_background": "light"
     },
     "output_type": "display_data"
    }
   ],
   "source": [
    "bins, values = m1.draw_mnprofile('mu', bound=(0.9,1.1), size=100, subtract_min=True, band=False)\n",
    "\n",
    "plt.plot(bins, values)\n",
    "plt.axis(ymax=5.0, ymin=0.0)\n",
    "plt.ylabel('Profile Likelihood Ratio')\n",
    "plt.axhline(y = 1.0, color = 'orange', linestyle = '--')\n",
    "plt.axhline(y = 4.0, color = 'orange', linestyle = '--')\n",
    "plt.title('')"
   ]
  },
  {
   "cell_type": "code",
   "execution_count": 52,
   "id": "3e7650b6",
   "metadata": {},
   "outputs": [],
   "source": [
    "\n",
    "#from jax.config import config\n",
    "#config.update(\"jax_debug_nans\", True)\n",
    "\n",
    "@jit\n",
    "def poly_interp(tuple_input):\n",
    "    \n",
    "    alpha, varUp, varDown, varNom = tuple_input\n",
    "    \n",
    "    pow_up = jnp.divide(varUp,varNom)\n",
    "    pow_down = jnp.divide(varDown,varNom)\n",
    "    logHi = jnp.log(jnp.clip(pow_up,1e-7,None))\n",
    "    logLo = jnp.log(jnp.clip(pow_down,1e-7,None))\n",
    "    logHi = jnp.log(pow_up)\n",
    "    logLo = jnp.log(pow_down)\n",
    "    pow_up_log = jnp.multiply(pow_up,logHi)\n",
    "    pow_down_log = -jnp.multiply(pow_down,logLo)\n",
    "    pow_up_log2 = jnp.multiply(pow_up_log,logHi)\n",
    "    pow_down_log2 = -jnp.multiply(pow_down_log,logLo)\n",
    "    \n",
    "    S0 = (pow_up+pow_down)/2.0\n",
    "    A0 = (pow_up-pow_down)/2.0\n",
    "    S1 = (pow_up_log+pow_down_log)/2.0\n",
    "    A1 = (pow_up_log-pow_down_log)/2.0\n",
    "    S2 = (pow_up_log2+pow_down_log2)/2.0\n",
    "    A2 = (pow_up_log2-pow_down_log2)/2.0\n",
    " \n",
    "    a1 = (15*A0-7*S1+A2)/8.0\n",
    "    a2 = (-24+24*S0-9*A1+S2)/8.0\n",
    "    a3 = (-5*A0+5*S1-A2)/4.0\n",
    "    a4 = (12-12*S0+7*A1-S2)/4.0\n",
    "    a5 = (3*A0-3*S1+A2)/8.0\n",
    "    a6 = (-8+8*S0-5*A1+S2)/8.0\n",
    "\n",
    "    return 1.0 + alpha * (a1 + alpha * ( a2 + alpha * ( a3 + alpha * ( a4 + alpha * ( a5 + alpha * a6 ) ) ) ) )\n",
    "    \n",
    "\n",
    "@jit\n",
    "def exp_interp(tuple_input):\n",
    "    \n",
    "    alpha, varUp, varDown, varNom = tuple_input\n",
    "    \n",
    "    return jnp.where(alpha>1.0, (varUp/varNom)**alpha, (varDown/varNom)**(-alpha))\n",
    "\n",
    "\n",
    "@jit\n",
    "def lin_interp(alpha, varUp, varDown):\n",
    "    \n",
    "    return jnp.where(alpha>=0.0, (alpha*(varUp-1)), (alpha*(varDown-1)))\n",
    "\n",
    "@jit\n",
    "def sigma(mu, hist_sig, hist_bkg, fact_sig, fact_big):\n",
    "    \n",
    "    sigma_mu_binned = mu*hist_sig*fact_sig + hist_bkg*fact_big\n",
    "                        \n",
    "    return sigma_mu_binned\n"
   ]
  },
  {
   "cell_type": "code",
   "execution_count": 94,
   "id": "e09b901f",
   "metadata": {},
   "outputs": [],
   "source": [
    "NP_size = 10\n",
    "\n",
    "param_array = [0.0] * (NP_size+1)\n",
    "\n",
    "param_array[0] = 1.0 \n",
    "param_array = jnp.array(param_array, dtype='float32')\n",
    "\n",
    "arr_ratio_up_sig = jnp.abs(np.random.normal(1.0, 0.5, NP_size))\n",
    "arr_ratio_down_sig = 2.0 - arr_ratio_up_sig\n",
    "\n",
    "arr_ratio_up_bkg = jnp.abs(np.random.normal(1.0, 0.5, NP_size))\n",
    "arr_ratio_down_bkg = 2.0 - arr_ratio_up_bkg\n"
   ]
  },
  {
   "cell_type": "code",
   "execution_count": 95,
   "id": "a8a9b3a4",
   "metadata": {},
   "outputs": [
    {
     "name": "stdout",
     "output_type": "stream",
     "text": [
      "[1.6450629  0.9622708  0.47937047 0.52829546 0.87267655 1.4509971\n",
      " 0.7174294  0.7585183  1.5117334  1.2986413 ]\n"
     ]
    }
   ],
   "source": [
    "print(arr_ratio_up_sig)"
   ]
  },
  {
   "cell_type": "code",
   "execution_count": 123,
   "id": "5ab6a964",
   "metadata": {},
   "outputs": [],
   "source": [
    "import jax\n",
    "\n",
    "@jit\n",
    "def NLL(param_array, hist_sig, hist_bkg, N_obs_Asimov, arr_ratio_up_sig, arr_ratio_down_sig, arr_ratio_up_bkg, arr_ratio_down_bkg):\n",
    "    \n",
    "    mu = param_array.at[0]\n",
    "        \n",
    "    def syst_update(n, carry):\n",
    "        \n",
    "        fact_sig, fact_bkg = carry\n",
    "\n",
    "        fact_sig *= jax.lax.cond(jnp.abs(param_array.at[n])<=1.0, poly_interp, exp_interp, (param_array.at[n], arr_ratio_up_sig.at[n-1], arr_ratio_down_sig.at[n-1], 1.0))\n",
    "\n",
    "        fact_bkg *= jax.lax.cond(jnp.abs(param_array.at[n])<=1.0, poly_interp, exp_interp, (param_array.at[n], arr_ratio_up_bkg.at[n-1], arr_ratio_down_bkg.at[n-1], 1.0))\n",
    "        \n",
    "        return (fact_sig, fact_bkg)\n",
    "        \n",
    "    fact_sig, fact_bkg = jax.lax.fori_loop(1, len(param_array), syst_update, jnp.ones(2))\n",
    "    \n",
    "    sigma_mu = sigma(mu, hist_sig, hist_bkg, fact_sig, fact_big)\n",
    "\n",
    "    llr = jnp.array([-2*N_obs_Asimov*jnp.log(sigma_mu)+2*sigma_mu]).sum()    \n",
    "    \n",
    "    return llr\n",
    "    "
   ]
  },
  {
   "cell_type": "code",
   "execution_count": 124,
   "id": "0546dc2d",
   "metadata": {},
   "outputs": [
    {
     "name": "stdout",
     "output_type": "stream",
     "text": [
      "[1. 1.]\n"
     ]
    }
   ],
   "source": [
    "print(jnp.ones(2))"
   ]
  },
  {
   "cell_type": "code",
   "execution_count": 125,
   "id": "ec046ab9",
   "metadata": {},
   "outputs": [
    {
     "ename": "TypeError",
     "evalue": "Argument '_IndexUpdateRef(Traced<ShapedArray(float32[11])>with<DynamicJaxprTrace(level=0/1)>, Traced<ShapedArray(int32[], weak_type=True)>with<DynamicJaxprTrace(level=1/1)>)' of type <class 'jax._src.numpy.lax_numpy._IndexUpdateRef'> is not a valid JAX type.",
     "output_type": "error",
     "traceback": [
      "\u001b[0;31m---------------------------------------------------------------------------\u001b[0m",
      "\u001b[0;31mTypeError\u001b[0m                                 Traceback (most recent call last)",
      "\u001b[0;32m/tmp/ipykernel_1699/1946182244.py\u001b[0m in \u001b[0;36m<module>\u001b[0;34m\u001b[0m\n\u001b[0;32m----> 1\u001b[0;31m print(NLL(param_array, hist_sig, hist_bkg, N_obs_Asimov, \n\u001b[0m\u001b[1;32m      2\u001b[0m           arr_ratio_up_sig, arr_ratio_down_sig, arr_ratio_up_bkg, arr_ratio_down_bkg))\n",
      "    \u001b[0;31m[... skipping hidden 14 frame]\u001b[0m\n",
      "\u001b[0;32m/tmp/ipykernel_1699/1769641434.py\u001b[0m in \u001b[0;36mNLL\u001b[0;34m(param_array, hist_sig, hist_bkg, N_obs_Asimov, arr_ratio_up_sig, arr_ratio_down_sig, arr_ratio_up_bkg, arr_ratio_down_bkg)\u001b[0m\n\u001b[1;32m     16\u001b[0m         \u001b[0;32mreturn\u001b[0m \u001b[0;34m(\u001b[0m\u001b[0mfact_sig\u001b[0m\u001b[0;34m,\u001b[0m \u001b[0mfact_bkg\u001b[0m\u001b[0;34m)\u001b[0m\u001b[0;34m\u001b[0m\u001b[0;34m\u001b[0m\u001b[0m\n\u001b[1;32m     17\u001b[0m \u001b[0;34m\u001b[0m\u001b[0m\n\u001b[0;32m---> 18\u001b[0;31m     \u001b[0mfact_sig\u001b[0m\u001b[0;34m,\u001b[0m \u001b[0mfact_bkg\u001b[0m \u001b[0;34m=\u001b[0m \u001b[0mjax\u001b[0m\u001b[0;34m.\u001b[0m\u001b[0mlax\u001b[0m\u001b[0;34m.\u001b[0m\u001b[0mfori_loop\u001b[0m\u001b[0;34m(\u001b[0m\u001b[0;36m1\u001b[0m\u001b[0;34m,\u001b[0m \u001b[0mlen\u001b[0m\u001b[0;34m(\u001b[0m\u001b[0mparam_array\u001b[0m\u001b[0;34m)\u001b[0m\u001b[0;34m,\u001b[0m \u001b[0msyst_update\u001b[0m\u001b[0;34m,\u001b[0m \u001b[0mjnp\u001b[0m\u001b[0;34m.\u001b[0m\u001b[0mones\u001b[0m\u001b[0;34m(\u001b[0m\u001b[0;36m2\u001b[0m\u001b[0;34m)\u001b[0m\u001b[0;34m)\u001b[0m\u001b[0;34m\u001b[0m\u001b[0;34m\u001b[0m\u001b[0m\n\u001b[0m\u001b[1;32m     19\u001b[0m \u001b[0;34m\u001b[0m\u001b[0m\n\u001b[1;32m     20\u001b[0m     \u001b[0msigma_mu\u001b[0m \u001b[0;34m=\u001b[0m \u001b[0msigma\u001b[0m\u001b[0;34m(\u001b[0m\u001b[0mmu\u001b[0m\u001b[0;34m,\u001b[0m \u001b[0mhist_sig\u001b[0m\u001b[0;34m,\u001b[0m \u001b[0mhist_bkg\u001b[0m\u001b[0;34m,\u001b[0m \u001b[0mfact_sig\u001b[0m\u001b[0;34m,\u001b[0m \u001b[0mfact_big\u001b[0m\u001b[0;34m)\u001b[0m\u001b[0;34m\u001b[0m\u001b[0;34m\u001b[0m\u001b[0m\n",
      "    \u001b[0;31m[... skipping hidden 16 frame]\u001b[0m\n",
      "\u001b[0;32m/tmp/ipykernel_1699/1769641434.py\u001b[0m in \u001b[0;36msyst_update\u001b[0;34m(n, carry)\u001b[0m\n\u001b[1;32m     10\u001b[0m         \u001b[0mfact_sig\u001b[0m\u001b[0;34m,\u001b[0m \u001b[0mfact_bkg\u001b[0m \u001b[0;34m=\u001b[0m \u001b[0mcarry\u001b[0m\u001b[0;34m\u001b[0m\u001b[0;34m\u001b[0m\u001b[0m\n\u001b[1;32m     11\u001b[0m \u001b[0;34m\u001b[0m\u001b[0m\n\u001b[0;32m---> 12\u001b[0;31m         \u001b[0mfact_sig\u001b[0m \u001b[0;34m*=\u001b[0m \u001b[0mjax\u001b[0m\u001b[0;34m.\u001b[0m\u001b[0mlax\u001b[0m\u001b[0;34m.\u001b[0m\u001b[0mcond\u001b[0m\u001b[0;34m(\u001b[0m\u001b[0mjnp\u001b[0m\u001b[0;34m.\u001b[0m\u001b[0mabs\u001b[0m\u001b[0;34m(\u001b[0m\u001b[0mparam_array\u001b[0m\u001b[0;34m.\u001b[0m\u001b[0mat\u001b[0m\u001b[0;34m[\u001b[0m\u001b[0mn\u001b[0m\u001b[0;34m]\u001b[0m\u001b[0;34m)\u001b[0m\u001b[0;34m<=\u001b[0m\u001b[0;36m1.0\u001b[0m\u001b[0;34m,\u001b[0m \u001b[0mpoly_interp\u001b[0m\u001b[0;34m,\u001b[0m \u001b[0mexp_interp\u001b[0m\u001b[0;34m,\u001b[0m \u001b[0;34m(\u001b[0m\u001b[0mparam_array\u001b[0m\u001b[0;34m.\u001b[0m\u001b[0mat\u001b[0m\u001b[0;34m[\u001b[0m\u001b[0mn\u001b[0m\u001b[0;34m]\u001b[0m\u001b[0;34m,\u001b[0m \u001b[0marr_ratio_up_sig\u001b[0m\u001b[0;34m.\u001b[0m\u001b[0mat\u001b[0m\u001b[0;34m[\u001b[0m\u001b[0mn\u001b[0m\u001b[0;34m-\u001b[0m\u001b[0;36m1\u001b[0m\u001b[0;34m]\u001b[0m\u001b[0;34m,\u001b[0m \u001b[0marr_ratio_down_sig\u001b[0m\u001b[0;34m.\u001b[0m\u001b[0mat\u001b[0m\u001b[0;34m[\u001b[0m\u001b[0mn\u001b[0m\u001b[0;34m-\u001b[0m\u001b[0;36m1\u001b[0m\u001b[0;34m]\u001b[0m\u001b[0;34m,\u001b[0m \u001b[0;36m1.0\u001b[0m\u001b[0;34m)\u001b[0m\u001b[0;34m)\u001b[0m\u001b[0;34m\u001b[0m\u001b[0;34m\u001b[0m\u001b[0m\n\u001b[0m\u001b[1;32m     13\u001b[0m \u001b[0;34m\u001b[0m\u001b[0m\n\u001b[1;32m     14\u001b[0m         \u001b[0mfact_bkg\u001b[0m \u001b[0;34m*=\u001b[0m \u001b[0mjax\u001b[0m\u001b[0;34m.\u001b[0m\u001b[0mlax\u001b[0m\u001b[0;34m.\u001b[0m\u001b[0mcond\u001b[0m\u001b[0;34m(\u001b[0m\u001b[0mjnp\u001b[0m\u001b[0;34m.\u001b[0m\u001b[0mabs\u001b[0m\u001b[0;34m(\u001b[0m\u001b[0mparam_array\u001b[0m\u001b[0;34m.\u001b[0m\u001b[0mat\u001b[0m\u001b[0;34m[\u001b[0m\u001b[0mn\u001b[0m\u001b[0;34m]\u001b[0m\u001b[0;34m)\u001b[0m\u001b[0;34m<=\u001b[0m\u001b[0;36m1.0\u001b[0m\u001b[0;34m,\u001b[0m \u001b[0mpoly_interp\u001b[0m\u001b[0;34m,\u001b[0m \u001b[0mexp_interp\u001b[0m\u001b[0;34m,\u001b[0m \u001b[0;34m(\u001b[0m\u001b[0mparam_array\u001b[0m\u001b[0;34m.\u001b[0m\u001b[0mat\u001b[0m\u001b[0;34m[\u001b[0m\u001b[0mn\u001b[0m\u001b[0;34m]\u001b[0m\u001b[0;34m,\u001b[0m \u001b[0marr_ratio_up_bkg\u001b[0m\u001b[0;34m.\u001b[0m\u001b[0mat\u001b[0m\u001b[0;34m[\u001b[0m\u001b[0mn\u001b[0m\u001b[0;34m-\u001b[0m\u001b[0;36m1\u001b[0m\u001b[0;34m]\u001b[0m\u001b[0;34m,\u001b[0m \u001b[0marr_ratio_down_bkg\u001b[0m\u001b[0;34m.\u001b[0m\u001b[0mat\u001b[0m\u001b[0;34m[\u001b[0m\u001b[0mn\u001b[0m\u001b[0;34m-\u001b[0m\u001b[0;36m1\u001b[0m\u001b[0;34m]\u001b[0m\u001b[0;34m,\u001b[0m \u001b[0;36m1.0\u001b[0m\u001b[0;34m)\u001b[0m\u001b[0;34m)\u001b[0m\u001b[0;34m\u001b[0m\u001b[0;34m\u001b[0m\u001b[0m\n",
      "    \u001b[0;31m[... skipping hidden 2 frame]\u001b[0m\n",
      "\u001b[0;32m/cvmfs/sft.cern.ch/lcg/views/LCG_102b_swan/x86_64-centos7-gcc11-opt/lib/python3.9/site-packages/jax/_src/api.py\u001b[0m in \u001b[0;36m_check_arg\u001b[0;34m(arg)\u001b[0m\n\u001b[1;32m   2926\u001b[0m \u001b[0;32mdef\u001b[0m \u001b[0m_check_arg\u001b[0m\u001b[0;34m(\u001b[0m\u001b[0marg\u001b[0m\u001b[0;34m)\u001b[0m\u001b[0;34m:\u001b[0m\u001b[0;34m\u001b[0m\u001b[0;34m\u001b[0m\u001b[0m\n\u001b[1;32m   2927\u001b[0m   \u001b[0;32mif\u001b[0m \u001b[0;32mnot\u001b[0m \u001b[0;34m(\u001b[0m\u001b[0misinstance\u001b[0m\u001b[0;34m(\u001b[0m\u001b[0marg\u001b[0m\u001b[0;34m,\u001b[0m \u001b[0mcore\u001b[0m\u001b[0;34m.\u001b[0m\u001b[0mTracer\u001b[0m\u001b[0;34m)\u001b[0m \u001b[0;32mor\u001b[0m \u001b[0m_valid_jaxtype\u001b[0m\u001b[0;34m(\u001b[0m\u001b[0marg\u001b[0m\u001b[0;34m)\u001b[0m\u001b[0;34m)\u001b[0m\u001b[0;34m:\u001b[0m\u001b[0;34m\u001b[0m\u001b[0;34m\u001b[0m\u001b[0m\n\u001b[0;32m-> 2928\u001b[0;31m     \u001b[0;32mraise\u001b[0m \u001b[0mTypeError\u001b[0m\u001b[0;34m(\u001b[0m\u001b[0;34mf\"Argument '{arg}' of type {type(arg)} is not a valid JAX type.\"\u001b[0m\u001b[0;34m)\u001b[0m\u001b[0;34m\u001b[0m\u001b[0;34m\u001b[0m\u001b[0m\n\u001b[0m\u001b[1;32m   2929\u001b[0m \u001b[0;34m\u001b[0m\u001b[0m\n\u001b[1;32m   2930\u001b[0m \u001b[0;31m# TODO(mattjj,necula): this duplicates code in core.valid_jaxtype, but one\u001b[0m\u001b[0;34m\u001b[0m\u001b[0;34m\u001b[0m\u001b[0m\n",
      "\u001b[0;31mTypeError\u001b[0m: Argument '_IndexUpdateRef(Traced<ShapedArray(float32[11])>with<DynamicJaxprTrace(level=0/1)>, Traced<ShapedArray(int32[], weak_type=True)>with<DynamicJaxprTrace(level=1/1)>)' of type <class 'jax._src.numpy.lax_numpy._IndexUpdateRef'> is not a valid JAX type."
     ]
    }
   ],
   "source": [
    "print(NLL(param_array, hist_sig, hist_bkg, N_obs_Asimov, \n",
    "          arr_ratio_up_sig, arr_ratio_down_sig, arr_ratio_up_bkg, arr_ratio_down_bkg))"
   ]
  },
  {
   "cell_type": "code",
   "execution_count": 58,
   "id": "836f9192",
   "metadata": {},
   "outputs": [],
   "source": [
    "@jit\n",
    "def NLL_minuit(mu):\n",
    "    \n",
    "    return NLL(mu, hist_sig, hist_bkg, N_obs_Asimov)"
   ]
  },
  {
   "cell_type": "code",
   "execution_count": 56,
   "id": "9b0bc956",
   "metadata": {},
   "outputs": [
    {
     "ename": "ValueError",
     "evalue": "The truth value of an array with more than one element is ambiguous. Use a.any() or a.all()",
     "output_type": "error",
     "traceback": [
      "\u001b[0;31m---------------------------------------------------------------------------\u001b[0m",
      "\u001b[0;31mValueError\u001b[0m                                Traceback (most recent call last)",
      "\u001b[0;32m/tmp/ipykernel_1699/905818401.py\u001b[0m in \u001b[0;36m<module>\u001b[0;34m\u001b[0m\n\u001b[1;32m      2\u001b[0m \u001b[0;32mfrom\u001b[0m \u001b[0mjax\u001b[0m \u001b[0;32mimport\u001b[0m \u001b[0mgrad\u001b[0m\u001b[0;34m\u001b[0m\u001b[0;34m\u001b[0m\u001b[0m\n\u001b[1;32m      3\u001b[0m \u001b[0;34m\u001b[0m\u001b[0m\n\u001b[0;32m----> 4\u001b[0;31m \u001b[0mm1\u001b[0m \u001b[0;34m=\u001b[0m \u001b[0mMinuit\u001b[0m\u001b[0;34m(\u001b[0m\u001b[0mjit\u001b[0m\u001b[0;34m(\u001b[0m\u001b[0mNLL_minuit\u001b[0m\u001b[0;34m)\u001b[0m\u001b[0;34m,\u001b[0m \u001b[0mparam_array\u001b[0m\u001b[0;34m,\u001b[0m \u001b[0mgrad\u001b[0m\u001b[0;34m=\u001b[0m\u001b[0mjit\u001b[0m\u001b[0;34m(\u001b[0m\u001b[0mgrad\u001b[0m\u001b[0;34m(\u001b[0m\u001b[0mNLL_minuit\u001b[0m\u001b[0;34m)\u001b[0m\u001b[0;34m)\u001b[0m\u001b[0;34m)\u001b[0m\u001b[0;34m\u001b[0m\u001b[0;34m\u001b[0m\u001b[0m\n\u001b[0m\u001b[1;32m      5\u001b[0m \u001b[0mm1\u001b[0m\u001b[0;34m.\u001b[0m\u001b[0merrordef\u001b[0m \u001b[0;34m=\u001b[0m \u001b[0mMinuit\u001b[0m\u001b[0;34m.\u001b[0m\u001b[0mLEAST_SQUARES\u001b[0m\u001b[0;34m\u001b[0m\u001b[0;34m\u001b[0m\u001b[0m\n\u001b[1;32m      6\u001b[0m \u001b[0;31m#m1.precision = 1e-7\u001b[0m\u001b[0;34m\u001b[0m\u001b[0;34m\u001b[0m\u001b[0m\n",
      "\u001b[0;32m/cvmfs/sft.cern.ch/lcg/views/LCG_102b_swan/x86_64-centos7-gcc11-opt/lib/python3.9/site-packages/iminuit/minuit.py\u001b[0m in \u001b[0;36m__init__\u001b[0;34m(***failed resolving arguments***)\u001b[0m\n\u001b[1;32m    614\u001b[0m         )\n\u001b[1;32m    615\u001b[0m \u001b[0;34m\u001b[0m\u001b[0m\n\u001b[0;32m--> 616\u001b[0;31m         \u001b[0mself\u001b[0m\u001b[0;34m.\u001b[0m\u001b[0m_init_state\u001b[0m \u001b[0;34m=\u001b[0m \u001b[0m_make_init_state\u001b[0m\u001b[0;34m(\u001b[0m\u001b[0mself\u001b[0m\u001b[0;34m.\u001b[0m\u001b[0m_pos2var\u001b[0m\u001b[0;34m,\u001b[0m \u001b[0mstart\u001b[0m\u001b[0;34m,\u001b[0m \u001b[0mkwds\u001b[0m\u001b[0;34m)\u001b[0m\u001b[0;34m\u001b[0m\u001b[0;34m\u001b[0m\u001b[0m\n\u001b[0m\u001b[1;32m    617\u001b[0m         \u001b[0mself\u001b[0m\u001b[0;34m.\u001b[0m\u001b[0m_values\u001b[0m \u001b[0;34m=\u001b[0m \u001b[0mmutil\u001b[0m\u001b[0;34m.\u001b[0m\u001b[0mValueView\u001b[0m\u001b[0;34m(\u001b[0m\u001b[0mself\u001b[0m\u001b[0;34m)\u001b[0m\u001b[0;34m\u001b[0m\u001b[0;34m\u001b[0m\u001b[0m\n\u001b[1;32m    618\u001b[0m         \u001b[0mself\u001b[0m\u001b[0;34m.\u001b[0m\u001b[0m_errors\u001b[0m \u001b[0;34m=\u001b[0m \u001b[0mmutil\u001b[0m\u001b[0;34m.\u001b[0m\u001b[0mErrorView\u001b[0m\u001b[0;34m(\u001b[0m\u001b[0mself\u001b[0m\u001b[0;34m)\u001b[0m\u001b[0;34m\u001b[0m\u001b[0;34m\u001b[0m\u001b[0m\n",
      "\u001b[0;32m/cvmfs/sft.cern.ch/lcg/views/LCG_102b_swan/x86_64-centos7-gcc11-opt/lib/python3.9/site-packages/iminuit/minuit.py\u001b[0m in \u001b[0;36m_make_init_state\u001b[0;34m(pos2var, args, kwds)\u001b[0m\n\u001b[1;32m   2021\u001b[0m     \u001b[0;32mfor\u001b[0m \u001b[0mi\u001b[0m\u001b[0;34m,\u001b[0m \u001b[0mx\u001b[0m \u001b[0;32min\u001b[0m \u001b[0menumerate\u001b[0m\u001b[0;34m(\u001b[0m\u001b[0mpos2var\u001b[0m\u001b[0;34m)\u001b[0m\u001b[0;34m:\u001b[0m\u001b[0;34m\u001b[0m\u001b[0;34m\u001b[0m\u001b[0m\n\u001b[1;32m   2022\u001b[0m         \u001b[0mval\u001b[0m \u001b[0;34m=\u001b[0m \u001b[0mkwds\u001b[0m\u001b[0;34m[\u001b[0m\u001b[0mx\u001b[0m\u001b[0;34m]\u001b[0m \u001b[0;32mif\u001b[0m \u001b[0mkwds\u001b[0m \u001b[0;32melse\u001b[0m \u001b[0margs\u001b[0m\u001b[0;34m[\u001b[0m\u001b[0mi\u001b[0m\u001b[0;34m]\u001b[0m\u001b[0;34m\u001b[0m\u001b[0;34m\u001b[0m\u001b[0m\n\u001b[0;32m-> 2023\u001b[0;31m         \u001b[0merr\u001b[0m \u001b[0;34m=\u001b[0m \u001b[0mmutil\u001b[0m\u001b[0;34m.\u001b[0m\u001b[0m_guess_initial_step\u001b[0m\u001b[0;34m(\u001b[0m\u001b[0mval\u001b[0m\u001b[0;34m)\u001b[0m\u001b[0;34m\u001b[0m\u001b[0;34m\u001b[0m\u001b[0m\n\u001b[0m\u001b[1;32m   2024\u001b[0m         \u001b[0mstate\u001b[0m\u001b[0;34m.\u001b[0m\u001b[0madd\u001b[0m\u001b[0;34m(\u001b[0m\u001b[0mx\u001b[0m\u001b[0;34m,\u001b[0m \u001b[0mval\u001b[0m\u001b[0;34m,\u001b[0m \u001b[0merr\u001b[0m\u001b[0;34m)\u001b[0m\u001b[0;34m\u001b[0m\u001b[0;34m\u001b[0m\u001b[0m\n\u001b[1;32m   2025\u001b[0m     \u001b[0;32mreturn\u001b[0m \u001b[0mstate\u001b[0m\u001b[0;34m\u001b[0m\u001b[0;34m\u001b[0m\u001b[0m\n",
      "\u001b[0;32m/cvmfs/sft.cern.ch/lcg/views/LCG_102b_swan/x86_64-centos7-gcc11-opt/lib/python3.9/site-packages/iminuit/util.py\u001b[0m in \u001b[0;36m_guess_initial_step\u001b[0;34m(val)\u001b[0m\n\u001b[1;32m   1271\u001b[0m \u001b[0;34m\u001b[0m\u001b[0m\n\u001b[1;32m   1272\u001b[0m \u001b[0;32mdef\u001b[0m \u001b[0m_guess_initial_step\u001b[0m\u001b[0;34m(\u001b[0m\u001b[0mval\u001b[0m\u001b[0;34m:\u001b[0m \u001b[0mfloat\u001b[0m\u001b[0;34m)\u001b[0m \u001b[0;34m->\u001b[0m \u001b[0mfloat\u001b[0m\u001b[0;34m:\u001b[0m\u001b[0;34m\u001b[0m\u001b[0;34m\u001b[0m\u001b[0m\n\u001b[0;32m-> 1273\u001b[0;31m     \u001b[0;32mreturn\u001b[0m \u001b[0;36m1e-2\u001b[0m \u001b[0;34m*\u001b[0m \u001b[0mval\u001b[0m \u001b[0;32mif\u001b[0m \u001b[0mval\u001b[0m \u001b[0;34m!=\u001b[0m \u001b[0;36m0\u001b[0m \u001b[0;32melse\u001b[0m \u001b[0;36m1e-1\u001b[0m  \u001b[0;31m# heuristic\u001b[0m\u001b[0;34m\u001b[0m\u001b[0;34m\u001b[0m\u001b[0m\n\u001b[0m\u001b[1;32m   1274\u001b[0m \u001b[0;34m\u001b[0m\u001b[0m\n\u001b[1;32m   1275\u001b[0m \u001b[0;34m\u001b[0m\u001b[0m\n",
      "\u001b[0;31mValueError\u001b[0m: The truth value of an array with more than one element is ambiguous. Use a.any() or a.all()"
     ]
    }
   ],
   "source": [
    "from iminuit import Minuit\n",
    "from jax import grad\n",
    "\n",
    "m1 = Minuit(jit(NLL_minuit), param_array, grad=jit(grad(NLL_minuit)))\n",
    "m1.errordef = Minuit.LEAST_SQUARES\n",
    "#m1.precision = 1e-7\n",
    "m1.strategy = 2\n",
    "m1.migrad()\n",
    "m1.minos()"
   ]
  },
  {
   "cell_type": "code",
   "execution_count": null,
   "id": "cdb511e1",
   "metadata": {},
   "outputs": [],
   "source": []
  }
 ],
 "metadata": {
  "kernelspec": {
   "display_name": "Python 3",
   "language": "python",
   "name": "python3"
  },
  "language_info": {
   "codemirror_mode": {
    "name": "ipython",
    "version": 3
   },
   "file_extension": ".py",
   "mimetype": "text/x-python",
   "name": "python",
   "nbconvert_exporter": "python",
   "pygments_lexer": "ipython3",
   "version": "3.9.12"
  }
 },
 "nbformat": 4,
 "nbformat_minor": 5
}
