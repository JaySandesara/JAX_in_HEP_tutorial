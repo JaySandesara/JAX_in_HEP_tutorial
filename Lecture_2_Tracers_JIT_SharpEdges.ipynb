{
 "cells": [
  {
   "cell_type": "markdown",
   "id": "b66723ea",
   "metadata": {
    "slideshow": {
     "slide_type": "slide"
    }
   },
   "source": [
    "# Lecture 2: Tracers, JIT compilation and Sharp Edges"
   ]
  },
  {
   "cell_type": "markdown",
   "id": "ec01473e",
   "metadata": {},
   "source": [
    "<br>"
   ]
  },
  {
   "cell_type": "markdown",
   "id": "f6b5060f",
   "metadata": {},
   "source": [
    "<br>"
   ]
  },
  {
   "cell_type": "markdown",
   "id": "95343fba",
   "metadata": {
    "slideshow": {
     "slide_type": "slide"
    }
   },
   "source": [
    "We saw how JAX has a numpy-like user API for performing array-based computing.\n",
    "\n",
    "It has the capability to perform Composable Function Transformations on our Python/NumPy code and use it with the XLA compiler to perform super-fast computations on CPU, GPU or TPU\n",
    "\n",
    "<br>\n",
    "\n",
    "$$\\text{Python} \\rightarrow \\text{Intermediate Representation} \\rightarrow \\text{Transformations}$$\n",
    "\n",
    "<br>"
   ]
  },
  {
   "cell_type": "markdown",
   "id": "90ed83a4",
   "metadata": {},
   "source": [
    "<br>"
   ]
  },
  {
   "cell_type": "markdown",
   "id": "cd3e093b",
   "metadata": {},
   "source": [
    "<br>"
   ]
  },
  {
   "cell_type": "markdown",
   "id": "2e0b8781",
   "metadata": {},
   "source": [
    "Some examples of composable transformations include automatic differentiation, JIT compilation, parallelization on multi-core hardware, etc.\n",
    "\n",
    "We explored automatic differentiation in the last lecture.\n",
    "\n",
    "In this lecture, we will explore JIT compilation as well as find out how JAX works under the hood with these intermediate representations and transformations."
   ]
  },
  {
   "cell_type": "markdown",
   "id": "7ee78d20",
   "metadata": {},
   "source": [
    "<br>"
   ]
  },
  {
   "cell_type": "markdown",
   "id": "dd4fa509",
   "metadata": {},
   "source": [
    "<br>"
   ]
  },
  {
   "cell_type": "markdown",
   "id": "ba334e50",
   "metadata": {},
   "source": [
    "JAX uses a technique called function tracing (we will explore this in a bit) to convert Python code into a series of primitive operations - also referred to as an intermediate representation (IR).\n",
    "\n",
    "During JIT compilation, JAX applies a series of optimizations on the IR operations to generate efficient XLA executable code be it on CPU, GPU or TPU.\n",
    "\n",
    "Once a function has been JIT-compiled, JAX caches the resulting XLA code so that it can be re-used in subsequent calls. \n",
    "\n",
    "This means that the performance benefits of JIT compilation are persistent across multiple function calls, and that the cost of compilation is amortized over many calls."
   ]
  },
  {
   "cell_type": "markdown",
   "id": "3f51a80b",
   "metadata": {},
   "source": [
    "<br>"
   ]
  },
  {
   "cell_type": "markdown",
   "id": "3c562fa9",
   "metadata": {},
   "source": [
    "<br>"
   ]
  },
  {
   "cell_type": "markdown",
   "id": "21651fb6",
   "metadata": {},
   "source": [
    "JAX works by first converting your Python code into an Intermediate Representation, as we saw in the last lecture.\n",
    "\n",
    "This part is known as $\\textit{tracing}$.\n",
    "\n",
    "How does it work?\n",
    "\n",
    "Let's say we have a function:"
   ]
  },
  {
   "cell_type": "markdown",
   "id": "1f13c01c",
   "metadata": {},
   "source": [
    "<br>"
   ]
  },
  {
   "cell_type": "markdown",
   "id": "1eb098f7",
   "metadata": {},
   "source": [
    "<br>"
   ]
  },
  {
   "cell_type": "code",
   "execution_count": 7,
   "id": "8a6fd40e",
   "metadata": {},
   "outputs": [
    {
     "name": "stdout",
     "output_type": "stream",
     "text": [
      "-4\n",
      "-8\n"
     ]
    }
   ],
   "source": [
    "from jax import lax\n",
    "from jax import numpy as jnp\n",
    "\n",
    "# Define a toy function that calculates the negative log likelihood of a scalar value\n",
    "\n",
    "def NLL(x):\n",
    "    \n",
    "    log_x = jnp.log(x)            \n",
    "    \n",
    "    nll = jnp.multiply(-2,x)\n",
    "    \n",
    "    return nll\n",
    "\n",
    "print(NLL(2))\n",
    "print(NLL(4))"
   ]
  },
  {
   "cell_type": "markdown",
   "id": "4ada3bc9",
   "metadata": {
    "slideshow": {
     "slide_type": "slide"
    }
   },
   "source": [
    "<br>"
   ]
  },
  {
   "cell_type": "markdown",
   "id": "8eb22fb8",
   "metadata": {
    "slideshow": {
     "slide_type": "slide"
    }
   },
   "source": [
    "<br>"
   ]
  },
  {
   "cell_type": "markdown",
   "id": "41822d30",
   "metadata": {
    "slideshow": {
     "slide_type": "slide"
    }
   },
   "source": [
    "Okay, so how does JAX see this? Let's find out!"
   ]
  },
  {
   "cell_type": "code",
   "execution_count": 16,
   "id": "a07e8e23",
   "metadata": {},
   "outputs": [
    {
     "name": "stdout",
     "output_type": "stream",
     "text": [
      "Traced<ShapedArray(float32[], weak_type=True)>with<JVPTrace(level=2/1)> with\n",
      "  primal = Traced<ShapedArray(float32[], weak_type=True)>with<DynamicJaxprTrace(level=0/1)>\n",
      "  tangent = Traced<ShapedArray(float32[], weak_type=True)>with<JaxprTrace(level=1/1)> with\n",
      "    pval = (ShapedArray(float32[], weak_type=True), *)\n",
      "    recipe = LambdaBinding()\n",
      "-2.0\n"
     ]
    }
   ],
   "source": [
    "from jax import lax\n",
    "from jax import numpy as jnp\n",
    "import jax\n",
    "\n",
    "# Define a toy function that calculates the negative log likelihood of a scalar value\n",
    "@jax.jit\n",
    "def NLL(x):\n",
    "    \n",
    "    print(x)\n",
    "    \n",
    "    log_x = jnp.log(x)        \n",
    "    \n",
    "    nll = jnp.multiply(-2,x)\n",
    "    \n",
    "    return nll\n",
    "\n",
    "# Let's apply a JAX transformation to see exactly how JAX works with the input\n",
    "\n",
    "print(jax.grad(NLL)(2.0))"
   ]
  },
  {
   "cell_type": "code",
   "execution_count": 6,
   "id": "62b59382",
   "metadata": {},
   "outputs": [
    {
     "name": "stdout",
     "output_type": "stream",
     "text": [
      "-4\n"
     ]
    }
   ],
   "source": []
  },
  {
   "cell_type": "code",
   "execution_count": null,
   "id": "e6423f27",
   "metadata": {},
   "outputs": [],
   "source": []
  }
 ],
 "metadata": {
  "celltoolbar": "Slideshow",
  "kernelspec": {
   "display_name": "Python 3",
   "language": "python",
   "name": "python3"
  },
  "language_info": {
   "codemirror_mode": {
    "name": "ipython",
    "version": 3
   },
   "file_extension": ".py",
   "mimetype": "text/x-python",
   "name": "python",
   "nbconvert_exporter": "python",
   "pygments_lexer": "ipython3",
   "version": "3.9.12"
  }
 },
 "nbformat": 4,
 "nbformat_minor": 5
}
