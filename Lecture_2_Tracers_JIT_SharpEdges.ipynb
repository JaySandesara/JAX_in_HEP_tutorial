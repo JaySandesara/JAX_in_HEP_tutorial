{
 "cells": [
  {
   "cell_type": "markdown",
   "id": "b66723ea",
   "metadata": {
    "slideshow": {
     "slide_type": "slide"
    }
   },
   "source": [
    "# Lecture 2: Tracers, JIT compilation and Sharp Edges"
   ]
  },
  {
   "cell_type": "markdown",
   "id": "ec01473e",
   "metadata": {},
   "source": [
    "<br>"
   ]
  },
  {
   "cell_type": "markdown",
   "id": "f6b5060f",
   "metadata": {},
   "source": [
    "<br>"
   ]
  },
  {
   "cell_type": "markdown",
   "id": "95343fba",
   "metadata": {
    "slideshow": {
     "slide_type": "slide"
    }
   },
   "source": [
    "We saw how JAX has a numpy-like user API for performing array-based computing.\n",
    "\n",
    "It has the capability to perform Composable Function Transformations on our Python/NumPy code and use it with the XLA compiler to perform super-fast computations on CPU, GPU or TPU\n",
    "\n",
    "<br>\n",
    "\n",
    "$$\\text{Python} \\rightarrow \\text{Intermediate Representation} \\rightarrow \\text{Transformations}$$\n",
    "\n",
    "<br>"
   ]
  },
  {
   "cell_type": "markdown",
   "id": "90ed83a4",
   "metadata": {},
   "source": [
    "<br>"
   ]
  },
  {
   "cell_type": "markdown",
   "id": "cd3e093b",
   "metadata": {},
   "source": [
    "<br>"
   ]
  },
  {
   "cell_type": "markdown",
   "id": "2e0b8781",
   "metadata": {
    "slideshow": {
     "slide_type": "slide"
    }
   },
   "source": [
    "Some examples of composable transformations include automatic differentiation, JIT compilation, parallelization on multi-core hardware, etc.\n",
    "\n",
    "We explored automatic differentiation in the last lecture.\n",
    "\n",
    "In this lecture, we will explore JIT compilation as well as find out a bit about how JAX works under the hood with these intermediate representations and transformations."
   ]
  },
  {
   "cell_type": "markdown",
   "id": "1616d7ed",
   "metadata": {
    "slideshow": {
     "slide_type": "slide"
    }
   },
   "source": [
    "<br>"
   ]
  },
  {
   "cell_type": "markdown",
   "id": "4abbedb8",
   "metadata": {
    "slideshow": {
     "slide_type": "slide"
    }
   },
   "source": [
    "<br>"
   ]
  },
  {
   "cell_type": "markdown",
   "id": "40fd8248",
   "metadata": {
    "slideshow": {
     "slide_type": "slide"
    }
   },
   "source": [
    "### JIT Compilation"
   ]
  },
  {
   "cell_type": "markdown",
   "id": "45062064",
   "metadata": {
    "slideshow": {
     "slide_type": "slide"
    }
   },
   "source": [
    "<br>"
   ]
  },
  {
   "cell_type": "markdown",
   "id": "5137fbb0",
   "metadata": {
    "slideshow": {
     "slide_type": "slide"
    }
   },
   "source": [
    "JIT stands for Just-In-Time compilation, as opposed to AOT (Ahead-Of-Time) compilation.\n",
    "\n",
    "As the name suggests, compilation of the code happens $\\textit{just in time}$ for computation.\n"
   ]
  },
  {
   "cell_type": "markdown",
   "id": "31666ae8",
   "metadata": {
    "slideshow": {
     "slide_type": "slide"
    }
   },
   "source": [
    "<br>"
   ]
  },
  {
   "cell_type": "markdown",
   "id": "856379d8",
   "metadata": {
    "slideshow": {
     "slide_type": "slide"
    }
   },
   "source": [
    "<br>"
   ]
  },
  {
   "cell_type": "markdown",
   "id": "ba334e50",
   "metadata": {
    "slideshow": {
     "slide_type": "slide"
    }
   },
   "source": [
    "During JIT compilation, JAX applies a series of optimizations on primitive `lax` operations to generate efficient XLA executable code on CPU, GPU or TPU.\n",
    "\n",
    "Once a function has been JIT-compiled, JAX caches the resulting XLA code so that it can be re-used in subsequent calls. \n",
    "\n",
    "<br>\n",
    "<br>\n",
    "\n",
    "$$\\textbf{This is where the power of JIT compilation comes in - after an initial compilation phase,} \\\\ \\textbf{the subsequent calls to the JIT-compiled function are super fast!}$$ "
   ]
  },
  {
   "cell_type": "markdown",
   "id": "188396c5",
   "metadata": {
    "slideshow": {
     "slide_type": "slide"
    }
   },
   "source": [
    "<br>"
   ]
  },
  {
   "cell_type": "markdown",
   "id": "3c983d82",
   "metadata": {
    "slideshow": {
     "slide_type": "slide"
    }
   },
   "source": [
    "<br>"
   ]
  },
  {
   "cell_type": "code",
   "execution_count": 76,
   "id": "acbb9f3b",
   "metadata": {
    "slideshow": {
     "slide_type": "slide"
    }
   },
   "outputs": [
    {
     "name": "stdout",
     "output_type": "stream",
     "text": [
      "1.47 ms ± 0 ns per loop (mean ± std. dev. of 1 run, 1 loop each)\n",
      "56.5 ms ± 0 ns per loop (mean ± std. dev. of 1 run, 1 loop each)\n"
     ]
    }
   ],
   "source": [
    "import jax\n",
    "from jax import jit\n",
    "\n",
    "def fn(tuple_arr):\n",
    "    \n",
    "    return jnp.sum(tuple_arr ** 2 - tuple_arr ** 3 - tuple_arr)\n",
    "\n",
    "%timeit -r1 -n1 fn(jnp.ones(100)).block_until_ready()\n",
    "\n",
    "fn_compiled = jit(fn)\n",
    "%timeit -r1 -n1 fn_compiled(jnp.ones(100)).block_until_ready()"
   ]
  },
  {
   "cell_type": "markdown",
   "id": "8dd0d7a5",
   "metadata": {
    "slideshow": {
     "slide_type": "slide"
    }
   },
   "source": [
    "<br>"
   ]
  },
  {
   "cell_type": "markdown",
   "id": "50d9446c",
   "metadata": {
    "slideshow": {
     "slide_type": "slide"
    }
   },
   "source": [
    "<br>"
   ]
  },
  {
   "cell_type": "markdown",
   "id": "7f072196",
   "metadata": {
    "slideshow": {
     "slide_type": "slide"
    }
   },
   "source": [
    "As mentioned before, the power of JIT compilation only comes in when we have intend to repeat function calls many times - for example finding the minimum of a loss function by repeatedly calling the loss function and it's gradient.\n",
    "\n",
    "During the first computation, JAX performs the optimizations which takes some time. - hence the slowed down computation time."
   ]
  },
  {
   "cell_type": "markdown",
   "id": "7275e686",
   "metadata": {
    "slideshow": {
     "slide_type": "slide"
    }
   },
   "source": [
    "<br>"
   ]
  },
  {
   "cell_type": "markdown",
   "id": "fb0f5ddf",
   "metadata": {
    "slideshow": {
     "slide_type": "slide"
    }
   },
   "source": [
    "<br>"
   ]
  },
  {
   "cell_type": "code",
   "execution_count": 79,
   "id": "4a1ec5a6",
   "metadata": {},
   "outputs": [
    {
     "name": "stdout",
     "output_type": "stream",
     "text": [
      "1.64 ms ± 0 ns per loop (mean ± std. dev. of 1 run, 1 loop each)\n",
      "490 µs ± 0 ns per loop (mean ± std. dev. of 1 run, 1 loop each)\n"
     ]
    }
   ],
   "source": [
    "# Let's try again\n",
    "\n",
    "%timeit -r1 -n1 fn(jnp.ones(100)).block_until_ready()\n",
    "\n",
    "%timeit -r1 -n1 fn_compiled(jnp.ones(100)).block_until_ready()"
   ]
  },
  {
   "cell_type": "markdown",
   "id": "66fa996c",
   "metadata": {
    "slideshow": {
     "slide_type": "slide"
    }
   },
   "source": [
    "<br>"
   ]
  },
  {
   "cell_type": "code",
   "execution_count": 80,
   "id": "b33fb87f",
   "metadata": {},
   "outputs": [
    {
     "name": "stdout",
     "output_type": "stream",
     "text": [
      "1.3 ms ± 0 ns per loop (mean ± std. dev. of 1 run, 1 loop each)\n",
      "42.9 ms ± 0 ns per loop (mean ± std. dev. of 1 run, 1 loop each)\n"
     ]
    }
   ],
   "source": [
    "# Let's try again with a different sized array\n",
    "\n",
    "%timeit -r1 -n1 fn(jnp.ones(1000)).block_until_ready()\n",
    "\n",
    "%timeit -r1 -n1 fn_compiled(jnp.ones(1000)).block_until_ready()"
   ]
  },
  {
   "cell_type": "markdown",
   "id": "158cb424",
   "metadata": {
    "slideshow": {
     "slide_type": "slide"
    }
   },
   "source": [
    "<br>"
   ]
  },
  {
   "cell_type": "code",
   "execution_count": 83,
   "id": "a6d3bfb0",
   "metadata": {},
   "outputs": [
    {
     "name": "stdout",
     "output_type": "stream",
     "text": [
      "2.45 ms ± 0 ns per loop (mean ± std. dev. of 1 run, 1 loop each)\n",
      "560 µs ± 0 ns per loop (mean ± std. dev. of 1 run, 1 loop each)\n"
     ]
    }
   ],
   "source": [
    "# Let's re-do the same computation with the same array as before\n",
    "\n",
    "%timeit -r1 -n1 fn(jnp.ones(1000)).block_until_ready()\n",
    "\n",
    "%timeit -r1 -n1 fn_compiled(jnp.ones(1000)).block_until_ready()"
   ]
  },
  {
   "cell_type": "markdown",
   "id": "1e1387ec",
   "metadata": {},
   "source": [
    "<br>"
   ]
  },
  {
   "cell_type": "markdown",
   "id": "7826b20a",
   "metadata": {},
   "source": [
    "<br>"
   ]
  },
  {
   "cell_type": "markdown",
   "id": "b40458aa",
   "metadata": {
    "slideshow": {
     "slide_type": "slide"
    }
   },
   "source": [
    "To better understand what's going on, let's find out how JAX performs under the hood."
   ]
  },
  {
   "cell_type": "markdown",
   "id": "3f51a80b",
   "metadata": {},
   "source": [
    "<br>"
   ]
  },
  {
   "cell_type": "markdown",
   "id": "3c562fa9",
   "metadata": {},
   "source": [
    "<br>"
   ]
  },
  {
   "cell_type": "code",
   "execution_count": 85,
   "id": "1fc98b52",
   "metadata": {},
   "outputs": [
    {
     "name": "stdout",
     "output_type": "stream",
     "text": [
      "Traced<ShapedArray(float32[100])>with<DynamicJaxprTrace(level=0/1)>\n",
      "-100.0\n"
     ]
    }
   ],
   "source": [
    "import jax\n",
    "from jax import jit\n",
    "\n",
    "# Equivalent to doing jit(fn), we can optionally put a decorator that does the same thing\n",
    "\n",
    "@jit\n",
    "def fn(tuple_arr):\n",
    "    \n",
    "    print(tuple_arr)   # Let's print out the input we passed to the function\n",
    "    \n",
    "    return jnp.sum(tuple_arr ** 2 - tuple_arr ** 3 - tuple_arr)\n",
    "\n",
    "\n",
    "print(fn(jnp.ones(100)))\n"
   ]
  },
  {
   "cell_type": "markdown",
   "id": "197b0bda",
   "metadata": {
    "slideshow": {
     "slide_type": "slide"
    }
   },
   "source": [
    "<br>"
   ]
  },
  {
   "cell_type": "markdown",
   "id": "1b0c75d1",
   "metadata": {
    "slideshow": {
     "slide_type": "slide"
    }
   },
   "source": [
    "<br>"
   ]
  },
  {
   "cell_type": "markdown",
   "id": "21651fb6",
   "metadata": {},
   "source": [
    "JAX first takes in the shape of the input, and uses it to create an abstract object called `ShapedArray` that has a specific data type and size.\n",
    "\n",
    "But it has no value!"
   ]
  },
  {
   "cell_type": "markdown",
   "id": "d227549f",
   "metadata": {},
   "source": [
    "<br>"
   ]
  },
  {
   "cell_type": "markdown",
   "id": "dee431be",
   "metadata": {},
   "source": [
    "<br>"
   ]
  },
  {
   "cell_type": "code",
   "execution_count": 86,
   "id": "7e4c4607",
   "metadata": {
    "slideshow": {
     "slide_type": "slide"
    }
   },
   "outputs": [
    {
     "name": "stdout",
     "output_type": "stream",
     "text": [
      "Traced<ShapedArray(float32[100])>with<DynamicJaxprTrace(level=1/1)>\n",
      "{ lambda ; a:f32[100]. let\n",
      "    b:f32[] = xla_call[\n",
      "      call_jaxpr={ lambda ; c:f32[100]. let\n",
      "          d:f32[100] = integer_pow[y=2] c\n",
      "          e:f32[100] = integer_pow[y=3] c\n",
      "          f:f32[100] = sub d e\n",
      "          g:f32[100] = sub f c\n",
      "          h:f32[] = reduce_sum[axes=(0,)] g\n",
      "        in (h,) }\n",
      "      name=fn\n",
      "    ] a\n",
      "  in (b,) }\n"
     ]
    }
   ],
   "source": [
    "print(jax.make_jaxpr(fn)(jnp.ones(100)))"
   ]
  },
  {
   "cell_type": "markdown",
   "id": "20864a60",
   "metadata": {
    "slideshow": {
     "slide_type": "slide"
    }
   },
   "source": [
    "<br>"
   ]
  },
  {
   "cell_type": "markdown",
   "id": "0fe9ee10",
   "metadata": {
    "slideshow": {
     "slide_type": "slide"
    }
   },
   "source": [
    "<br>"
   ]
  },
  {
   "cell_type": "markdown",
   "id": "1f13c01c",
   "metadata": {},
   "source": [
    "Then, it passes this `ShapedArray` object through the primitive `lax` operations to create a computation chart for function execution. This part of the process is known as $\\textit{tracing}$.\n",
    "\n",
    "$\\textbf{Introduce some charts}$\n",
    "\n",
    "But note that the `ShapedArray` object has a specific size and type now `a:f32[100]` - but that is all it has. This object doesn't store any values."
   ]
  },
  {
   "cell_type": "markdown",
   "id": "7b4eb82d",
   "metadata": {},
   "source": [
    "<br>"
   ]
  },
  {
   "cell_type": "markdown",
   "id": "b0205b37",
   "metadata": {},
   "source": [
    "<br>"
   ]
  },
  {
   "cell_type": "markdown",
   "id": "1eb098f7",
   "metadata": {},
   "source": [
    "Once JAX finishes creating the computation chart with `lax` operations, it then optimizes the code for the XLA compiler to run on any machine of choice.\n",
    "\n",
    "This optimization step is then cached.\n",
    "\n",
    "Upon repeated executions with inputs of the same type and size, but any different value, the cached code is run on the machine with super-fast execution times."
   ]
  },
  {
   "cell_type": "markdown",
   "id": "34f526ab",
   "metadata": {},
   "source": [
    "<br>"
   ]
  },
  {
   "cell_type": "markdown",
   "id": "46ed35e9",
   "metadata": {},
   "source": [
    "<br>"
   ]
  },
  {
   "cell_type": "markdown",
   "id": "dd4fa509",
   "metadata": {},
   "source": [
    "#### Key Summary of JIT compilation"
   ]
  },
  {
   "cell_type": "markdown",
   "id": "06b78902",
   "metadata": {},
   "source": [
    "<br>"
   ]
  },
  {
   "cell_type": "markdown",
   "id": "9be25289",
   "metadata": {},
   "source": [
    "<br>"
   ]
  },
  {
   "cell_type": "markdown",
   "id": "4561862b",
   "metadata": {},
   "source": [
    "By default JAX executes operations one at a time, in sequence.\n",
    "\n",
    "We saw an example of this with our purpose-ly bad written function and how JAX converted it."
   ]
  },
  {
   "cell_type": "markdown",
   "id": "e1efeded",
   "metadata": {},
   "source": [
    "<br>"
   ]
  },
  {
   "cell_type": "markdown",
   "id": "08ea5904",
   "metadata": {},
   "source": [
    "<br>"
   ]
  },
  {
   "cell_type": "code",
   "execution_count": 3,
   "id": "d9892c35",
   "metadata": {},
   "outputs": [
    {
     "name": "stderr",
     "output_type": "stream",
     "text": [
      "WARNING:absl:No GPU/TPU found, falling back to CPU. (Set TF_CPP_MIN_LOG_LEVEL=0 and rerun for more info.)\n"
     ]
    },
    {
     "data": {
      "text/plain": [
       "{ lambda ; a:f32[] b:f32[]. let\n",
       "    c:f32[] = div a b\n",
       "    d:f32[] = exp b\n",
       "    e:f32[] = sub c d\n",
       "    f:f32[] = div a b\n",
       "    g:f32[] = sin f\n",
       "    h:f32[] = div a b\n",
       "    i:f32[] = add g h\n",
       "    j:f32[] = exp b\n",
       "    k:f32[] = sub i j\n",
       "    l:f32[] = mul e k\n",
       "  in (l,) }"
      ]
     },
     "execution_count": 3,
     "metadata": {},
     "output_type": "execute_result"
    }
   ],
   "source": [
    "# Let's see how JAX simplifies our expression with it's computation graph\n",
    "\n",
    "def fnc_jax(x1, x2):\n",
    "    \n",
    "    return (jnp.divide(x1,x2) - jnp.exp(x2))*(jnp.sin(jnp.divide(x1,x2)) + jnp.divide(x1,x2) - jnp.exp(x2))\n",
    "\n",
    "jax.make_jaxpr(fnc_jax)(1.0,1.0)"
   ]
  },
  {
   "cell_type": "markdown",
   "id": "76314560",
   "metadata": {
    "slideshow": {
     "slide_type": "slide"
    }
   },
   "source": [
    "<br>"
   ]
  },
  {
   "cell_type": "markdown",
   "id": "1030160e",
   "metadata": {
    "slideshow": {
     "slide_type": "slide"
    }
   },
   "source": [
    "<br>"
   ]
  },
  {
   "cell_type": "markdown",
   "id": "223fa531",
   "metadata": {},
   "source": [
    "Using a just-in-time (JIT) compilation decorator, sequences of operations can be optimized together and run at once.\n",
    "\n",
    "Let's see this in action!"
   ]
  },
  {
   "cell_type": "markdown",
   "id": "2a13038e",
   "metadata": {},
   "source": [
    "<br>"
   ]
  },
  {
   "cell_type": "markdown",
   "id": "63236447",
   "metadata": {},
   "source": [
    "<br>"
   ]
  },
  {
   "cell_type": "code",
   "execution_count": 1,
   "id": "beca52fd",
   "metadata": {},
   "outputs": [
    {
     "ename": "NameError",
     "evalue": "name 'fnc_jax' is not defined",
     "output_type": "error",
     "traceback": [
      "\u001b[0;31m---------------------------------------------------------------------------\u001b[0m",
      "\u001b[0;31mNameError\u001b[0m                                 Traceback (most recent call last)",
      "\u001b[0;32m/tmp/ipykernel_2301/129697971.py\u001b[0m in \u001b[0;36m<module>\u001b[0;34m\u001b[0m\n\u001b[1;32m      4\u001b[0m \u001b[0;32mfrom\u001b[0m \u001b[0mjax\u001b[0m \u001b[0;32mimport\u001b[0m \u001b[0mjit\u001b[0m\u001b[0;34m\u001b[0m\u001b[0;34m\u001b[0m\u001b[0m\n\u001b[1;32m      5\u001b[0m \u001b[0;34m\u001b[0m\u001b[0m\n\u001b[0;32m----> 6\u001b[0;31m \u001b[0mprint\u001b[0m\u001b[0;34m(\u001b[0m\u001b[0mjit\u001b[0m\u001b[0;34m(\u001b[0m\u001b[0mfnc_jax\u001b[0m\u001b[0;34m)\u001b[0m\u001b[0;34m.\u001b[0m\u001b[0mlower\u001b[0m\u001b[0;34m(\u001b[0m\u001b[0;36m1.\u001b[0m\u001b[0;34m,\u001b[0m \u001b[0;36m1.\u001b[0m\u001b[0;34m)\u001b[0m\u001b[0;34m.\u001b[0m\u001b[0mcompile\u001b[0m\u001b[0;34m(\u001b[0m\u001b[0;34m)\u001b[0m\u001b[0;34m.\u001b[0m\u001b[0mas_text\u001b[0m\u001b[0;34m(\u001b[0m\u001b[0;34m)\u001b[0m\u001b[0;34m)\u001b[0m\u001b[0;34m\u001b[0m\u001b[0;34m\u001b[0m\u001b[0m\n\u001b[0m",
      "\u001b[0;31mNameError\u001b[0m: name 'fnc_jax' is not defined"
     ]
    }
   ],
   "source": [
    "# Here we perform an AOT compilation to show what goes on after compilation - yes JAX also supports AOT when necessary\n",
    "\n",
    "print(jit(fnc_jax).lower(1., 1.).compile().as_text())"
   ]
  },
  {
   "cell_type": "markdown",
   "id": "92638e14",
   "metadata": {},
   "source": [
    "$\\textbf{What the output will look like with new version of JAX (ignore error above)}$\n",
    "\n",
    "HloModule jit_fnc_jax, entry_computation_layout={(f64[],f64[])->f64[]}, allow_spmd_sharding_propagation_to_output={true}\n",
    "\n",
    "fused_computation {\n",
    "  param_0.2 = f64[] parameter(0)\n",
    "  param_1.4 = f64[] parameter(1)\n",
    "  exponential.0 = f64[] exponential(param_1.4)\n",
    "  subtract.1 = f64[] subtract(param_0.2, exponential.0)\n",
    "  sine.0 = f64[] sine(param_0.2)\n",
    "  add.0 = f64[] add(sine.0, param_0.2)\n",
    "  subtract.0 = f64[] subtract(add.0, exponential.0)\n",
    "  ROOT multiply.0 = f64[] multiply(subtract.1, subtract.0)\n",
    "}\n",
    "\n",
    "ENTRY main.13 {\n",
    "  Arg_0.1 = f64[] parameter(0), sharding={replicated}\n",
    "  Arg_1.2 = f64[] parameter(1), sharding={replicated}\n",
    "  divide.3 = f64[] divide(Arg_0.1, Arg_1.2)\n",
    "  ROOT fusion = f64[] fusion(divide.3, Arg_1.2), kind=kLoop, calls=fused_computation\n",
    "}"
   ]
  },
  {
   "cell_type": "markdown",
   "id": "45c7a7c6",
   "metadata": {},
   "source": [
    "<br>"
   ]
  },
  {
   "cell_type": "markdown",
   "id": "5b4ec9f5",
   "metadata": {},
   "source": [
    "<br>"
   ]
  },
  {
   "cell_type": "markdown",
   "id": "d0167955",
   "metadata": {},
   "source": [
    "Not all JAX code can be JIT compiled, as it requires array shapes to be static & known at compile time.\n"
   ]
  },
  {
   "cell_type": "markdown",
   "id": "885780c3",
   "metadata": {},
   "source": [
    "<br>"
   ]
  },
  {
   "cell_type": "markdown",
   "id": "7bcefb2a",
   "metadata": {},
   "source": [
    "<br>"
   ]
  },
  {
   "cell_type": "markdown",
   "id": "9a0fcf28",
   "metadata": {
    "slideshow": {
     "slide_type": "slide"
    }
   },
   "source": [
    "### Things to Keep in Mind when using JAX"
   ]
  },
  {
   "cell_type": "markdown",
   "id": "e17f3abe",
   "metadata": {},
   "source": [
    "<br>"
   ]
  },
  {
   "cell_type": "markdown",
   "id": "c732bffc",
   "metadata": {},
   "source": [
    "<br>"
   ]
  },
  {
   "cell_type": "markdown",
   "id": "2a9f9a31",
   "metadata": {},
   "source": [
    "JAX provides the `jax.numpy` wrapper to mimic the more familiar interface for users.\n",
    "\n",
    "Under the hood, howoever, JAX performs it's computations using the more powerful, but stricter, `jax.lax` API. \n",
    "\n",
    "We just explored this with some examples."
   ]
  },
  {
   "cell_type": "markdown",
   "id": "3f06a347",
   "metadata": {},
   "source": [
    "<br>"
   ]
  },
  {
   "cell_type": "markdown",
   "id": "7a4cd744",
   "metadata": {},
   "source": [
    "<br>"
   ]
  },
  {
   "cell_type": "markdown",
   "id": "937b0007",
   "metadata": {},
   "source": [
    "But `jax.numpy` cannot be directly used as a replacement to `numpy`.\n",
    "\n",
    "For example, unlike NumPy arrays, JAX arrays are always immutable."
   ]
  },
  {
   "cell_type": "code",
   "execution_count": 98,
   "id": "5994fc53",
   "metadata": {},
   "outputs": [
    {
     "name": "stdout",
     "output_type": "stream",
     "text": [
      "<class 'jaxlib.xla_extension.DeviceArray'>\n",
      "<class 'numpy.ndarray'>\n",
      "[1 0 3 4]\n"
     ]
    },
    {
     "ename": "TypeError",
     "evalue": "'<class 'jaxlib.xla_extension.DeviceArray'>' object does not support item assignment. JAX arrays are immutable. Instead of ``x[idx] = y``, use ``x = x.at[idx].set(y)`` or another .at[] method: https://jax.readthedocs.io/en/latest/_autosummary/jax.numpy.ndarray.at.html",
     "output_type": "error",
     "traceback": [
      "\u001b[0;31m---------------------------------------------------------------------------\u001b[0m",
      "\u001b[0;31mTypeError\u001b[0m                                 Traceback (most recent call last)",
      "\u001b[0;32m/tmp/ipykernel_1578/1071326328.py\u001b[0m in \u001b[0;36m<module>\u001b[0;34m\u001b[0m\n\u001b[1;32m     13\u001b[0m \u001b[0mprint\u001b[0m\u001b[0;34m(\u001b[0m\u001b[0marr_np\u001b[0m\u001b[0;34m)\u001b[0m\u001b[0;34m\u001b[0m\u001b[0;34m\u001b[0m\u001b[0m\n\u001b[1;32m     14\u001b[0m \u001b[0;34m\u001b[0m\u001b[0m\n\u001b[0;32m---> 15\u001b[0;31m \u001b[0marr_jnp\u001b[0m\u001b[0;34m[\u001b[0m\u001b[0;36m1\u001b[0m\u001b[0;34m]\u001b[0m \u001b[0;34m=\u001b[0m \u001b[0;36m0\u001b[0m\u001b[0;34m\u001b[0m\u001b[0;34m\u001b[0m\u001b[0m\n\u001b[0m\u001b[1;32m     16\u001b[0m \u001b[0;34m\u001b[0m\u001b[0m\n",
      "\u001b[0;32m/cvmfs/sft.cern.ch/lcg/views/LCG_102b_swan/x86_64-centos7-gcc11-opt/lib/python3.9/site-packages/jax/_src/numpy/lax_numpy.py\u001b[0m in \u001b[0;36m_unimplemented_setitem\u001b[0;34m(self, i, x)\u001b[0m\n\u001b[1;32m   6793\u001b[0m          \u001b[0;34m\"or another .at[] method: \"\u001b[0m\u001b[0;34m\u001b[0m\u001b[0;34m\u001b[0m\u001b[0m\n\u001b[1;32m   6794\u001b[0m          \"https://jax.readthedocs.io/en/latest/_autosummary/jax.numpy.ndarray.at.html\")\n\u001b[0;32m-> 6795\u001b[0;31m   \u001b[0;32mraise\u001b[0m \u001b[0mTypeError\u001b[0m\u001b[0;34m(\u001b[0m\u001b[0mmsg\u001b[0m\u001b[0;34m.\u001b[0m\u001b[0mformat\u001b[0m\u001b[0;34m(\u001b[0m\u001b[0mtype\u001b[0m\u001b[0;34m(\u001b[0m\u001b[0mself\u001b[0m\u001b[0;34m)\u001b[0m\u001b[0;34m)\u001b[0m\u001b[0;34m)\u001b[0m\u001b[0;34m\u001b[0m\u001b[0;34m\u001b[0m\u001b[0m\n\u001b[0m\u001b[1;32m   6796\u001b[0m \u001b[0;34m\u001b[0m\u001b[0m\n\u001b[1;32m   6797\u001b[0m \u001b[0;32mdef\u001b[0m \u001b[0m_operator_round\u001b[0m\u001b[0;34m(\u001b[0m\u001b[0mnumber\u001b[0m\u001b[0;34m,\u001b[0m \u001b[0mndigits\u001b[0m\u001b[0;34m=\u001b[0m\u001b[0;32mNone\u001b[0m\u001b[0;34m)\u001b[0m\u001b[0;34m:\u001b[0m\u001b[0;34m\u001b[0m\u001b[0;34m\u001b[0m\u001b[0m\n",
      "\u001b[0;31mTypeError\u001b[0m: '<class 'jaxlib.xla_extension.DeviceArray'>' object does not support item assignment. JAX arrays are immutable. Instead of ``x[idx] = y``, use ``x = x.at[idx].set(y)`` or another .at[] method: https://jax.readthedocs.io/en/latest/_autosummary/jax.numpy.ndarray.at.html"
     ]
    }
   ],
   "source": [
    "import jax.numpy as jnp\n",
    "import numpy as np\n",
    "\n",
    "arr_jnp = jnp.array([1,2,3,4])\n",
    "\n",
    "print(type(arr_jnp))\n",
    "\n",
    "arr_np = np.array([1,2,3,4])\n",
    "\n",
    "print(type(arr_np))\n",
    "\n",
    "arr_np[1] = 0\n",
    "print(arr_np)\n",
    "\n",
    "arr_jnp[1] = 0\n",
    "\n"
   ]
  },
  {
   "cell_type": "code",
   "execution_count": 99,
   "id": "8441c09f",
   "metadata": {},
   "outputs": [
    {
     "name": "stdout",
     "output_type": "stream",
     "text": [
      "[1 0 3 4]\n"
     ]
    }
   ],
   "source": [
    "# For updating individual elements, JAX provides an indexed update syntax that returns an updated copy:\n",
    "\n",
    "arr_jnp = arr_jnp.at[1].set(0)  # Re-assign the mutated array\n",
    "print(arr_jnp)\n"
   ]
  },
  {
   "cell_type": "code",
   "execution_count": null,
   "id": "17fd4164",
   "metadata": {},
   "outputs": [],
   "source": []
  }
 ],
 "metadata": {
  "celltoolbar": "Slideshow",
  "kernelspec": {
   "display_name": "Python 3",
   "language": "python",
   "name": "python3"
  },
  "language_info": {
   "codemirror_mode": {
    "name": "ipython",
    "version": 3
   },
   "file_extension": ".py",
   "mimetype": "text/x-python",
   "name": "python",
   "nbconvert_exporter": "python",
   "pygments_lexer": "ipython3",
   "version": "3.9.12"
  }
 },
 "nbformat": 4,
 "nbformat_minor": 5
}
