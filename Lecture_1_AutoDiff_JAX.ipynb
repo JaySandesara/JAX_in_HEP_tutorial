{
 "cells": [
  {
   "cell_type": "markdown",
   "id": "bc0a8622",
   "metadata": {
    "slideshow": {
     "slide_type": "slide"
    }
   },
   "source": [
    "# Lesson 1: Auto-Differentiation and JAX"
   ]
  },
  {
   "cell_type": "markdown",
   "id": "840502ec",
   "metadata": {},
   "source": [
    "<br>"
   ]
  },
  {
   "cell_type": "markdown",
   "id": "ccc6e78f",
   "metadata": {},
   "source": [
    "<br>"
   ]
  },
  {
   "cell_type": "markdown",
   "id": "ebdb51bd",
   "metadata": {
    "slideshow": {
     "slide_type": "slide"
    }
   },
   "source": [
    "Hi, I am Jay Sandesara. \n",
    "\n",
    "I will be giving a very gentle introduction to the use of auto-differentiation techniques using the JAX library. \n",
    "\n",
    "The lectures are focused for use in statistical data analysis at HEP experiments like the ATLAS and CMS.\n",
    "\n",
    "\n",
    "\n",
    "\n",
    "\n",
    "\n",
    "\n",
    "\n",
    "\n",
    "\n",
    "\n",
    "\n",
    "\n"
   ]
  },
  {
   "cell_type": "markdown",
   "id": "bb67d83f",
   "metadata": {},
   "source": [
    "<br>"
   ]
  },
  {
   "cell_type": "markdown",
   "id": "54486956",
   "metadata": {},
   "source": [
    "<br>"
   ]
  },
  {
   "cell_type": "markdown",
   "id": "1756c568",
   "metadata": {
    "slideshow": {
     "slide_type": "slide"
    }
   },
   "source": [
    "I am a final year graduate student at the University of Massachusetts Amherst. \n",
    "\n",
    "I especially welcome questions and discussions on any of the topics. It will help both you and me gain a deeper understanding of the subject!"
   ]
  },
  {
   "cell_type": "markdown",
   "id": "08a9feb0",
   "metadata": {},
   "source": [
    "<br>"
   ]
  },
  {
   "cell_type": "markdown",
   "id": "0b13ff30",
   "metadata": {},
   "source": [
    "<br>"
   ]
  },
  {
   "cell_type": "markdown",
   "id": "4757a516",
   "metadata": {
    "slideshow": {
     "slide_type": "slide"
    }
   },
   "source": [
    "Let's begin!\n",
    "\n",
    "I dont need to tell you that differentiation is used everywhere in physics! Everywhere from classical Newtonian and Lagrangian mechanics to the Schrodinger equations and the theories of relativity - we need to compute derivatives to do physics.\n",
    "\n",
    "\n",
    "<div>   \n",
    "    <center>\n",
    "        <img src=\"figures/Theory_applications.png\" width=\"1000\"/>\n",
    "    </center>\n",
    "    </div>\n",
    "    \n",
    "\n",
    "\n"
   ]
  },
  {
   "cell_type": "markdown",
   "id": "eaef3f59",
   "metadata": {},
   "source": [
    "<br>"
   ]
  },
  {
   "cell_type": "markdown",
   "id": "e596c68a",
   "metadata": {},
   "source": [
    "<br>"
   ]
  },
  {
   "cell_type": "markdown",
   "id": "26d1f468",
   "metadata": {
    "slideshow": {
     "slide_type": "slide"
    }
   },
   "source": [
    "But that's not all! \n",
    "\n",
    "Differentiation is also very imporant for use in statistical tool-sets used to make physics inference in experimental high energy physics.\n",
    "\n",
    "<br>\n",
    "\n",
    "<div>   \n",
    "<center>\n",
    "        <img src=\"figures/HEP_applications.png\" width=\"1000\"/>\n",
    "</center>\n",
    "</div>\n",
    "\n",
    "<br>\n",
    "\n",
    "This latter application will be the focus of this set of lectures."
   ]
  },
  {
   "cell_type": "markdown",
   "id": "c5827e4c",
   "metadata": {},
   "source": [
    "<br>"
   ]
  },
  {
   "cell_type": "markdown",
   "id": "318504c6",
   "metadata": {},
   "source": [
    "<br>"
   ]
  },
  {
   "cell_type": "markdown",
   "id": "a12a5fec",
   "metadata": {
    "slideshow": {
     "slide_type": "slide"
    }
   },
   "source": [
    "Let us start with the most popular statistical tool nowadays - Machine Learning. \n",
    "\n",
    "In ML, we typically use differentiation to perform gradient-based optimization of the ML model parameters. For example, we use gradient descent to minimize a loss function $\\mathcal{L}(\\omega)$. \n",
    "\n",
    "Here the $\\omega$ refer to the set of tune-able parameters in a ML model, such as the neurons in a Neural Network (NN). Our task is then to find the optimal set of parameter values $\\omega$ that minimizes the loss function:\n",
    "\n",
    "$$\\underset{\\omega}{\\operatorname{argmin}} \\mathcal{L}(\\omega)$$\n"
   ]
  },
  {
   "cell_type": "markdown",
   "id": "f7e0a026",
   "metadata": {},
   "source": [
    "<br>"
   ]
  },
  {
   "cell_type": "markdown",
   "id": "0088a85a",
   "metadata": {},
   "source": [
    "<br>"
   ]
  },
  {
   "cell_type": "markdown",
   "id": "5b1dcf51",
   "metadata": {
    "slideshow": {
     "slide_type": "slide"
    }
   },
   "source": [
    "How do we do this? A commonly used algorithm, called the gradient descent is a first-order iterative optimization algorithm for finding a local minimum of a differentiable function. \n",
    "\n",
    "The idea is to take repeated steps in the opposite direction of the gradient of the function at the current point, because this is the direction of steepest descent.\n",
    "\n",
    "<div>\n",
    "<center>\n",
    "<img src=\"figures/func_min.png\" width=\"500\"/>\n",
    "</center>\n",
    "</div>\n",
    "\n",
    "$$\\vec{\\omega}_{i+1} = \\vec{\\omega}_{i} - \\lambda \\nabla_\\omega \\mathcal{L}(\\vec{\\omega}_i)$$\n"
   ]
  },
  {
   "cell_type": "markdown",
   "id": "8b2f9745",
   "metadata": {},
   "source": [
    "<br>"
   ]
  },
  {
   "cell_type": "markdown",
   "id": "aff429cd",
   "metadata": {},
   "source": [
    "<br>"
   ]
  },
  {
   "cell_type": "markdown",
   "id": "34eaf963",
   "metadata": {},
   "source": [
    "The figure is for a simple example with only one input parameter. \n",
    "\n",
    "The number of parameters in a typical NN can range from thousands to billions. \n",
    "\n",
    "Time efficient and accurate derivative estimation is thus a very important problem in computing. "
   ]
  },
  {
   "cell_type": "markdown",
   "id": "ab4104b3",
   "metadata": {},
   "source": [
    "<br>"
   ]
  },
  {
   "cell_type": "markdown",
   "id": "ee18d661",
   "metadata": {},
   "source": [
    "<br>"
   ]
  },
  {
   "cell_type": "markdown",
   "id": "262530d2",
   "metadata": {
    "slideshow": {
     "slide_type": "slide"
    }
   },
   "source": [
    "## How do we calculate the derivatives using computers?"
   ]
  },
  {
   "cell_type": "markdown",
   "id": "2b4ccf6d",
   "metadata": {},
   "source": [
    "<br>"
   ]
  },
  {
   "cell_type": "markdown",
   "id": "01543b03",
   "metadata": {
    "slideshow": {
     "slide_type": "slide"
    }
   },
   "source": [
    "Let's start with the human way of doing it. Let's say we have a function\n",
    "\n",
    "$$f(x) = x^2+5$$\n",
    "\n",
    "In Python this can be written as"
   ]
  },
  {
   "cell_type": "code",
   "execution_count": 1,
   "id": "06f62349",
   "metadata": {
    "slideshow": {
     "slide_type": "slide"
    }
   },
   "outputs": [],
   "source": [
    "def f(x):\n",
    "    \n",
    "    return x**2 + 5"
   ]
  },
  {
   "cell_type": "markdown",
   "id": "7451eb7c",
   "metadata": {},
   "source": [
    "<br>"
   ]
  },
  {
   "cell_type": "markdown",
   "id": "5f9b543e",
   "metadata": {},
   "source": [
    "<br>"
   ]
  },
  {
   "cell_type": "markdown",
   "id": "0dc55de8",
   "metadata": {
    "slideshow": {
     "slide_type": "slide"
    }
   },
   "source": [
    "We want to calculate the derivative. We simply define another function, that is a derivative of this simple function:\n"
   ]
  },
  {
   "cell_type": "markdown",
   "id": "239bacb9",
   "metadata": {},
   "source": [
    "<br>"
   ]
  },
  {
   "cell_type": "markdown",
   "id": "c6a63099",
   "metadata": {},
   "source": [
    "<br>"
   ]
  },
  {
   "cell_type": "code",
   "execution_count": 2,
   "id": "27ede66a",
   "metadata": {
    "slideshow": {
     "slide_type": "slide"
    }
   },
   "outputs": [],
   "source": [
    "def f_prime(x):\n",
    "    \n",
    "    return 2*x"
   ]
  },
  {
   "cell_type": "markdown",
   "id": "77c75d7f",
   "metadata": {},
   "source": [
    "<br>"
   ]
  },
  {
   "cell_type": "markdown",
   "id": "9550fd94",
   "metadata": {},
   "source": [
    "<br>"
   ]
  },
  {
   "cell_type": "markdown",
   "id": "1f8b38c7",
   "metadata": {
    "slideshow": {
     "slide_type": "slide"
    }
   },
   "source": [
    "This is easy, we now have a new Python function that gives us the derivative of $f(x)$ for any value of $x$! \n",
    "\n",
    "This way of calculating the derivatives using a computer is known as $\\textbf{Manual Differentiation}$, for obvious reasons.\n",
    "\n",
    "This is commonly used to compute derivatives in theory computations.\n",
    "\n",
    "While this type of approach is fairly intuitive, it can quickly become tedious for more complicated functions - common in statistics. "
   ]
  },
  {
   "cell_type": "markdown",
   "id": "f65936b2",
   "metadata": {},
   "source": [
    "<br>"
   ]
  },
  {
   "cell_type": "markdown",
   "id": "22680c6f",
   "metadata": {},
   "source": [
    "<br>"
   ]
  },
  {
   "cell_type": "markdown",
   "id": "cb73bf61",
   "metadata": {
    "slideshow": {
     "slide_type": "slide"
    }
   },
   "source": [
    "Another way we can compute the derivatives is using $\\textbf{Numerical Differentiation}$, which uses finite differences to compute the derivatives. "
   ]
  },
  {
   "cell_type": "markdown",
   "id": "4cdd43d6",
   "metadata": {},
   "source": [
    "<br>"
   ]
  },
  {
   "cell_type": "markdown",
   "id": "6a496cdc",
   "metadata": {},
   "source": [
    "<br>"
   ]
  },
  {
   "cell_type": "markdown",
   "id": "820e6d00",
   "metadata": {
    "slideshow": {
     "slide_type": "slide"
    }
   },
   "source": [
    "A derivative of a scalar valued function $f(x)$ for an n-dimensional vector $x$ is defined as follows:\n",
    "\n",
    "$$\\frac{\\partial f}{\\partial x} = \\underset{h \\rightarrow 0}{\\operatorname{lim}} \\frac{f(x+h)-f(x)}{h} $$"
   ]
  },
  {
   "cell_type": "markdown",
   "id": "28496226",
   "metadata": {},
   "source": [
    "<br>"
   ]
  },
  {
   "cell_type": "markdown",
   "id": "2940cab6",
   "metadata": {},
   "source": [
    "<br>"
   ]
  },
  {
   "cell_type": "markdown",
   "id": "773d3e59",
   "metadata": {
    "slideshow": {
     "slide_type": "slide"
    }
   },
   "source": [
    "We can update this definition so as to include very small, but non-zero values of h:\n",
    "\n",
    "$$\\frac{\\partial f}{\\partial x} \\approx \\frac{f(x+h)-f(x)}{h} $$"
   ]
  },
  {
   "cell_type": "code",
   "execution_count": 16,
   "id": "79630515",
   "metadata": {
    "slideshow": {
     "slide_type": "slide"
    }
   },
   "outputs": [],
   "source": [
    "def f(x):\n",
    "    \n",
    "    return x**2 + 5\n",
    "\n",
    "def f_prime_man(x):\n",
    "    \n",
    "    return 2*x\n",
    "\n",
    "def f_prime_num(x, h):\n",
    "    \n",
    "    return ((f(x+h)) - f(x))/h"
   ]
  },
  {
   "cell_type": "markdown",
   "id": "ac694088",
   "metadata": {},
   "source": [
    "<br>"
   ]
  },
  {
   "cell_type": "markdown",
   "id": "770d8f47",
   "metadata": {},
   "source": [
    "<br>"
   ]
  },
  {
   "cell_type": "code",
   "execution_count": 17,
   "id": "8bf7f375",
   "metadata": {},
   "outputs": [
    {
     "name": "stdout",
     "output_type": "stream",
     "text": [
      "2.00001000001393\n",
      "2.0\n"
     ]
    }
   ],
   "source": [
    "print(f_prime_num(1.0,1e-5))\n",
    "print(f_prime_man(1.0))"
   ]
  },
  {
   "cell_type": "markdown",
   "id": "a4249f7a",
   "metadata": {},
   "source": [
    "<br>"
   ]
  },
  {
   "cell_type": "markdown",
   "id": "c883fd35",
   "metadata": {},
   "source": [
    "<br>"
   ]
  },
  {
   "cell_type": "code",
   "execution_count": 24,
   "id": "4e2c522c",
   "metadata": {
    "slideshow": {
     "slide_type": "slide"
    }
   },
   "outputs": [
    {
     "data": {
      "text/plain": [
       "Text(0.5, 0, 'step size')"
      ]
     },
     "execution_count": 24,
     "metadata": {},
     "output_type": "execute_result"
    },
    {
     "data": {
      "image/png": "[encoded data removed]",
      "text/plain": [
       "<Figure size 432x288 with 1 Axes>"
      ]
     },
     "metadata": {
      "needs_background": "light"
     },
     "output_type": "display_data"
    }
   ],
   "source": [
    "from matplotlib import pyplot as plt\n",
    "import numpy as np\n",
    "\n",
    "# Grid of step sizes\n",
    "scan_h_values = np.linspace(1e-12,1e-4,num=30)\n",
    "\n",
    "# Evaluate the function at 1.0\n",
    "ones = np.ones_like(scan_values)\n",
    "\n",
    "# Error = Manual Diff (Exact) - Numerical Diff (Approx)\n",
    "error_estimates = f_prime_man(ones) - f_prime_num(ones, scan_h_values) \n",
    "        \n",
    "plt.plot(scan_h_values, error_estimates)\n",
    "plt.axhline(y = 0.0, color = 'g', linestyle = '--')\n",
    "plt.ylabel('Errors')\n",
    "plt.xlabel('step size')"
   ]
  },
  {
   "cell_type": "markdown",
   "id": "dbb7c1a5",
   "metadata": {},
   "source": [
    "<br>"
   ]
  },
  {
   "cell_type": "markdown",
   "id": "1cdd814a",
   "metadata": {},
   "source": [
    "<br>"
   ]
  },
  {
   "cell_type": "markdown",
   "id": "abbbc3c1",
   "metadata": {
    "slideshow": {
     "slide_type": "slide"
    }
   },
   "source": [
    "An obvious limitation from this approach is the choice of the step size h. \n",
    "\n",
    "One needs to balance between the truncation error and the rounding error resulting from the limited precision of the function itself.\n",
    "\n",
    "But as we saw, these errors can be made minimal for practical statistical purposes.\n"
   ]
  },
  {
   "cell_type": "markdown",
   "id": "44ba8db3",
   "metadata": {},
   "source": [
    "<br>"
   ]
  },
  {
   "cell_type": "markdown",
   "id": "a8e4af20",
   "metadata": {},
   "source": [
    "<br>"
   ]
  },
  {
   "cell_type": "markdown",
   "id": "77007f8c",
   "metadata": {
    "slideshow": {
     "slide_type": "slide"
    }
   },
   "source": [
    "The main limitation of this approach comes from elsewhere. Generalizing the derivative for more than one parameter:\n",
    "    \n",
    "$$\\frac{\\partial f}{\\partial x_i} \\approx \\frac{f(x_i+h e_i)-f(x_i)}{h} $$\n",
    "\n",
    "We can see how such a derivative requires $n$ individual computations. For ML models, the number of tune-able parameters typically range from thousands to billions, making this method un-feasible in practice."
   ]
  },
  {
   "cell_type": "markdown",
   "id": "ffcd42d2",
   "metadata": {},
   "source": [
    "<br>"
   ]
  },
  {
   "cell_type": "markdown",
   "id": "1474ab6d",
   "metadata": {},
   "source": [
    "<br>"
   ]
  },
  {
   "attachments": {
    "image.png": {
     "image/png": "[encoded data removed]"
    }
   },
   "cell_type": "markdown",
   "id": "0e6f54aa",
   "metadata": {
    "slideshow": {
     "slide_type": "slide"
    }
   },
   "source": [
    "$\\textbf{Symbolic Differentiation}$ program can convert a function of our choice into it's respective derivative function, by transforming the function using the standard derivative tools. \n",
    "\n",
    "This is essentially an automated version of the Manual Differentiation technique. \n",
    "\n",
    "<br>\n",
    "\n",
    "<div>\n",
    "<center>\n",
    "<img src=\"attachment:image.png\" width=\"500\"/>\n",
    "</center>\n",
    "</div>"
   ]
  },
  {
   "cell_type": "markdown",
   "id": "271bcffb",
   "metadata": {},
   "source": [
    "<br>"
   ]
  },
  {
   "cell_type": "markdown",
   "id": "c462ac20",
   "metadata": {},
   "source": [
    "<br>"
   ]
  },
  {
   "cell_type": "markdown",
   "id": "a1b88fdb",
   "metadata": {
    "slideshow": {
     "slide_type": "slide"
    }
   },
   "source": [
    "This might seem like an optimal technique but it suffers from major flaws. One such limitation is known as Expression Swelling. \n",
    "\n",
    "What this means is that a function's derivative can turn into a very convoluted expression when written out explicitly. "
   ]
  },
  {
   "cell_type": "markdown",
   "id": "a9d1e745",
   "metadata": {},
   "source": [
    "<br>"
   ]
  },
  {
   "cell_type": "markdown",
   "id": "f56c43c7",
   "metadata": {},
   "source": [
    "<br>"
   ]
  },
  {
   "cell_type": "markdown",
   "id": "224a5a1f",
   "metadata": {
    "slideshow": {
     "slide_type": "slide"
    }
   },
   "source": [
    "Let's take an example of the soft ReLU function, commonly used as an activation function in NN models:\n",
    "\n",
    "$$ \\log \\left(1.0 + e^{\\vec{w}\\cdot \\vec{x} + \\vec{b}} \\right) $$\n",
    "\n",
    "The derivative of this, w.r.t only two parameters is fairly involved:\n",
    "\n",
    "$$ \\frac{e^{b_1+b_2+ w_1 x + w_2 \\log \\left[ 1 + e^{b_1+w_1 x} \\right] } w_2 x}{(1 + e^{b_1+w_1 x})\\left(1 + e^{b_2+w_2 \\log \\left[1 + e^{b_1+w_1 x}\\right]}\\right)}$$\n",
    "\n",
    "This is with just two parameters; with thousands of them (as is often typical in a hidden layer in an ML model) this quickly becomes so complex, it is impractical to calculate efficiently. \n"
   ]
  },
  {
   "cell_type": "markdown",
   "id": "b265ec23",
   "metadata": {},
   "source": [
    "<br>"
   ]
  },
  {
   "cell_type": "markdown",
   "id": "0979995e",
   "metadata": {},
   "source": [
    "<br>"
   ]
  },
  {
   "cell_type": "markdown",
   "id": "75f560bd",
   "metadata": {
    "slideshow": {
     "slide_type": "slide"
    }
   },
   "source": [
    "Moreover, the function passed to a symbolic differentiation program needs to be of a closed form - i.e. we cannot have loops or if/else conditions in the function. \n",
    "\n",
    "This might not seem useful for ML optimization but as we will see in the next lectures, control flow operations are essential in the calculation of Hessian in an experimental analyses."
   ]
  },
  {
   "cell_type": "markdown",
   "id": "88588699",
   "metadata": {},
   "source": [
    "<br>"
   ]
  },
  {
   "cell_type": "markdown",
   "id": "48685704",
   "metadata": {},
   "source": [
    "<br>"
   ]
  },
  {
   "cell_type": "markdown",
   "id": "081a79f7",
   "metadata": {
    "slideshow": {
     "slide_type": "slide"
    }
   },
   "source": [
    "It might seem hopeless than to compute these second derivatives with millions of parameters in a time practical way - and yet we keep seeing NNs with billions of tune-able parameters! \n",
    "\n",
    "Enter $\\textbf{Automatic Differentiation}$. Rather than produce an expression for the derivative of a function, it calculates directly the numerical value of the function at a given set of input parameters. "
   ]
  },
  {
   "cell_type": "markdown",
   "id": "3d520b52",
   "metadata": {},
   "source": [
    "<br>"
   ]
  },
  {
   "cell_type": "markdown",
   "id": "5f75bc0d",
   "metadata": {},
   "source": [
    "<br>"
   ]
  },
  {
   "cell_type": "markdown",
   "id": "fd95d487",
   "metadata": {
    "slideshow": {
     "slide_type": "slide"
    }
   },
   "source": [
    "To best understand automatic differentiation, it is easiest to start with a simple example. Let's say we want to find the value of the first-order derivative of the following function:\n",
    "\n",
    "$$f(x_1, x_2) = \\left(\\frac{x_1}{x_2} - e^{x_2} \\right) \\cdot \\left(sin\\left(\\frac{x_1}{x_2}\\right) + \\frac{x_1}{x_2} - e^{x_2}\\right)$$\n",
    "\n",
    "Seems fairly complex, especially if we try to perform manual or symbolic differentiation on this. But with some cleverness we can convert this function into a series of elementary computations. "
   ]
  },
  {
   "cell_type": "markdown",
   "id": "fb8af10b",
   "metadata": {},
   "source": [
    "<br>"
   ]
  },
  {
   "cell_type": "markdown",
   "id": "755fb79c",
   "metadata": {},
   "source": [
    "<br>"
   ]
  },
  {
   "cell_type": "markdown",
   "id": "cb961548",
   "metadata": {},
   "source": [
    "Let's write the function using Python:"
   ]
  },
  {
   "cell_type": "markdown",
   "id": "d25a3dfb",
   "metadata": {},
   "source": [
    "<br>"
   ]
  },
  {
   "cell_type": "markdown",
   "id": "a70ad1d6",
   "metadata": {},
   "source": [
    "<br>"
   ]
  },
  {
   "cell_type": "code",
   "execution_count": 10,
   "id": "bca9b94c",
   "metadata": {},
   "outputs": [],
   "source": [
    "# Write the above function as a combination of it's elementary operations\n",
    "\n",
    "def fn(x1, x2):\n",
    "    \n",
    "    a = x1/x2      \n",
    "    \n",
    "    b = np.exp(x2)     \n",
    "    \n",
    "    c = np.sin(a)\n",
    "    \n",
    "    d = a - b\n",
    "    \n",
    "    e = c + d\n",
    "    \n",
    "    g = d * e\n",
    "    \n",
    "    return g"
   ]
  },
  {
   "cell_type": "markdown",
   "id": "27fdf76a",
   "metadata": {},
   "source": [
    "<br>"
   ]
  },
  {
   "cell_type": "markdown",
   "id": "be416dc3",
   "metadata": {},
   "source": [
    "<br>"
   ]
  },
  {
   "cell_type": "markdown",
   "id": "58882552",
   "metadata": {
    "slideshow": {
     "slide_type": "slide"
    }
   },
   "source": [
    "Do you see what we did here? Let's plot it out:\n",
    "\n",
    "<div>\n",
    "<center>\n",
    "<img src=\"figures/forward_pass_nodiff.png\" width=\"1000\"/>\n",
    "    </center>\n",
    "</div>\n",
    "\n",
    "We start with the most basic operations involved in the function and then we use these computations to eventually compute the full function value. "
   ]
  },
  {
   "cell_type": "markdown",
   "id": "f2723696",
   "metadata": {},
   "source": [
    "<br>"
   ]
  },
  {
   "cell_type": "markdown",
   "id": "5be336ea",
   "metadata": {},
   "source": [
    "<br>"
   ]
  },
  {
   "cell_type": "markdown",
   "id": "5104697b",
   "metadata": {
    "slideshow": {
     "slide_type": "slide"
    }
   },
   "source": [
    "This might seem like a simple trick - but together with the chain rule of differentiation, this can be exploited to compute accurate and efficient derivatives of arbitrarily complex functions.\n",
    "\n",
    "Let's continue with the function above. Let's re-write it as follows:"
   ]
  },
  {
   "cell_type": "markdown",
   "id": "9fb18453",
   "metadata": {},
   "source": [
    "<br>"
   ]
  },
  {
   "cell_type": "markdown",
   "id": "673d74ae",
   "metadata": {},
   "source": [
    "<br>"
   ]
  },
  {
   "cell_type": "code",
   "execution_count": 28,
   "id": "9bc4e006",
   "metadata": {
    "slideshow": {
     "slide_type": "slide"
    }
   },
   "outputs": [],
   "source": [
    "# Write the derivative of the function using chain rule\n",
    "\n",
    "def fn_prime(x1, x2):\n",
    "    \n",
    "    a = x1/x2      \n",
    "    \n",
    "    a_prime_x1 = 1/x2                         # Explicitly compute derivative expressions wrt x1 parameter\n",
    "    \n",
    "    b = jnp.exp(x2) \n",
    "    \n",
    "    b_prime_x1 = 0\n",
    "    \n",
    "    c = jnp.sin(a)\n",
    "    \n",
    "    c_prime_x1 = np.cos(a)*a_prime_x1          # Note how we start using the values of previous computations\n",
    "\n",
    "    d = a - b\n",
    "    \n",
    "    d_prime_x1 = a_prime_x1 - b_prime_x1\n",
    "    \n",
    "    e = c + d\n",
    "    \n",
    "    e_prime_x1 = c_prime_x1 + d_prime_x1 \n",
    "     \n",
    "    f = d * e\n",
    "    \n",
    "    h_prime_x1 = ( d_prime_x1 * e ) + ( d * e_prime_x1 )\n",
    "    \n",
    "    \n",
    "    return h_prime_x1"
   ]
  },
  {
   "cell_type": "markdown",
   "id": "13dc3b5d",
   "metadata": {},
   "source": [
    "<br>"
   ]
  },
  {
   "cell_type": "markdown",
   "id": "0df6a35b",
   "metadata": {},
   "source": [
    "<br>"
   ]
  },
  {
   "cell_type": "markdown",
   "id": "ec1a34f8",
   "metadata": {
    "slideshow": {
     "slide_type": "slide"
    }
   },
   "source": [
    "An auto-differentiation algorithm is in essence doing something very similar! Let's plot it out again:\n",
    "\n",
    "<div>\n",
    "    <center>\n",
    "<img src=\"figures/forward_pass_diff.png\" width=\"1000\"/>\n",
    "    </center>\n",
    "</div>\n",
    "\n",
    "During a so-called forward pass, the auto-diff algorithm calculates and stores the values of each elementary operation and their respective derivatives just like in the function ```fn_prime(x1, x2)``` described in the last slide for example. \n"
   ]
  },
  {
   "cell_type": "markdown",
   "id": "f5279a48",
   "metadata": {},
   "source": [
    "<br>"
   ]
  },
  {
   "cell_type": "markdown",
   "id": "9437817f",
   "metadata": {},
   "source": [
    "<br>"
   ]
  },
  {
   "cell_type": "markdown",
   "id": "0c2af05d",
   "metadata": {},
   "source": [
    "One can then easily calculate the value of the derivative wrt ```x1``` or ```x2``` at the specified input value, just as in ```fn_prime(x1, x2)``` defined in the previous slide. (For derivative with ```x2``` we need to do another forward pass)\n",
    "\n",
    "This is referred to as the forward mode auto-diff to be specific, as opposed to reverse mode auto-diff, but we will get to this distinction in the exercises."
   ]
  },
  {
   "cell_type": "markdown",
   "id": "8874ed0b",
   "metadata": {},
   "source": [
    "<br>"
   ]
  },
  {
   "cell_type": "markdown",
   "id": "3f98acf7",
   "metadata": {},
   "source": [
    "<br>"
   ]
  },
  {
   "cell_type": "markdown",
   "id": "ce882cee",
   "metadata": {
    "slideshow": {
     "slide_type": "slide"
    }
   },
   "source": [
    "Note how we only compute the derivatives of a few basic expressions and then use the chain rule to compute the full derivative using these intermediate values. "
   ]
  },
  {
   "cell_type": "markdown",
   "id": "01eadfe9",
   "metadata": {},
   "source": [
    "<br>"
   ]
  },
  {
   "cell_type": "markdown",
   "id": "39d7f2cd",
   "metadata": {},
   "source": [
    "<br>"
   ]
  },
  {
   "cell_type": "markdown",
   "id": "d9cb89fc",
   "metadata": {
    "slideshow": {
     "slide_type": "slide"
    }
   },
   "source": [
    "We no longer need a blown-up expression for a derivative that does repreated calculations of the same kind - we recycle the values we already calculated once. \n",
    "\n",
    "And we no longer need to worry about truncation errors - the computed derivatives are exact!"
   ]
  },
  {
   "cell_type": "markdown",
   "id": "0f335939",
   "metadata": {},
   "source": [
    "<br>"
   ]
  },
  {
   "cell_type": "markdown",
   "id": "0945f369",
   "metadata": {},
   "source": [
    "<br>"
   ]
  },
  {
   "cell_type": "markdown",
   "id": "999daa4a",
   "metadata": {
    "slideshow": {
     "slide_type": "slide"
    }
   },
   "source": [
    "We thus bypass the limitations of both Manual and Symbolic differentiations."
   ]
  },
  {
   "cell_type": "markdown",
   "id": "a9e2f2d8",
   "metadata": {},
   "source": [
    "<br>"
   ]
  },
  {
   "cell_type": "markdown",
   "id": "c33b7f96",
   "metadata": {},
   "source": [
    "<br>"
   ]
  },
  {
   "cell_type": "markdown",
   "id": "da4f5bf6",
   "metadata": {
    "slideshow": {
     "slide_type": "slide"
    }
   },
   "source": [
    "These are the fundamentals of automatic differentiation, to help you get started. \n",
    "\n",
    "You will see more in today's exercise."
   ]
  },
  {
   "cell_type": "markdown",
   "id": "550f2eb8",
   "metadata": {},
   "source": [
    "<br>"
   ]
  },
  {
   "cell_type": "markdown",
   "id": "75d04b5c",
   "metadata": {},
   "source": [
    "<br>"
   ]
  },
  {
   "cell_type": "markdown",
   "id": "cd004d4b",
   "metadata": {
    "slideshow": {
     "slide_type": "slide"
    }
   },
   "source": [
    "## What is JAX?"
   ]
  },
  {
   "cell_type": "markdown",
   "id": "dc4e031c",
   "metadata": {},
   "source": [
    "<br>"
   ]
  },
  {
   "cell_type": "markdown",
   "id": "afc6a079",
   "metadata": {},
   "source": [
    "<br>"
   ]
  },
  {
   "cell_type": "markdown",
   "id": "ec1ed175",
   "metadata": {
    "slideshow": {
     "slide_type": "slide"
    }
   },
   "source": [
    "JAX has a numpy-like user API for performing array-based computing.\n",
    "\n",
    "It has the capability to perform something called Composable Function Transformations - transforming our Python and NumPy code to perform automatic differentiation, JIT compilation, parallelization on multi-core hardware, etc.\n",
    "\n",
    "<br>\n",
    "\n",
    "$$\\text{Python} \\rightarrow \\text{Intermediate Representation} \\rightarrow \\text{Transformations}$$\n",
    "\n",
    "<br>"
   ]
  },
  {
   "cell_type": "markdown",
   "id": "22af79fe",
   "metadata": {
    "slideshow": {
     "slide_type": "-"
    }
   },
   "source": [
    "<br>"
   ]
  },
  {
   "cell_type": "markdown",
   "id": "87c1600d",
   "metadata": {
    "slideshow": {
     "slide_type": "slide"
    }
   },
   "source": [
    "As such, JAX is not just a tool for auto-differentiation. It also provides a range of tools for accelerated computation. \n",
    "\n",
    "It is built on top of the XLA (Accelerated Linear Algebra) compiler, which allows it to run fast on a variety of hardware platforms, including CPUs, GPUs, and TPUs.\n",
    "\n"
   ]
  },
  {
   "cell_type": "markdown",
   "id": "ceaa95e2",
   "metadata": {
    "slideshow": {
     "slide_type": "-"
    }
   },
   "source": [
    "<br>"
   ]
  },
  {
   "cell_type": "markdown",
   "id": "c49b67fb",
   "metadata": {
    "slideshow": {
     "slide_type": "-"
    }
   },
   "source": [
    "<br>"
   ]
  },
  {
   "cell_type": "markdown",
   "id": "b8e1279a",
   "metadata": {
    "slideshow": {
     "slide_type": "slide"
    }
   },
   "source": [
    "One of the key features of JAX includes JIT compilation, which can speed up a piece of code by compiling it just-in-time. \n",
    "\n",
    "This can save a lot of time and effort, especially for complex functions with many parameters. \n",
    "\n",
    "We will be exploring more on the workings of JAX and of JIT compilation in the next two lectures."
   ]
  },
  {
   "cell_type": "markdown",
   "id": "0f348f95",
   "metadata": {
    "slideshow": {
     "slide_type": "-"
    }
   },
   "source": [
    "<br>"
   ]
  },
  {
   "cell_type": "markdown",
   "id": "cf5d9571",
   "metadata": {
    "slideshow": {
     "slide_type": "-"
    }
   },
   "source": [
    "<br>"
   ]
  },
  {
   "cell_type": "markdown",
   "id": "3b2c3197",
   "metadata": {
    "slideshow": {
     "slide_type": "slide"
    }
   },
   "source": [
    "For now, let's explore the automatic differentiation capabilities of JAX."
   ]
  },
  {
   "cell_type": "markdown",
   "id": "577df2e9",
   "metadata": {},
   "source": [
    "<br>"
   ]
  },
  {
   "cell_type": "markdown",
   "id": "db3114e6",
   "metadata": {},
   "source": [
    "<br>"
   ]
  },
  {
   "cell_type": "markdown",
   "id": "72eaa975",
   "metadata": {
    "slideshow": {
     "slide_type": "slide"
    }
   },
   "source": [
    "We saw how forward auto-differntiation works in practice using the functions ```fn``` and ```fn_prime```. Let us see how JAX handles this function and computes it's derivative.\n",
    "\n",
    "First let us start with the simpler example:"
   ]
  },
  {
   "cell_type": "markdown",
   "id": "74eef5fe",
   "metadata": {
    "slideshow": {
     "slide_type": "-"
    }
   },
   "source": [
    "<br>"
   ]
  },
  {
   "cell_type": "markdown",
   "id": "c2c9618f",
   "metadata": {
    "slideshow": {
     "slide_type": "-"
    }
   },
   "source": [
    "<br>"
   ]
  },
  {
   "cell_type": "code",
   "execution_count": 25,
   "id": "a98eedd9",
   "metadata": {
    "slideshow": {
     "slide_type": "slide"
    }
   },
   "outputs": [],
   "source": [
    "import jax\n",
    "from jax import numpy as jnp\n",
    "\n",
    "def f(x):\n",
    "    \n",
    "    return jnp.power(x,2)+5       #Note how we replaced the regular numpy with JAX's numpy API\n",
    "\n"
   ]
  },
  {
   "cell_type": "markdown",
   "id": "551a300b",
   "metadata": {
    "slideshow": {
     "slide_type": "-"
    }
   },
   "source": [
    "<br>"
   ]
  },
  {
   "cell_type": "markdown",
   "id": "6522ff22",
   "metadata": {
    "slideshow": {
     "slide_type": "-"
    }
   },
   "source": [
    "<br>"
   ]
  },
  {
   "cell_type": "markdown",
   "id": "634180fc",
   "metadata": {
    "slideshow": {
     "slide_type": "-"
    }
   },
   "source": [
    "As mentioned before, JAX creates intermediate representation of our Python function before execution.\n",
    "\n",
    "It does so, using a fixed set of $\\textit{primitive}$ operations handled by `jax.lax`, e.g. `lax.add`,`lax.sub`, etc. We will explore more of this $\\textit{tracing}$ step in the next lecture.\n",
    "\n",
    "These are exactly the type of elementary operations we used to transform our Python function before!\n",
    "\n",
    "JAX knows how to perform composable transformations, like `grad`, `jit`, etc on these primitive operations."
   ]
  },
  {
   "cell_type": "markdown",
   "id": "7dfb14bb",
   "metadata": {
    "slideshow": {
     "slide_type": "-"
    }
   },
   "source": [
    "<br>"
   ]
  },
  {
   "cell_type": "markdown",
   "id": "225ead76",
   "metadata": {
    "slideshow": {
     "slide_type": "-"
    }
   },
   "source": [
    "<br>"
   ]
  },
  {
   "cell_type": "code",
   "execution_count": 14,
   "id": "74eea7c4",
   "metadata": {
    "slideshow": {
     "slide_type": "slide"
    }
   },
   "outputs": [
    {
     "name": "stderr",
     "output_type": "stream",
     "text": [
      "WARNING:absl:No GPU/TPU found, falling back to CPU. (Set TF_CPP_MIN_LOG_LEVEL=0 and rerun for more info.)\n"
     ]
    },
    {
     "data": {
      "text/plain": [
       "{ lambda ; a:f32[]. let\n",
       "    b:f32[] = integer_pow[y=2] a\n",
       "    c:f32[] = add b 5.0\n",
       "  in (c,) }"
      ]
     },
     "execution_count": 14,
     "metadata": {},
     "output_type": "execute_result"
    }
   ],
   "source": [
    "# Let us check this out. make_jaxpr shows us the intermediate representation performed by JAX\n",
    "\n",
    "jax.make_jaxpr(f)(1.0)"
   ]
  },
  {
   "cell_type": "markdown",
   "id": "a1572953",
   "metadata": {
    "slideshow": {
     "slide_type": "-"
    }
   },
   "source": [
    "<br>"
   ]
  },
  {
   "cell_type": "markdown",
   "id": "3c582523",
   "metadata": {
    "slideshow": {
     "slide_type": "-"
    }
   },
   "source": [
    "<br>"
   ]
  },
  {
   "cell_type": "code",
   "execution_count": 26,
   "id": "7e9cd5fe",
   "metadata": {
    "slideshow": {
     "slide_type": "slide"
    }
   },
   "outputs": [
    {
     "data": {
      "text/plain": [
       "{ lambda ; a:f32[]. let\n",
       "    b:i32[1,1] = iota[dimension=0 dtype=int32 shape=(1, 1)] \n",
       "    c:i32[1,1] = add b 0\n",
       "    d:i32[1,1] = iota[dimension=1 dtype=int32 shape=(1, 1)] \n",
       "    e:bool[1,1] = eq c d\n",
       "    f:f32[1,1] = convert_element_type[new_dtype=float32 weak_type=False] e\n",
       "    g:f32[1,1] = slice[limit_indices=(1, 1) start_indices=(0, 0) strides=None] f\n",
       "    h:f32[1] = reshape[dimensions=None new_sizes=(1,)] g\n",
       "    i:f32[1] = convert_element_type[new_dtype=float32 weak_type=True] h\n",
       "    j:f32[] = integer_pow[y=2] a\n",
       "    k:f32[] = integer_pow[y=1] a\n",
       "    l:f32[] = mul 2.0 k\n",
       "    m:f32[1] = mul i l\n",
       "    _:f32[] = add j 5.0\n",
       "    n:f32[1] = slice[limit_indices=(1,) start_indices=(0,) strides=None] m\n",
       "    o:f32[] = reshape[dimensions=None new_sizes=()] n\n",
       "  in (o,) }"
      ]
     },
     "execution_count": 26,
     "metadata": {},
     "output_type": "execute_result"
    }
   ],
   "source": [
    "# Now let us check out how it performs the gradient under the hood after doing the intermediate representation\n",
    "\n",
    "#Does the output look familiar?\n",
    "\n",
    "jax.make_jaxpr(jax.jacfwd(f))(1.0)"
   ]
  },
  {
   "cell_type": "markdown",
   "id": "abee878d",
   "metadata": {
    "slideshow": {
     "slide_type": "-"
    }
   },
   "source": [
    "<br>"
   ]
  },
  {
   "cell_type": "markdown",
   "id": "6bf48aba",
   "metadata": {
    "slideshow": {
     "slide_type": "-"
    }
   },
   "source": [
    "<br>"
   ]
  },
  {
   "cell_type": "markdown",
   "id": "167bb7a6",
   "metadata": {
    "slideshow": {
     "slide_type": "slide"
    }
   },
   "source": [
    "Okay, that was intuitive and just what we expected! \n",
    "\n",
    "Now let's do this again with the more complicated function that we computed by manual auto-diff earlier. "
   ]
  },
  {
   "cell_type": "markdown",
   "id": "5806b3ea",
   "metadata": {
    "slideshow": {
     "slide_type": "-"
    }
   },
   "source": [
    "<br>"
   ]
  },
  {
   "cell_type": "markdown",
   "id": "7d38978c",
   "metadata": {
    "slideshow": {
     "slide_type": "-"
    }
   },
   "source": [
    "<br>"
   ]
  },
  {
   "cell_type": "code",
   "execution_count": 34,
   "id": "611aceb3",
   "metadata": {
    "slideshow": {
     "slide_type": "slide"
    }
   },
   "outputs": [
    {
     "data": {
      "text/plain": [
       "{ lambda ; a:f32[] b:f32[]. let\n",
       "    c:f32[] = div a b\n",
       "    d:f32[] = exp b\n",
       "    e:f32[] = sub c d\n",
       "    f:f32[] = div a b\n",
       "    g:f32[] = sin f\n",
       "    h:f32[] = div a b\n",
       "    i:f32[] = add g h\n",
       "    j:f32[] = exp b\n",
       "    k:f32[] = sub i j\n",
       "    l:f32[] = mul e k\n",
       "  in (l,) }"
      ]
     },
     "execution_count": 34,
     "metadata": {},
     "output_type": "execute_result"
    }
   ],
   "source": [
    "# Let's see how JAX simplifies our expression with it's computation graph\n",
    "\n",
    "def fnc_jax(x1, x2):\n",
    "    \n",
    "    return (jnp.divide(x1,x2) - jnp.exp(x2))*(jnp.sin(jnp.divide(x1,x2)) + jnp.divide(x1,x2) - jnp.exp(x2))\n",
    "\n",
    "jax.make_jaxpr(fnc_jax)(1.0,1.0)"
   ]
  },
  {
   "cell_type": "markdown",
   "id": "3740e9e5",
   "metadata": {
    "slideshow": {
     "slide_type": "-"
    }
   },
   "source": [
    "<br>"
   ]
  },
  {
   "cell_type": "markdown",
   "id": "876f5aff",
   "metadata": {
    "slideshow": {
     "slide_type": "-"
    }
   },
   "source": [
    "<br>"
   ]
  },
  {
   "cell_type": "markdown",
   "id": "14331054",
   "metadata": {
    "slideshow": {
     "slide_type": "slide"
    }
   },
   "source": [
    "The `div a b` seems to be repeated three times in the JAX computation.\n",
    "\n",
    "This is because, as of now, we do not compile it using JIT. So the computation chart follows the way $\\textit{you}$ write the function.\n",
    "\n",
    "Once we do, JIT recognizes and de-duplicates the repeated operations where necessary. We shall explore this in the next lecture."
   ]
  },
  {
   "cell_type": "markdown",
   "id": "93b625a0",
   "metadata": {
    "slideshow": {
     "slide_type": "-"
    }
   },
   "source": [
    "<br>"
   ]
  },
  {
   "cell_type": "markdown",
   "id": "d9cfeadc",
   "metadata": {
    "slideshow": {
     "slide_type": "-"
    }
   },
   "source": [
    "<br>"
   ]
  },
  {
   "cell_type": "code",
   "execution_count": 3,
   "id": "e424b06d",
   "metadata": {
    "slideshow": {
     "slide_type": "slide"
    }
   },
   "outputs": [
    {
     "name": "stderr",
     "output_type": "stream",
     "text": [
      "WARNING:absl:No GPU/TPU found, falling back to CPU. (Set TF_CPP_MIN_LOG_LEVEL=0 and rerun for more info.)\n"
     ]
    },
    {
     "data": {
      "text/plain": [
       "{ lambda ; a:f32[] b:f32[]. let\n",
       "    c:f32[] = div a b\n",
       "    d:f32[] = exp b\n",
       "    e:f32[] = sub c d\n",
       "    f:f32[] = sin c\n",
       "    g:f32[] = add f c\n",
       "    h:f32[] = sub g d\n",
       "    i:f32[] = mul e h\n",
       "  in (i,) }"
      ]
     },
     "execution_count": 3,
     "metadata": {},
     "output_type": "execute_result"
    }
   ],
   "source": [
    "# Let's manually re-write the function to avoid repeated computation for simplicity\n",
    "\n",
    "def fnc_jax(x1, x2):\n",
    "    a = jnp.divide(x1,x2)\n",
    "    b = jnp.exp(x2)\n",
    "    return (a - b)*(jnp.sin(a) + a - b)\n",
    "\n",
    "jax.make_jaxpr(fnc_jax)(1.0,1.0)"
   ]
  },
  {
   "cell_type": "markdown",
   "id": "2ed4d5a7",
   "metadata": {
    "slideshow": {
     "slide_type": "-"
    }
   },
   "source": [
    "<br>"
   ]
  },
  {
   "cell_type": "markdown",
   "id": "8c5f2b4e",
   "metadata": {
    "slideshow": {
     "slide_type": "-"
    }
   },
   "source": [
    "<br>"
   ]
  },
  {
   "cell_type": "code",
   "execution_count": 29,
   "id": "cb9fbec7",
   "metadata": {
    "slideshow": {
     "slide_type": "slide"
    }
   },
   "outputs": [
    {
     "name": "stdout",
     "output_type": "stream",
     "text": [
      "Manual Gradient Result\n",
      "-3.523484\n",
      "\n",
      "\n",
      "JAX Gradient Result\n",
      "-3.523484\n"
     ]
    }
   ],
   "source": [
    "# Let us check if the derivative function we wrote earlier has the same result as JAX's autodiff calculation\n",
    "\n",
    "print(\"Manual Gradient Result\")\n",
    "print(fn_prime(1.0,1.0))\n",
    "\n",
    "print(\"\\n\")\n",
    "\n",
    "print(\"JAX Gradient Result\")\n",
    "print(jax.grad(fnc_jax)(1.0,1.0))"
   ]
  },
  {
   "cell_type": "markdown",
   "id": "717fe0cc",
   "metadata": {
    "slideshow": {
     "slide_type": "-"
    }
   },
   "source": [
    "<br>"
   ]
  },
  {
   "cell_type": "markdown",
   "id": "1a1f8bad",
   "metadata": {
    "slideshow": {
     "slide_type": "-"
    }
   },
   "source": [
    "<br>"
   ]
  },
  {
   "cell_type": "code",
   "execution_count": 62,
   "id": "a7d649be",
   "metadata": {
    "slideshow": {
     "slide_type": "slide"
    }
   },
   "outputs": [
    {
     "data": {
      "text/plain": [
       "{ lambda ; a:f32[] b:f32[]. let\n",
       "    c:i32[1,1] = iota[dimension=0 dtype=int32 shape=(1, 1)] \n",
       "    d:i32[1,1] = add c 0\n",
       "    e:i32[1,1] = iota[dimension=1 dtype=int32 shape=(1, 1)] \n",
       "    f:bool[1,1] = eq d e\n",
       "    g:f32[1,1] = convert_element_type[new_dtype=float32 weak_type=False] f\n",
       "    h:f32[1,1] = slice[limit_indices=(1, 1) start_indices=(0, 0) strides=None] g\n",
       "    i:f32[1] = reshape[dimensions=None new_sizes=(1,)] h\n",
       "    j:f32[1] = convert_element_type[new_dtype=float32 weak_type=True] i\n",
       "    k:f32[] = div a b\n",
       "    l:f32[1] = div j b\n",
       "    m:f32[] = exp b\n",
       "    n:f32[] = sub k m\n",
       "    o:f32[] = sin k\n",
       "    p:f32[] = cos k\n",
       "    q:f32[1] = mul l p\n",
       "    r:f32[] = add o k\n",
       "    s:f32[1] = add q l\n",
       "    t:f32[] = sub r m\n",
       "    _:f32[] = mul n t\n",
       "    u:f32[1] = mul l t\n",
       "    v:f32[1] = mul n s\n",
       "    w:f32[1] = add_any u v\n",
       "    x:f32[1] = slice[limit_indices=(1,) start_indices=(0,) strides=None] w\n",
       "    y:f32[] = reshape[dimensions=None new_sizes=()] x\n",
       "  in (y,) }"
      ]
     },
     "execution_count": 62,
     "metadata": {},
     "output_type": "execute_result"
    }
   ],
   "source": [
    "# Now let's check if our breakdown of the gradient function matches JAX's computation chart\n",
    "\n",
    "jax.make_jaxpr(jax.jacfwd(fnc_jax))(1.0,1.0)"
   ]
  },
  {
   "cell_type": "markdown",
   "id": "df7b4e97",
   "metadata": {
    "slideshow": {
     "slide_type": "-"
    }
   },
   "source": [
    "<br>"
   ]
  },
  {
   "cell_type": "markdown",
   "id": "4d68e10a",
   "metadata": {
    "slideshow": {
     "slide_type": "-"
    }
   },
   "source": [
    "<br>"
   ]
  },
  {
   "cell_type": "markdown",
   "id": "41198dc0",
   "metadata": {
    "slideshow": {
     "slide_type": "slide"
    }
   },
   "source": [
    "You may compare this to our manual implementation `fn_prime(x1, x2)` of forward mode auto differentiation and see the similarities!"
   ]
  },
  {
   "cell_type": "markdown",
   "id": "265eeb1b",
   "metadata": {
    "slideshow": {
     "slide_type": "-"
    }
   },
   "source": [
    "<br>"
   ]
  },
  {
   "cell_type": "markdown",
   "id": "6f7399ab",
   "metadata": {
    "slideshow": {
     "slide_type": "-"
    }
   },
   "source": [
    "<br>"
   ]
  },
  {
   "cell_type": "markdown",
   "id": "5669f853",
   "metadata": {
    "slideshow": {
     "slide_type": "slide"
    }
   },
   "source": [
    "You saw the differences between imperative, functional and array oriented programming in Jim's lecture.\n",
    "\n",
    "JAX uses a functional programming paradigm.\n",
    "\n",
    "This means we can pass the output of the gradient of a function to another gradient function, and in this manner compute any n-th order derivative. "
   ]
  },
  {
   "cell_type": "markdown",
   "id": "bb855c4f",
   "metadata": {
    "slideshow": {
     "slide_type": "-"
    }
   },
   "source": [
    "<br>"
   ]
  },
  {
   "cell_type": "markdown",
   "id": "42c78e41",
   "metadata": {
    "slideshow": {
     "slide_type": "-"
    }
   },
   "source": [
    "<br>"
   ]
  },
  {
   "cell_type": "code",
   "execution_count": 15,
   "id": "6e452e01",
   "metadata": {
    "slideshow": {
     "slide_type": "-"
    }
   },
   "outputs": [
    {
     "name": "stdout",
     "output_type": "stream",
     "text": [
      "Second order derivative\n",
      "[[ 4.526489  -7.908262 ]\n",
      " [-7.9082613 33.122337 ]]\n",
      "\n",
      "\n",
      "Third order derivative\n",
      "[[[-1.5960214 -5.1696005]\n",
      "  [-5.169601  11.793512 ]]\n",
      "\n",
      " [[-5.1696005 11.793512 ]\n",
      "  [11.793512  33.112816 ]]]\n"
     ]
    }
   ],
   "source": [
    "print(\"Second order derivative\")\n",
    "print(np.array(  jax.jacfwd(\n",
    "                 jax.jacfwd(fnc_jax, argnums=(0,1)), \n",
    "                                     argnums=(0,1))\n",
    "                 (1.0,1.0)\n",
    "              )\n",
    "     )\n",
    "\n",
    "print(\"\\n\")\n",
    "\n",
    "print(\"Third order derivative\")\n",
    "print(np.array( jax.jacfwd(\n",
    "                jax.jacfwd(\n",
    "                jax.jacfwd(fnc_jax, argnums=(0,1)), \n",
    "                                    argnums=(0,1)), \n",
    "                                    argnums=(0,1))\n",
    "                (1.0,1.0)\n",
    "              )\n",
    "     )"
   ]
  },
  {
   "cell_type": "markdown",
   "id": "1be7fa14",
   "metadata": {},
   "source": [
    "<br>"
   ]
  },
  {
   "cell_type": "markdown",
   "id": "095d5e8e",
   "metadata": {
    "slideshow": {
     "slide_type": "slide"
    }
   },
   "source": [
    "<br>"
   ]
  },
  {
   "cell_type": "markdown",
   "id": "fa1f8ef3",
   "metadata": {
    "slideshow": {
     "slide_type": "slide"
    }
   },
   "source": [
    "That's all for today's lecture! \n",
    "\n",
    "In the next one we will explore more of how JAX performs tracing of the function to decompose into primitive operations, and then see how JIT compilation can speed up execution of the code!\n",
    "\n",
    "Let's move to the hands-on exercise!"
   ]
  }
 ],
 "metadata": {
  "celltoolbar": "Slideshow",
  "kernelspec": {
   "display_name": "Python 3",
   "language": "python",
   "name": "python3"
  },
  "language_info": {
   "codemirror_mode": {
    "name": "ipython",
    "version": 3
   },
   "file_extension": ".py",
   "mimetype": "text/x-python",
   "name": "python",
   "nbconvert_exporter": "python",
   "pygments_lexer": "ipython3",
   "version": "3.9.12"
  }
 },
 "nbformat": 4,
 "nbformat_minor": 5
}
