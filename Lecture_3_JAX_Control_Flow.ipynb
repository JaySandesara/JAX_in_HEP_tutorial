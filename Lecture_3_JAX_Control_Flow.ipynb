{
 "cells": [
  {
   "cell_type": "markdown",
   "id": "b66723ea",
   "metadata": {
    "slideshow": {
     "slide_type": "slide"
    }
   },
   "source": [
    "# Lecture 3: JAX Control Flows"
   ]
  },
  {
   "cell_type": "markdown",
   "id": "ec01473e",
   "metadata": {},
   "source": [
    "<br>"
   ]
  },
  {
   "cell_type": "markdown",
   "id": "f6b5060f",
   "metadata": {
    "slideshow": {
     "slide_type": "-"
    }
   },
   "source": [
    "<br>"
   ]
  },
  {
   "cell_type": "markdown",
   "id": "29fe2de9",
   "metadata": {
    "slideshow": {
     "slide_type": "slide"
    }
   },
   "source": [
    "We saw in Exercise 2 how performing the Minuit optimization fit using JIT compilation speeds up the code by orders of magnitude when compared to regular Python code.\n",
    "\n",
    "<br>\n",
    "\n",
    "Why is that?\n",
    "\n",
    "<br>\n",
    "<br>\n",
    "<div>   \n",
    "    <center>\n",
    "        <img src=\"figures/Minuit_output.png\" width=\"1000\"/>\n",
    "    </center>\n",
    "    </div>\n",
    "  "
   ]
  },
  {
   "cell_type": "markdown",
   "id": "f159772a",
   "metadata": {},
   "source": [
    "<br>"
   ]
  },
  {
   "cell_type": "markdown",
   "id": "5701dcdd",
   "metadata": {},
   "source": [
    "<br>"
   ]
  },
  {
   "cell_type": "markdown",
   "id": "cce14529",
   "metadata": {
    "slideshow": {
     "slide_type": "slide"
    }
   },
   "source": [
    "You might think that we are done - how much better than this possible get!\n",
    "\n",
    "<br>\n",
    "\n",
    "Well, there's more! You can make the code even more efficient before JIT compiling.\n",
    "\n",
    "<br>\n",
    "\n",
    "To do this, let us learn how JAX handles control flow operations - e.g. for loops, if/else statements, etc."
   ]
  },
  {
   "cell_type": "markdown",
   "id": "47f51b15",
   "metadata": {},
   "source": [
    "<br>"
   ]
  },
  {
   "cell_type": "markdown",
   "id": "9083a2ea",
   "metadata": {},
   "source": [
    "<br>"
   ]
  },
  {
   "cell_type": "code",
   "execution_count": 24,
   "id": "ca641fed",
   "metadata": {
    "slideshow": {
     "slide_type": "slide"
    }
   },
   "outputs": [],
   "source": [
    "# Let's change our previous function into a loop - not taking advantage of array-based computation\n",
    "\n",
    "from jax import jit\n",
    "\n",
    "@jit\n",
    "def fn(tuple_arr):\n",
    "    \n",
    "    summed_array = 0\n",
    "    for entry in tuple_arr:\n",
    "        \n",
    "        summed_array += entry**2 - entry ** 3 - entry\n",
    "    \n",
    "    return summed_array\n"
   ]
  },
  {
   "cell_type": "code",
   "execution_count": 4,
   "id": "9fb8100b",
   "metadata": {
    "slideshow": {
     "slide_type": "slide"
    }
   },
   "outputs": [
    {
     "name": "stderr",
     "output_type": "stream",
     "text": [
      "WARNING:absl:No GPU/TPU found, falling back to CPU. (Set TF_CPP_MIN_LOG_LEVEL=0 and rerun for more info.)\n"
     ]
    },
    {
     "name": "stdout",
     "output_type": "stream",
     "text": [
      "{ lambda ; a:f32[2]. let\n",
      "    b:f32[] = xla_call[\n",
      "      call_jaxpr={ lambda ; c:f32[2]. let\n",
      "          d:f32[1] = slice[limit_indices=(1,) start_indices=(0,) strides=(1,)] c\n",
      "          e:f32[] = squeeze[dimensions=(0,)] d\n",
      "          f:f32[1] = slice[limit_indices=(2,) start_indices=(1,) strides=(1,)] c\n",
      "          g:f32[] = squeeze[dimensions=(0,)] f\n",
      "          h:f32[] = integer_pow[y=2] e\n",
      "          i:f32[] = integer_pow[y=3] e\n",
      "          j:f32[] = sub h i\n",
      "          k:f32[] = sub j e\n",
      "          l:f32[] = add k 0.0\n",
      "          m:f32[] = integer_pow[y=2] g\n",
      "          n:f32[] = integer_pow[y=3] g\n",
      "          o:f32[] = sub m n\n",
      "          p:f32[] = sub o g\n",
      "          q:f32[] = add l p\n",
      "        in (q,) }\n",
      "      name=fn\n",
      "    ] a\n",
      "  in (b,) }\n"
     ]
    }
   ],
   "source": [
    "from jax import make_jaxpr\n",
    "import jax.numpy as jnp\n",
    "\n",
    "# Look at how the loops are taken into account in the computation chart\n",
    "print(make_jaxpr(fn)(jnp.ones(2)))"
   ]
  },
  {
   "cell_type": "code",
   "execution_count": 5,
   "id": "19bf68c7",
   "metadata": {
    "slideshow": {
     "slide_type": "slide"
    }
   },
   "outputs": [
    {
     "name": "stdout",
     "output_type": "stream",
     "text": [
      "{ lambda ; a:f32[5]. let\n",
      "    b:f32[] = xla_call[\n",
      "      call_jaxpr={ lambda ; c:f32[5]. let\n",
      "          d:f32[1] = slice[limit_indices=(1,) start_indices=(0,) strides=(1,)] c\n",
      "          e:f32[] = squeeze[dimensions=(0,)] d\n",
      "          f:f32[1] = slice[limit_indices=(2,) start_indices=(1,) strides=(1,)] c\n",
      "          g:f32[] = squeeze[dimensions=(0,)] f\n",
      "          h:f32[1] = slice[limit_indices=(3,) start_indices=(2,) strides=(1,)] c\n",
      "          i:f32[] = squeeze[dimensions=(0,)] h\n",
      "          j:f32[1] = slice[limit_indices=(4,) start_indices=(3,) strides=(1,)] c\n",
      "          k:f32[] = squeeze[dimensions=(0,)] j\n",
      "          l:f32[1] = slice[limit_indices=(5,) start_indices=(4,) strides=(1,)] c\n",
      "          m:f32[] = squeeze[dimensions=(0,)] l\n",
      "          n:f32[] = integer_pow[y=2] e\n",
      "          o:f32[] = integer_pow[y=3] e\n",
      "          p:f32[] = sub n o\n",
      "          q:f32[] = sub p e\n",
      "          r:f32[] = add q 0.0\n",
      "          s:f32[] = integer_pow[y=2] g\n",
      "          t:f32[] = integer_pow[y=3] g\n",
      "          u:f32[] = sub s t\n",
      "          v:f32[] = sub u g\n",
      "          w:f32[] = add r v\n",
      "          x:f32[] = integer_pow[y=2] i\n",
      "          y:f32[] = integer_pow[y=3] i\n",
      "          z:f32[] = sub x y\n",
      "          ba:f32[] = sub z i\n",
      "          bb:f32[] = add w ba\n",
      "          bc:f32[] = integer_pow[y=2] k\n",
      "          bd:f32[] = integer_pow[y=3] k\n",
      "          be:f32[] = sub bc bd\n",
      "          bf:f32[] = sub be k\n",
      "          bg:f32[] = add bb bf\n",
      "          bh:f32[] = integer_pow[y=2] m\n",
      "          bi:f32[] = integer_pow[y=3] m\n",
      "          bj:f32[] = sub bh bi\n",
      "          bk:f32[] = sub bj m\n",
      "          bl:f32[] = add bg bk\n",
      "        in (bl,) }\n",
      "      name=fn\n",
      "    ] a\n",
      "  in (b,) }\n"
     ]
    }
   ],
   "source": [
    "# Look at how the loops are taken into account in the computation chart\n",
    "print(make_jaxpr(fn)(jnp.ones(5)))"
   ]
  },
  {
   "cell_type": "code",
   "execution_count": 22,
   "id": "c07ca7b6",
   "metadata": {
    "slideshow": {
     "slide_type": "slide"
    }
   },
   "outputs": [],
   "source": [
    "# Let's change our previous function into a loop - not taking advantage of array-based computation\n",
    "\n",
    "from jax.lax import fori_loop\n",
    "\n",
    "@jit\n",
    "def fn_JCF(tuple_arr):\n",
    "    \n",
    "    def body_fun(n, carry):\n",
    "        \n",
    "        sum_array = carry\n",
    "        \n",
    "        sum_array += tuple_arr[n]**2 - tuple_arr[n] ** 3 - tuple_arr[n]\n",
    "        \n",
    "        return (sum_array)\n",
    "    \n",
    "    sum_array = fori_loop(0, len(tuple_arr), body_fun, (0.0))\n",
    "    \n",
    "    return sum_array\n",
    "\n",
    "# print(lax.fori_loop(0, 10, lambda i,x: x+array[i], 0)) # expected result 45\n"
   ]
  },
  {
   "cell_type": "code",
   "execution_count": 25,
   "id": "65b19bb9",
   "metadata": {
    "slideshow": {
     "slide_type": "slide"
    }
   },
   "outputs": [
    {
     "name": "stdout",
     "output_type": "stream",
     "text": [
      "-2.0\n",
      "-2.0\n"
     ]
    }
   ],
   "source": [
    "print(fn(jnp.ones(2)))\n",
    "\n",
    "print(fn_JCF(jnp.ones(2)))"
   ]
  },
  {
   "cell_type": "code",
   "execution_count": 29,
   "id": "9a93edd2",
   "metadata": {
    "slideshow": {
     "slide_type": "slide"
    }
   },
   "outputs": [
    {
     "name": "stdout",
     "output_type": "stream",
     "text": [
      "{ lambda ; a:f32[5]. let\n",
      "    b:f32[] = xla_call[\n",
      "      call_jaxpr={ lambda ; c:f32[5]. let\n",
      "          _:i32[] d:f32[] = scan[\n",
      "            jaxpr={ lambda ; e:f32[5] f:i32[] g:f32[]. let\n",
      "                h:i32[] = add f 1\n",
      "                i:bool[] = lt f 0\n",
      "                j:i32[] = add f 5\n",
      "                k:i32[] = select_n i f j\n",
      "                l:i32[1] = broadcast_in_dim[broadcast_dimensions=() shape=(1,)] k\n",
      "                m:f32[] = gather[\n",
      "                  dimension_numbers=GatherDimensionNumbers(offset_dims=(), collapsed_slice_dims=(0,), start_index_map=(0,))\n",
      "                  fill_value=None\n",
      "                  indices_are_sorted=True\n",
      "                  mode=GatherScatterMode.PROMISE_IN_BOUNDS\n",
      "                  slice_sizes=(1,)\n",
      "                  unique_indices=True\n",
      "                ] e l\n",
      "                n:f32[] = integer_pow[y=2] m\n",
      "                o:bool[] = lt f 0\n",
      "                p:i32[] = add f 5\n",
      "                q:i32[] = select_n o f p\n",
      "                r:i32[1] = broadcast_in_dim[broadcast_dimensions=() shape=(1,)] q\n",
      "                s:f32[] = gather[\n",
      "                  dimension_numbers=GatherDimensionNumbers(offset_dims=(), collapsed_slice_dims=(0,), start_index_map=(0,))\n",
      "                  fill_value=None\n",
      "                  indices_are_sorted=True\n",
      "                  mode=GatherScatterMode.PROMISE_IN_BOUNDS\n",
      "                  slice_sizes=(1,)\n",
      "                  unique_indices=True\n",
      "                ] e r\n",
      "                t:f32[] = integer_pow[y=3] s\n",
      "                u:f32[] = sub n t\n",
      "                v:bool[] = lt f 0\n",
      "                w:i32[] = add f 5\n",
      "                x:i32[] = select_n v f w\n",
      "                y:i32[1] = broadcast_in_dim[broadcast_dimensions=() shape=(1,)] x\n",
      "                z:f32[] = gather[\n",
      "                  dimension_numbers=GatherDimensionNumbers(offset_dims=(), collapsed_slice_dims=(0,), start_index_map=(0,))\n",
      "                  fill_value=None\n",
      "                  indices_are_sorted=True\n",
      "                  mode=GatherScatterMode.PROMISE_IN_BOUNDS\n",
      "                  slice_sizes=(1,)\n",
      "                  unique_indices=True\n",
      "                ] e y\n",
      "                ba:f32[] = sub u z\n",
      "                bb:f32[] = convert_element_type[\n",
      "                  new_dtype=float32\n",
      "                  weak_type=False\n",
      "                ] g\n",
      "                bc:f32[] = add bb ba\n",
      "              in (h, bc) }\n",
      "            length=5\n",
      "            linear=(False, False, False)\n",
      "            num_carry=2\n",
      "            num_consts=1\n",
      "            reverse=False\n",
      "            unroll=1\n",
      "          ] c 0 0.0\n",
      "        in (d,) }\n",
      "      name=fn_JCF\n",
      "    ] a\n",
      "  in (b,) }\n"
     ]
    }
   ],
   "source": [
    "print(make_jaxpr(fn_JCF)(jnp.ones(5)))"
   ]
  },
  {
   "cell_type": "code",
   "execution_count": 30,
   "id": "d966bc49",
   "metadata": {
    "slideshow": {
     "slide_type": "slide"
    }
   },
   "outputs": [
    {
     "name": "stdout",
     "output_type": "stream",
     "text": [
      "{ lambda ; a:f32[5000]. let\n",
      "    b:f32[] = xla_call[\n",
      "      call_jaxpr={ lambda ; c:f32[5000]. let\n",
      "          _:i32[] d:f32[] = scan[\n",
      "            jaxpr={ lambda ; e:f32[5000] f:i32[] g:f32[]. let\n",
      "                h:i32[] = add f 1\n",
      "                i:bool[] = lt f 0\n",
      "                j:i32[] = add f 5000\n",
      "                k:i32[] = select_n i f j\n",
      "                l:i32[1] = broadcast_in_dim[broadcast_dimensions=() shape=(1,)] k\n",
      "                m:f32[] = gather[\n",
      "                  dimension_numbers=GatherDimensionNumbers(offset_dims=(), collapsed_slice_dims=(0,), start_index_map=(0,))\n",
      "                  fill_value=None\n",
      "                  indices_are_sorted=True\n",
      "                  mode=GatherScatterMode.PROMISE_IN_BOUNDS\n",
      "                  slice_sizes=(1,)\n",
      "                  unique_indices=True\n",
      "                ] e l\n",
      "                n:f32[] = integer_pow[y=2] m\n",
      "                o:bool[] = lt f 0\n",
      "                p:i32[] = add f 5000\n",
      "                q:i32[] = select_n o f p\n",
      "                r:i32[1] = broadcast_in_dim[broadcast_dimensions=() shape=(1,)] q\n",
      "                s:f32[] = gather[\n",
      "                  dimension_numbers=GatherDimensionNumbers(offset_dims=(), collapsed_slice_dims=(0,), start_index_map=(0,))\n",
      "                  fill_value=None\n",
      "                  indices_are_sorted=True\n",
      "                  mode=GatherScatterMode.PROMISE_IN_BOUNDS\n",
      "                  slice_sizes=(1,)\n",
      "                  unique_indices=True\n",
      "                ] e r\n",
      "                t:f32[] = integer_pow[y=3] s\n",
      "                u:f32[] = sub n t\n",
      "                v:bool[] = lt f 0\n",
      "                w:i32[] = add f 5000\n",
      "                x:i32[] = select_n v f w\n",
      "                y:i32[1] = broadcast_in_dim[broadcast_dimensions=() shape=(1,)] x\n",
      "                z:f32[] = gather[\n",
      "                  dimension_numbers=GatherDimensionNumbers(offset_dims=(), collapsed_slice_dims=(0,), start_index_map=(0,))\n",
      "                  fill_value=None\n",
      "                  indices_are_sorted=True\n",
      "                  mode=GatherScatterMode.PROMISE_IN_BOUNDS\n",
      "                  slice_sizes=(1,)\n",
      "                  unique_indices=True\n",
      "                ] e y\n",
      "                ba:f32[] = sub u z\n",
      "                bb:f32[] = convert_element_type[\n",
      "                  new_dtype=float32\n",
      "                  weak_type=False\n",
      "                ] g\n",
      "                bc:f32[] = add bb ba\n",
      "              in (h, bc) }\n",
      "            length=5000\n",
      "            linear=(False, False, False)\n",
      "            num_carry=2\n",
      "            num_consts=1\n",
      "            reverse=False\n",
      "            unroll=1\n",
      "          ] c 0 0.0\n",
      "        in (d,) }\n",
      "      name=fn_JCF\n",
      "    ] a\n",
      "  in (b,) }\n"
     ]
    }
   ],
   "source": [
    "print(make_jaxpr(fn_JCF)(jnp.ones(5000)))"
   ]
  },
  {
   "cell_type": "code",
   "execution_count": 32,
   "id": "c2997af4",
   "metadata": {
    "slideshow": {
     "slide_type": "slide"
    }
   },
   "outputs": [
    {
     "name": "stdout",
     "output_type": "stream",
     "text": [
      "-1000.0\n",
      "5.98 s ± 0 ns per loop (mean ± std. dev. of 1 run, 1 loop each)\n"
     ]
    }
   ],
   "source": [
    "%%timeit -n1 -r1\n",
    "\n",
    "print(fn(jnp.ones(1000)))"
   ]
  },
  {
   "cell_type": "code",
   "execution_count": 33,
   "id": "88e03c74",
   "metadata": {
    "slideshow": {
     "slide_type": "slide"
    }
   },
   "outputs": [
    {
     "name": "stdout",
     "output_type": "stream",
     "text": [
      "-1000.0\n",
      "76.1 ms ± 0 ns per loop (mean ± std. dev. of 1 run, 1 loop each)\n"
     ]
    }
   ],
   "source": [
    "%%timeit -n1 -r1\n",
    "\n",
    "print(fn_JCF(jnp.ones(1000)))"
   ]
  },
  {
   "cell_type": "code",
   "execution_count": 34,
   "id": "1aba6c67",
   "metadata": {
    "slideshow": {
     "slide_type": "slide"
    }
   },
   "outputs": [
    {
     "name": "stdout",
     "output_type": "stream",
     "text": [
      "-1000.0\n",
      "1.3 ms ± 0 ns per loop (mean ± std. dev. of 1 run, 1 loop each)\n"
     ]
    }
   ],
   "source": [
    "%%timeit -n1 -r1\n",
    "\n",
    "print(fn(jnp.ones(1000)))"
   ]
  },
  {
   "cell_type": "code",
   "execution_count": 35,
   "id": "d059369a",
   "metadata": {
    "slideshow": {
     "slide_type": "slide"
    }
   },
   "outputs": [
    {
     "name": "stdout",
     "output_type": "stream",
     "text": [
      "-1000.0\n",
      "1.53 ms ± 0 ns per loop (mean ± std. dev. of 1 run, 1 loop each)\n"
     ]
    }
   ],
   "source": [
    "%%timeit -n1 -r1\n",
    "\n",
    "print(fn_JCF(jnp.ones(1000)))"
   ]
  },
  {
   "cell_type": "code",
   "execution_count": null,
   "id": "b5527ef4",
   "metadata": {},
   "outputs": [],
   "source": []
  }
 ],
 "metadata": {
  "celltoolbar": "Slideshow",
  "kernelspec": {
   "display_name": "Python 3",
   "language": "python",
   "name": "python3"
  },
  "language_info": {
   "codemirror_mode": {
    "name": "ipython",
    "version": 3
   },
   "file_extension": ".py",
   "mimetype": "text/x-python",
   "name": "python",
   "nbconvert_exporter": "python",
   "pygments_lexer": "ipython3",
   "version": "3.9.12"
  }
 },
 "nbformat": 4,
 "nbformat_minor": 5
}
