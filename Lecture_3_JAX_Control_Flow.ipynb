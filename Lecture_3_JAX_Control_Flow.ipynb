{
 "cells": [
  {
   "cell_type": "markdown",
   "id": "b66723ea",
   "metadata": {
    "slideshow": {
     "slide_type": "slide"
    }
   },
   "source": [
    "# Lecture 3: JAX Control Flows"
   ]
  },
  {
   "cell_type": "markdown",
   "id": "f6b5060f",
   "metadata": {
    "slideshow": {
     "slide_type": "-"
    }
   },
   "source": [
    "<br>"
   ]
  },
  {
   "cell_type": "markdown",
   "id": "04dd9f11",
   "metadata": {
    "slideshow": {
     "slide_type": "slide"
    }
   },
   "source": [
    "We saw in Exercise 2 how performing the Minuit optimization fit using JIT compilation speeds up the code by orders of magnitude when compared to regular Python code.\n",
    "\n",
    "<br>\n",
    "\n",
    "Why is that?\n",
    "\n",
    "<br>\n",
    "<br>\n",
    "<div>   \n",
    "    <center>\n",
    "        <img src=\"figures/Minuit_output.png\" width=\"1000\"/>\n",
    "    </center>\n",
    "    </div>\n",
    "  "
   ]
  },
  {
   "cell_type": "markdown",
   "id": "2fd3e166",
   "metadata": {},
   "source": [
    "<br>"
   ]
  },
  {
   "cell_type": "markdown",
   "id": "6348ffd8",
   "metadata": {},
   "source": [
    "<br>"
   ]
  },
  {
   "cell_type": "markdown",
   "id": "c7d3677a",
   "metadata": {
    "slideshow": {
     "slide_type": "slide"
    }
   },
   "source": [
    "Our test statistic function in the profile likelihood fit done in Exercise 2 has a for loop:\n",
    "\n",
    "<br>\n",
    "\n",
    "```\n",
    "    for n in range(1, param_array.shape[0]):\n",
    "         \n",
    "        fact_sig *= jnp.where(jnp.abs(param_array[n])<=1.0, poly_interp(param_array[n], arr_ratio_up_sig[n-1], arr_ratio_down_sig[n-1], 1.0),exp_interp(param_array[n], arr_ratio_up_sig[n-1], arr_ratio_down_sig[n-1], 1.0))   \n",
    "\n",
    "```\n",
    "\n",
    "<br>\n",
    "\n",
    "Let's see how JAX interprets this for loop with a simple example."
   ]
  },
  {
   "cell_type": "markdown",
   "id": "18dac0f2",
   "metadata": {},
   "source": [
    "<br>"
   ]
  },
  {
   "cell_type": "code",
   "execution_count": 49,
   "id": "63f325a0",
   "metadata": {
    "slideshow": {
     "slide_type": "slide"
    }
   },
   "outputs": [],
   "source": [
    "# Let's start with a simpler function and introduce a loop - not taking advantage of array-based computation\n",
    "\n",
    "from jax import jit\n",
    "\n",
    "@jit\n",
    "def fn(tuple_arr):\n",
    "    \n",
    "    summed_array = 0\n",
    "    for entry in tuple_arr:\n",
    "        \n",
    "        summed_array += entry**2 - entry ** 3 - entry\n",
    "    \n",
    "    return summed_array\n"
   ]
  },
  {
   "cell_type": "markdown",
   "id": "672c3c56",
   "metadata": {},
   "source": [
    "<br>"
   ]
  },
  {
   "cell_type": "code",
   "execution_count": 4,
   "id": "991b5dc6",
   "metadata": {
    "slideshow": {
     "slide_type": "slide"
    }
   },
   "outputs": [
    {
     "name": "stderr",
     "output_type": "stream",
     "text": [
      "WARNING:absl:No GPU/TPU found, falling back to CPU. (Set TF_CPP_MIN_LOG_LEVEL=0 and rerun for more info.)\n"
     ]
    },
    {
     "name": "stdout",
     "output_type": "stream",
     "text": [
      "{ lambda ; a:f32[2]. let\n",
      "    b:f32[] = xla_call[\n",
      "      call_jaxpr={ lambda ; c:f32[2]. let\n",
      "          d:f32[1] = slice[limit_indices=(1,) start_indices=(0,) strides=(1,)] c\n",
      "          e:f32[] = squeeze[dimensions=(0,)] d\n",
      "          f:f32[1] = slice[limit_indices=(2,) start_indices=(1,) strides=(1,)] c\n",
      "          g:f32[] = squeeze[dimensions=(0,)] f\n",
      "          h:f32[] = integer_pow[y=2] e\n",
      "          i:f32[] = integer_pow[y=3] e\n",
      "          j:f32[] = sub h i\n",
      "          k:f32[] = sub j e\n",
      "          l:f32[] = add k 0.0\n",
      "          m:f32[] = integer_pow[y=2] g\n",
      "          n:f32[] = integer_pow[y=3] g\n",
      "          o:f32[] = sub m n\n",
      "          p:f32[] = sub o g\n",
      "          q:f32[] = add l p\n",
      "        in (q,) }\n",
      "      name=fn\n",
      "    ] a\n",
      "  in (b,) }\n"
     ]
    }
   ],
   "source": [
    "from jax import make_jaxpr\n",
    "import jax.numpy as jnp\n",
    "\n",
    "# Look at how the loops are taken into account in the computation chart\n",
    "print(make_jaxpr(fn)(jnp.ones(2)))       # For an array with size 2, we get two sets of repeated computations \n",
    "                                         # one per each iteration\n"
   ]
  },
  {
   "cell_type": "markdown",
   "id": "e12b3bbd",
   "metadata": {},
   "source": [
    "<br>"
   ]
  },
  {
   "cell_type": "code",
   "execution_count": 5,
   "id": "7598ce2b",
   "metadata": {
    "slideshow": {
     "slide_type": "slide"
    }
   },
   "outputs": [
    {
     "name": "stdout",
     "output_type": "stream",
     "text": [
      "{ lambda ; a:f32[5]. let\n",
      "    b:f32[] = xla_call[\n",
      "      call_jaxpr={ lambda ; c:f32[5]. let\n",
      "          d:f32[1] = slice[limit_indices=(1,) start_indices=(0,) strides=(1,)] c\n",
      "          e:f32[] = squeeze[dimensions=(0,)] d\n",
      "          f:f32[1] = slice[limit_indices=(2,) start_indices=(1,) strides=(1,)] c\n",
      "          g:f32[] = squeeze[dimensions=(0,)] f\n",
      "          h:f32[1] = slice[limit_indices=(3,) start_indices=(2,) strides=(1,)] c\n",
      "          i:f32[] = squeeze[dimensions=(0,)] h\n",
      "          j:f32[1] = slice[limit_indices=(4,) start_indices=(3,) strides=(1,)] c\n",
      "          k:f32[] = squeeze[dimensions=(0,)] j\n",
      "          l:f32[1] = slice[limit_indices=(5,) start_indices=(4,) strides=(1,)] c\n",
      "          m:f32[] = squeeze[dimensions=(0,)] l\n",
      "          n:f32[] = integer_pow[y=2] e\n",
      "          o:f32[] = integer_pow[y=3] e\n",
      "          p:f32[] = sub n o\n",
      "          q:f32[] = sub p e\n",
      "          r:f32[] = add q 0.0\n",
      "          s:f32[] = integer_pow[y=2] g\n",
      "          t:f32[] = integer_pow[y=3] g\n",
      "          u:f32[] = sub s t\n",
      "          v:f32[] = sub u g\n",
      "          w:f32[] = add r v\n",
      "          x:f32[] = integer_pow[y=2] i\n",
      "          y:f32[] = integer_pow[y=3] i\n",
      "          z:f32[] = sub x y\n",
      "          ba:f32[] = sub z i\n",
      "          bb:f32[] = add w ba\n",
      "          bc:f32[] = integer_pow[y=2] k\n",
      "          bd:f32[] = integer_pow[y=3] k\n",
      "          be:f32[] = sub bc bd\n",
      "          bf:f32[] = sub be k\n",
      "          bg:f32[] = add bb bf\n",
      "          bh:f32[] = integer_pow[y=2] m\n",
      "          bi:f32[] = integer_pow[y=3] m\n",
      "          bj:f32[] = sub bh bi\n",
      "          bk:f32[] = sub bj m\n",
      "          bl:f32[] = add bg bk\n",
      "        in (bl,) }\n",
      "      name=fn\n",
      "    ] a\n",
      "  in (b,) }\n"
     ]
    }
   ],
   "source": [
    "# Look at how the loops are taken into account in the computation chart\n",
    "print(make_jaxpr(fn)(jnp.ones(5)))     # Now that we have 5-sized array, so the computations are repeated 5 times"
   ]
  },
  {
   "cell_type": "markdown",
   "id": "c3761e6c",
   "metadata": {},
   "source": [
    "<br>"
   ]
  },
  {
   "cell_type": "markdown",
   "id": "8878f947",
   "metadata": {
    "slideshow": {
     "slide_type": "slide"
    }
   },
   "source": [
    "As we keep increasing the size of the array, the for loop has to iterate through more and more elements. \n",
    "\n",
    "<br>"
   ]
  },
  {
   "cell_type": "markdown",
   "id": "3c61204b",
   "metadata": {},
   "source": [
    "<br>"
   ]
  },
  {
   "cell_type": "markdown",
   "id": "17052596",
   "metadata": {
    "slideshow": {
     "slide_type": "slide"
    }
   },
   "source": [
    "When you use a regular Python loop construct with `jit`, JAX doesn't see the loop and instead just traces out an unrolled computation.\n",
    "\n",
    "<br>\n",
    "\n",
    "This is clearly sub-optimal if we pass a very large array to our function - JAX tracing will unroll the for loop for all the iterations. \n",
    "\n",
    "JIT then has to work that much harder to optimize the entire un-rolled computation with a lot of redundant calculations."
   ]
  },
  {
   "cell_type": "markdown",
   "id": "c91cbf6b",
   "metadata": {},
   "source": [
    "<br>"
   ]
  },
  {
   "cell_type": "markdown",
   "id": "fe57c7c6",
   "metadata": {},
   "source": [
    "<br>"
   ]
  },
  {
   "cell_type": "markdown",
   "id": "23c2d169",
   "metadata": {
    "slideshow": {
     "slide_type": "slide"
    }
   },
   "source": [
    "**JAX Control Flow Operations**\n",
    "\n",
    "<br>\n",
    "\n",
    "JAX offers alternative control flow primitives to replace Python control flow operations. For example:\n",
    "\n",
    "<br>\n",
    "\n",
    "- `lax.cond` - Substitute for the if/else loop\n",
    "\n",
    "- `lax.fori_loop` -  Substitute for the for loop\n",
    "\n",
    "- `lax.while_loop` -  Substitute for the while loop\n",
    "\n",
    "\n",
    "<br>\n",
    "\n",
    "These are just rough comparisons - the syntax and inner working is different from regular Python control flow.\n",
    "\n",
    "Why use JAX's control flow operations? Let's start with an example of `lax.fori_loop`.\n"
   ]
  },
  {
   "cell_type": "markdown",
   "id": "dd936768",
   "metadata": {},
   "source": [
    "<br>"
   ]
  },
  {
   "cell_type": "code",
   "execution_count": 45,
   "id": "b1d9775b",
   "metadata": {
    "slideshow": {
     "slide_type": "slide"
    }
   },
   "outputs": [],
   "source": [
    "# Substitute the regular Python for loop with a lax.fori_loop\n",
    "\n",
    "from jax.lax import fori_loop\n",
    "\n",
    "@jit\n",
    "def fn_JCF(tuple_arr):\n",
    "    \n",
    "    def body_fun(n, carry):\n",
    "        \n",
    "        carry += tuple_arr[n]**2 - tuple_arr[n] ** 3 - tuple_arr[n]\n",
    "        \n",
    "        return carry\n",
    "    \n",
    "    sum_array = fori_loop(0, len(tuple_arr), body_fun, 0.0)\n",
    "    \n",
    "    return sum_array\n"
   ]
  },
  {
   "cell_type": "markdown",
   "id": "429752ad",
   "metadata": {
    "slideshow": {
     "slide_type": "-"
    }
   },
   "source": [
    "<br>"
   ]
  },
  {
   "cell_type": "code",
   "execution_count": 46,
   "id": "1b59273e",
   "metadata": {
    "slideshow": {
     "slide_type": "slide"
    }
   },
   "outputs": [
    {
     "name": "stdout",
     "output_type": "stream",
     "text": [
      "-2.0\n",
      "-2.0\n"
     ]
    }
   ],
   "source": [
    "# Let's see if our new function does the same thing as the original function\n",
    "\n",
    "print(fn(jnp.ones(2)))\n",
    "\n",
    "print(fn_JCF(jnp.ones(2)))"
   ]
  },
  {
   "cell_type": "markdown",
   "id": "71779af3",
   "metadata": {},
   "source": [
    "<br>"
   ]
  },
  {
   "cell_type": "markdown",
   "id": "d46f0b96",
   "metadata": {
    "slideshow": {
     "slide_type": "slide"
    }
   },
   "source": [
    "Okay, so now let's see how JAX tracing handles this new function with the alternative control flow:"
   ]
  },
  {
   "cell_type": "markdown",
   "id": "6252da75",
   "metadata": {
    "slideshow": {
     "slide_type": "-"
    }
   },
   "source": [
    "<br>"
   ]
  },
  {
   "cell_type": "code",
   "execution_count": 47,
   "id": "ae947230",
   "metadata": {
    "slideshow": {
     "slide_type": "slide"
    }
   },
   "outputs": [
    {
     "name": "stdout",
     "output_type": "stream",
     "text": [
      "{ lambda ; a:f32[5]. let\n",
      "    b:f32[] = xla_call[\n",
      "      call_jaxpr={ lambda ; c:f32[5]. let\n",
      "          _:i32[] d:f32[] = scan[\n",
      "            jaxpr={ lambda ; e:f32[5] f:i32[] g:f32[]. let\n",
      "                h:i32[] = add f 1\n",
      "                i:bool[] = lt f 0\n",
      "                j:i32[] = add f 5\n",
      "                k:i32[] = select_n i f j\n",
      "                l:i32[1] = broadcast_in_dim[broadcast_dimensions=() shape=(1,)] k\n",
      "                m:f32[] = gather[\n",
      "                  dimension_numbers=GatherDimensionNumbers(offset_dims=(), collapsed_slice_dims=(0,), start_index_map=(0,))\n",
      "                  fill_value=None\n",
      "                  indices_are_sorted=True\n",
      "                  mode=GatherScatterMode.PROMISE_IN_BOUNDS\n",
      "                  slice_sizes=(1,)\n",
      "                  unique_indices=True\n",
      "                ] e l\n",
      "                n:f32[] = integer_pow[y=2] m\n",
      "                o:bool[] = lt f 0\n",
      "                p:i32[] = add f 5\n",
      "                q:i32[] = select_n o f p\n",
      "                r:i32[1] = broadcast_in_dim[broadcast_dimensions=() shape=(1,)] q\n",
      "                s:f32[] = gather[\n",
      "                  dimension_numbers=GatherDimensionNumbers(offset_dims=(), collapsed_slice_dims=(0,), start_index_map=(0,))\n",
      "                  fill_value=None\n",
      "                  indices_are_sorted=True\n",
      "                  mode=GatherScatterMode.PROMISE_IN_BOUNDS\n",
      "                  slice_sizes=(1,)\n",
      "                  unique_indices=True\n",
      "                ] e r\n",
      "                t:f32[] = integer_pow[y=3] s\n",
      "                u:f32[] = sub n t\n",
      "                v:bool[] = lt f 0\n",
      "                w:i32[] = add f 5\n",
      "                x:i32[] = select_n v f w\n",
      "                y:i32[1] = broadcast_in_dim[broadcast_dimensions=() shape=(1,)] x\n",
      "                z:f32[] = gather[\n",
      "                  dimension_numbers=GatherDimensionNumbers(offset_dims=(), collapsed_slice_dims=(0,), start_index_map=(0,))\n",
      "                  fill_value=None\n",
      "                  indices_are_sorted=True\n",
      "                  mode=GatherScatterMode.PROMISE_IN_BOUNDS\n",
      "                  slice_sizes=(1,)\n",
      "                  unique_indices=True\n",
      "                ] e y\n",
      "                ba:f32[] = sub u z\n",
      "                bb:f32[] = convert_element_type[\n",
      "                  new_dtype=float32\n",
      "                  weak_type=False\n",
      "                ] g\n",
      "                bc:f32[] = add bb ba\n",
      "              in (h, bc) }\n",
      "            length=5\n",
      "            linear=(False, False, False)\n",
      "            num_carry=2\n",
      "            num_consts=1\n",
      "            reverse=False\n",
      "            unroll=1\n",
      "          ] c 0 0.0\n",
      "        in (d,) }\n",
      "      name=fn_JCF\n",
      "    ] a\n",
      "  in (b,) }\n"
     ]
    }
   ],
   "source": [
    "print(make_jaxpr(fn_JCF)(jnp.ones(5)))"
   ]
  },
  {
   "cell_type": "markdown",
   "id": "97a53a2b",
   "metadata": {},
   "source": [
    "<br>"
   ]
  },
  {
   "cell_type": "code",
   "execution_count": 48,
   "id": "27675566",
   "metadata": {
    "slideshow": {
     "slide_type": "slide"
    }
   },
   "outputs": [
    {
     "name": "stdout",
     "output_type": "stream",
     "text": [
      "{ lambda ; a:f32[5000]. let\n",
      "    b:f32[] = xla_call[\n",
      "      call_jaxpr={ lambda ; c:f32[5000]. let\n",
      "          _:i32[] d:f32[] = scan[\n",
      "            jaxpr={ lambda ; e:f32[5000] f:i32[] g:f32[]. let\n",
      "                h:i32[] = add f 1\n",
      "                i:bool[] = lt f 0\n",
      "                j:i32[] = add f 5000\n",
      "                k:i32[] = select_n i f j\n",
      "                l:i32[1] = broadcast_in_dim[broadcast_dimensions=() shape=(1,)] k\n",
      "                m:f32[] = gather[\n",
      "                  dimension_numbers=GatherDimensionNumbers(offset_dims=(), collapsed_slice_dims=(0,), start_index_map=(0,))\n",
      "                  fill_value=None\n",
      "                  indices_are_sorted=True\n",
      "                  mode=GatherScatterMode.PROMISE_IN_BOUNDS\n",
      "                  slice_sizes=(1,)\n",
      "                  unique_indices=True\n",
      "                ] e l\n",
      "                n:f32[] = integer_pow[y=2] m\n",
      "                o:bool[] = lt f 0\n",
      "                p:i32[] = add f 5000\n",
      "                q:i32[] = select_n o f p\n",
      "                r:i32[1] = broadcast_in_dim[broadcast_dimensions=() shape=(1,)] q\n",
      "                s:f32[] = gather[\n",
      "                  dimension_numbers=GatherDimensionNumbers(offset_dims=(), collapsed_slice_dims=(0,), start_index_map=(0,))\n",
      "                  fill_value=None\n",
      "                  indices_are_sorted=True\n",
      "                  mode=GatherScatterMode.PROMISE_IN_BOUNDS\n",
      "                  slice_sizes=(1,)\n",
      "                  unique_indices=True\n",
      "                ] e r\n",
      "                t:f32[] = integer_pow[y=3] s\n",
      "                u:f32[] = sub n t\n",
      "                v:bool[] = lt f 0\n",
      "                w:i32[] = add f 5000\n",
      "                x:i32[] = select_n v f w\n",
      "                y:i32[1] = broadcast_in_dim[broadcast_dimensions=() shape=(1,)] x\n",
      "                z:f32[] = gather[\n",
      "                  dimension_numbers=GatherDimensionNumbers(offset_dims=(), collapsed_slice_dims=(0,), start_index_map=(0,))\n",
      "                  fill_value=None\n",
      "                  indices_are_sorted=True\n",
      "                  mode=GatherScatterMode.PROMISE_IN_BOUNDS\n",
      "                  slice_sizes=(1,)\n",
      "                  unique_indices=True\n",
      "                ] e y\n",
      "                ba:f32[] = sub u z\n",
      "                bb:f32[] = convert_element_type[\n",
      "                  new_dtype=float32\n",
      "                  weak_type=False\n",
      "                ] g\n",
      "                bc:f32[] = add bb ba\n",
      "              in (h, bc) }\n",
      "            length=5000\n",
      "            linear=(False, False, False)\n",
      "            num_carry=2\n",
      "            num_consts=1\n",
      "            reverse=False\n",
      "            unroll=1\n",
      "          ] c 0 0.0\n",
      "        in (d,) }\n",
      "      name=fn_JCF\n",
      "    ] a\n",
      "  in (b,) }\n"
     ]
    }
   ],
   "source": [
    "print(make_jaxpr(fn_JCF)(jnp.ones(5000)))"
   ]
  },
  {
   "cell_type": "markdown",
   "id": "5b0ad415",
   "metadata": {},
   "source": [
    "<br>"
   ]
  },
  {
   "cell_type": "markdown",
   "id": "276959a8",
   "metadata": {
    "slideshow": {
     "slide_type": "slide"
    }
   },
   "source": [
    "<br>\n",
    "\n",
    "Using `lax.fori_loop` avoids un-rolling large loops! \n",
    "\n",
    "When you use `fori_loop`, JAX tracer sees that loop as a primitive (note how fori_loop is a method from `jax.lax`), and stages out a loop construct in the XLA program.\n",
    "\n",
    "<br>\n",
    "\n",
    "Let's see the effect this has on the efficiency of a JIT-compiled function\n",
    "\n",
    "<br>\n"
   ]
  },
  {
   "cell_type": "markdown",
   "id": "f8368893",
   "metadata": {},
   "source": [
    "<br>"
   ]
  },
  {
   "cell_type": "code",
   "execution_count": 32,
   "id": "03fdabd9",
   "metadata": {
    "slideshow": {
     "slide_type": "slide"
    }
   },
   "outputs": [
    {
     "name": "stdout",
     "output_type": "stream",
     "text": [
      "-1000.0\n",
      "5.98 s ± 0 ns per loop (mean ± std. dev. of 1 run, 1 loop each)\n"
     ]
    }
   ],
   "source": [
    "%%timeit -n1 -r1\n",
    "\n",
    "# Let's time the initial compilation step of the JIT-compiled function with Python for loop\n",
    "\n",
    "print(fn(jnp.ones(1000)))"
   ]
  },
  {
   "cell_type": "markdown",
   "id": "14e83889",
   "metadata": {},
   "source": [
    "<br>"
   ]
  },
  {
   "cell_type": "code",
   "execution_count": 33,
   "id": "2cd705a9",
   "metadata": {
    "slideshow": {
     "slide_type": "slide"
    }
   },
   "outputs": [
    {
     "name": "stdout",
     "output_type": "stream",
     "text": [
      "-1000.0\n",
      "76.1 ms ± 0 ns per loop (mean ± std. dev. of 1 run, 1 loop each)\n"
     ]
    }
   ],
   "source": [
    "%%timeit -n1 -r1\n",
    "\n",
    "# Do the same for JIT-compiled function with JAX fori_loop\n",
    "\n",
    "print(fn_JCF(jnp.ones(1000)))  # Notice how JIT compilation is now significantly faster!"
   ]
  },
  {
   "cell_type": "markdown",
   "id": "848ff92b",
   "metadata": {},
   "source": [
    "<br>"
   ]
  },
  {
   "cell_type": "code",
   "execution_count": 34,
   "id": "b504f1ba",
   "metadata": {
    "slideshow": {
     "slide_type": "slide"
    }
   },
   "outputs": [
    {
     "name": "stdout",
     "output_type": "stream",
     "text": [
      "-1000.0\n",
      "1.3 ms ± 0 ns per loop (mean ± std. dev. of 1 run, 1 loop each)\n"
     ]
    }
   ],
   "source": [
    "%%timeit -n1 -r1\n",
    "\n",
    "# Let's time post-compilation execution\n",
    "\n",
    "print(fn(jnp.ones(1000)))"
   ]
  },
  {
   "cell_type": "markdown",
   "id": "1c6ae9ac",
   "metadata": {},
   "source": [
    "<br>"
   ]
  },
  {
   "cell_type": "code",
   "execution_count": 35,
   "id": "d9cf1fd4",
   "metadata": {
    "slideshow": {
     "slide_type": "slide"
    }
   },
   "outputs": [
    {
     "name": "stdout",
     "output_type": "stream",
     "text": [
      "-1000.0\n",
      "1.53 ms ± 0 ns per loop (mean ± std. dev. of 1 run, 1 loop each)\n"
     ]
    }
   ],
   "source": [
    "%%timeit -n1 -r1\n",
    "\n",
    "print(fn_JCF(jnp.ones(1000)))   # Not any significant difference - JIT made both functions efficient\n",
    "                                # but took longer to compile on the Python for loop function due to it's size"
   ]
  },
  {
   "cell_type": "markdown",
   "id": "7bb5fbeb",
   "metadata": {},
   "source": [
    "<br>"
   ]
  },
  {
   "cell_type": "markdown",
   "id": "261fd746",
   "metadata": {
    "slideshow": {
     "slide_type": "slide"
    }
   },
   "source": [
    "Using primitive `jax.lax` control flow operations can speed up the initial JIT compilation step - if compilation time is the limiting factor this can be very powerful.\n",
    "\n",
    "<br>\n",
    "\n",
    "For a handful of loop iterations, Python control flows work relatively well, but for many loop iterations and particularly with memory intensive computations, JAX’s structured control flow operations can accelerate the compilation step significantly."
   ]
  },
  {
   "cell_type": "markdown",
   "id": "439d06d6",
   "metadata": {},
   "source": [
    "<br>"
   ]
  },
  {
   "cell_type": "markdown",
   "id": "9b4596b5",
   "metadata": {
    "slideshow": {
     "slide_type": "slide"
    }
   },
   "source": [
    "**One more primitive control flow example**\n",
    "\n",
    "We saw in the last lecture how forcing a traced input to take on a specific value with JIT compilation didn't go well.\n",
    "\n",
    "<br>\n"
   ]
  },
  {
   "cell_type": "code",
   "execution_count": 53,
   "id": "4449e55f",
   "metadata": {
    "slideshow": {
     "slide_type": "slide"
    }
   },
   "outputs": [
    {
     "ename": "ConcretizationTypeError",
     "evalue": "Abstract tracer value encountered where concrete value is expected: Traced<ShapedArray(bool[], weak_type=True)>with<DynamicJaxprTrace(level=0/1)>\nThe problem arose with the `bool` function. \nWhile tracing the function f at /tmp/ipykernel_538/3701872584.py:1 for jit, this concrete value was not available in Python because it depends on the value of the argument 'x'.\n\nSee https://jax.readthedocs.io/en/latest/errors.html#jax.errors.ConcretizationTypeError",
     "output_type": "error",
     "traceback": [
      "\u001b[0;31m---------------------------------------------------------------------------\u001b[0m",
      "\u001b[0;31mConcretizationTypeError\u001b[0m                   Traceback (most recent call last)",
      "\u001b[0;32m/tmp/ipykernel_538/3701872584.py\u001b[0m in \u001b[0;36m<module>\u001b[0;34m\u001b[0m\n\u001b[1;32m      7\u001b[0m \u001b[0;34m\u001b[0m\u001b[0m\n\u001b[1;32m      8\u001b[0m \u001b[0;31m# This will fail!\u001b[0m\u001b[0;34m\u001b[0m\u001b[0;34m\u001b[0m\u001b[0m\n\u001b[0;32m----> 9\u001b[0;31m \u001b[0mf\u001b[0m\u001b[0;34m(\u001b[0m\u001b[0;36m2\u001b[0m\u001b[0;34m)\u001b[0m\u001b[0;34m\u001b[0m\u001b[0;34m\u001b[0m\u001b[0m\n\u001b[0m",
      "    \u001b[0;31m[... skipping hidden 14 frame]\u001b[0m\n",
      "\u001b[0;32m/tmp/ipykernel_538/3701872584.py\u001b[0m in \u001b[0;36mf\u001b[0;34m(x)\u001b[0m\n\u001b[1;32m      1\u001b[0m \u001b[0;34m@\u001b[0m\u001b[0mjit\u001b[0m\u001b[0;34m\u001b[0m\u001b[0;34m\u001b[0m\u001b[0m\n\u001b[1;32m      2\u001b[0m \u001b[0;32mdef\u001b[0m \u001b[0mf\u001b[0m\u001b[0;34m(\u001b[0m\u001b[0mx\u001b[0m\u001b[0;34m)\u001b[0m\u001b[0;34m:\u001b[0m\u001b[0;34m\u001b[0m\u001b[0;34m\u001b[0m\u001b[0m\n\u001b[0;32m----> 3\u001b[0;31m     \u001b[0;32mif\u001b[0m \u001b[0mx\u001b[0m \u001b[0;34m<\u001b[0m \u001b[0;36m3\u001b[0m\u001b[0;34m:\u001b[0m\u001b[0;34m\u001b[0m\u001b[0;34m\u001b[0m\u001b[0m\n\u001b[0m\u001b[1;32m      4\u001b[0m         \u001b[0;32mreturn\u001b[0m \u001b[0;36m3.\u001b[0m \u001b[0;34m*\u001b[0m \u001b[0mx\u001b[0m \u001b[0;34m**\u001b[0m \u001b[0;36m2\u001b[0m\u001b[0;34m\u001b[0m\u001b[0;34m\u001b[0m\u001b[0m\n\u001b[1;32m      5\u001b[0m     \u001b[0;32melse\u001b[0m\u001b[0;34m:\u001b[0m\u001b[0;34m\u001b[0m\u001b[0;34m\u001b[0m\u001b[0m\n",
      "    \u001b[0;31m[... skipping hidden 1 frame]\u001b[0m\n",
      "\u001b[0;32m/cvmfs/sft.cern.ch/lcg/views/LCG_102b_swan/x86_64-centos7-gcc11-opt/lib/python3.9/site-packages/jax/core.py\u001b[0m in \u001b[0;36merror\u001b[0;34m(self, arg)\u001b[0m\n\u001b[1;32m   1044\u001b[0m                       f\"or `jnp.array(x, {fun.__name__})` instead.\")\n\u001b[1;32m   1045\u001b[0m   \u001b[0;32mdef\u001b[0m \u001b[0merror\u001b[0m\u001b[0;34m(\u001b[0m\u001b[0mself\u001b[0m\u001b[0;34m,\u001b[0m \u001b[0marg\u001b[0m\u001b[0;34m)\u001b[0m\u001b[0;34m:\u001b[0m\u001b[0;34m\u001b[0m\u001b[0;34m\u001b[0m\u001b[0m\n\u001b[0;32m-> 1046\u001b[0;31m     \u001b[0;32mraise\u001b[0m \u001b[0mConcretizationTypeError\u001b[0m\u001b[0;34m(\u001b[0m\u001b[0marg\u001b[0m\u001b[0;34m,\u001b[0m \u001b[0mfname_context\u001b[0m\u001b[0;34m)\u001b[0m\u001b[0;34m\u001b[0m\u001b[0;34m\u001b[0m\u001b[0m\n\u001b[0m\u001b[1;32m   1047\u001b[0m   \u001b[0;32mreturn\u001b[0m \u001b[0merror\u001b[0m\u001b[0;34m\u001b[0m\u001b[0;34m\u001b[0m\u001b[0m\n\u001b[1;32m   1048\u001b[0m \u001b[0;34m\u001b[0m\u001b[0m\n",
      "\u001b[0;31mConcretizationTypeError\u001b[0m: Abstract tracer value encountered where concrete value is expected: Traced<ShapedArray(bool[], weak_type=True)>with<DynamicJaxprTrace(level=0/1)>\nThe problem arose with the `bool` function. \nWhile tracing the function f at /tmp/ipykernel_538/3701872584.py:1 for jit, this concrete value was not available in Python because it depends on the value of the argument 'x'.\n\nSee https://jax.readthedocs.io/en/latest/errors.html#jax.errors.ConcretizationTypeError"
     ]
    }
   ],
   "source": [
    "# Let's see this for a simple example\n",
    "\n",
    "@jit\n",
    "def f(x):\n",
    "    if x < 3:                        # Forcing the traced input to take on a value\n",
    "        return 3. * x ** 2\n",
    "    else:\n",
    "        return -4 * x\n",
    "\n",
    "# This will fail!\n",
    "f(2)"
   ]
  },
  {
   "cell_type": "markdown",
   "id": "b2dc8d72",
   "metadata": {},
   "source": [
    "<br>"
   ]
  },
  {
   "cell_type": "code",
   "execution_count": 60,
   "id": "1b0d90e7",
   "metadata": {
    "slideshow": {
     "slide_type": "slide"
    }
   },
   "outputs": [
    {
     "data": {
      "text/plain": [
       "DeviceArray(12., dtype=float32, weak_type=True)"
      ]
     },
     "execution_count": 60,
     "metadata": {},
     "output_type": "execute_result"
    }
   ],
   "source": [
    "# Let's try to use JAX control flow on this function\n",
    "import jax\n",
    "\n",
    "@jit\n",
    "def f(x):\n",
    "    return jax.lax.cond(x < 3.0, lambda y: 3.0 * y ** 2, lambda y: -4.0 * y, x)\n",
    "\n",
    "# This will NOT fail!\n",
    "f(2)"
   ]
  },
  {
   "cell_type": "markdown",
   "id": "3bbcae7b",
   "metadata": {},
   "source": [
    "<br>"
   ]
  },
  {
   "cell_type": "markdown",
   "id": "fef1fdbf",
   "metadata": {
    "slideshow": {
     "slide_type": "slide"
    }
   },
   "source": [
    "Let's see how JAX traces out this function when we used it's primitive control flow `lax.cond`:"
   ]
  },
  {
   "cell_type": "markdown",
   "id": "675a00ed",
   "metadata": {
    "slideshow": {
     "slide_type": "-"
    }
   },
   "source": [
    "<br>"
   ]
  },
  {
   "cell_type": "code",
   "execution_count": 61,
   "id": "9e03ace2",
   "metadata": {
    "slideshow": {
     "slide_type": "slide"
    }
   },
   "outputs": [
    {
     "data": {
      "text/plain": [
       "{ lambda ; a:i32[]. let\n",
       "    b:f32[] = xla_call[\n",
       "      call_jaxpr={ lambda ; c:i32[]. let\n",
       "          d:f32[] = convert_element_type[new_dtype=float32 weak_type=True] c\n",
       "          e:bool[] = lt d 3.0\n",
       "          f:i32[] = convert_element_type[new_dtype=int32 weak_type=False] e\n",
       "          g:f32[] = cond[\n",
       "            branches=(\n",
       "              { lambda ; h:i32[]. let\n",
       "                  i:f32[] = convert_element_type[\n",
       "                    new_dtype=float32\n",
       "                    weak_type=True\n",
       "                  ] h\n",
       "                  j:f32[] = mul i -4.0\n",
       "                in (j,) }\n",
       "              { lambda ; k:i32[]. let\n",
       "                  l:i32[] = integer_pow[y=2] k\n",
       "                  m:f32[] = convert_element_type[\n",
       "                    new_dtype=float32\n",
       "                    weak_type=True\n",
       "                  ] l\n",
       "                  n:f32[] = mul m 3.0\n",
       "                in (n,) }\n",
       "            )\n",
       "            linear=(False,)\n",
       "          ] f c\n",
       "        in (g,) }\n",
       "      name=f\n",
       "    ] a\n",
       "  in (b,) }"
      ]
     },
     "execution_count": 61,
     "metadata": {},
     "output_type": "execute_result"
    }
   ],
   "source": [
    "make_jaxpr(f)(2)     # See how the code is branched out for either possibilities!"
   ]
  },
  {
   "cell_type": "markdown",
   "id": "a0bece34",
   "metadata": {},
   "source": [
    "<br>"
   ]
  },
  {
   "cell_type": "markdown",
   "id": "cca68d3a",
   "metadata": {
    "slideshow": {
     "slide_type": "slide"
    }
   },
   "source": [
    "That is all for today's lectures! For more information on the other similar operations, you may refer to https://jax.readthedocs.io/en/latest/notebooks/Common_Gotchas_in_JAX.html#control-flow.\n",
    "\n",
    "<br>\n",
    "\n",
    "In the exercise today you will convert the test statistic funtion from exercise 2 into one that uses JAX's control flow operations and see the magic!"
   ]
  }
 ],
 "metadata": {
  "celltoolbar": "Slideshow",
  "kernelspec": {
   "display_name": "Python 3",
   "language": "python",
   "name": "python3"
  },
  "language_info": {
   "codemirror_mode": {
    "name": "ipython",
    "version": 3
   },
   "file_extension": ".py",
   "mimetype": "text/x-python",
   "name": "python",
   "nbconvert_exporter": "python",
   "pygments_lexer": "ipython3",
   "version": "3.9.12"
  }
 },
 "nbformat": 4,
 "nbformat_minor": 5
}
